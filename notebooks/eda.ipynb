{
  "cells": [
    {
      "cell_type": "markdown",
      "metadata": {
        "id": "Y3XTtDa2FWPn"
      },
      "source": [
        "# EDA в NLP"
      ]
    },
    {
      "cell_type": "markdown",
      "metadata": {
        "id": "rYrQ_UhWFWPp"
      },
      "source": [
        "## Зависимости"
      ]
    },
    {
      "cell_type": "code",
      "execution_count": null,
      "metadata": {
        "colab": {
          "base_uri": "https://localhost:8080/"
        },
        "id": "UtMLAneQFWPp",
        "outputId": "65980cf2-0a1b-4ab6-b116-02607835a510"
      },
      "outputs": [
        {
          "output_type": "stream",
          "name": "stdout",
          "text": [
            "Collecting datasets==2.1.0\n",
            "  Downloading datasets-2.1.0-py3-none-any.whl (325 kB)\n",
            "\u001b[?25l\r\u001b[K     |█                               | 10 kB 30.1 MB/s eta 0:00:01\r\u001b[K     |██                              | 20 kB 9.8 MB/s eta 0:00:01\r\u001b[K     |███                             | 30 kB 8.3 MB/s eta 0:00:01\r\u001b[K     |████                            | 40 kB 7.6 MB/s eta 0:00:01\r\u001b[K     |█████                           | 51 kB 3.6 MB/s eta 0:00:01\r\u001b[K     |██████                          | 61 kB 4.3 MB/s eta 0:00:01\r\u001b[K     |███████                         | 71 kB 4.2 MB/s eta 0:00:01\r\u001b[K     |████████                        | 81 kB 4.5 MB/s eta 0:00:01\r\u001b[K     |█████████                       | 92 kB 5.0 MB/s eta 0:00:01\r\u001b[K     |██████████                      | 102 kB 4.3 MB/s eta 0:00:01\r\u001b[K     |███████████                     | 112 kB 4.3 MB/s eta 0:00:01\r\u001b[K     |████████████                    | 122 kB 4.3 MB/s eta 0:00:01\r\u001b[K     |█████████████                   | 133 kB 4.3 MB/s eta 0:00:01\r\u001b[K     |██████████████                  | 143 kB 4.3 MB/s eta 0:00:01\r\u001b[K     |███████████████                 | 153 kB 4.3 MB/s eta 0:00:01\r\u001b[K     |████████████████▏               | 163 kB 4.3 MB/s eta 0:00:01\r\u001b[K     |█████████████████▏              | 174 kB 4.3 MB/s eta 0:00:01\r\u001b[K     |██████████████████▏             | 184 kB 4.3 MB/s eta 0:00:01\r\u001b[K     |███████████████████▏            | 194 kB 4.3 MB/s eta 0:00:01\r\u001b[K     |████████████████████▏           | 204 kB 4.3 MB/s eta 0:00:01\r\u001b[K     |█████████████████████▏          | 215 kB 4.3 MB/s eta 0:00:01\r\u001b[K     |██████████████████████▏         | 225 kB 4.3 MB/s eta 0:00:01\r\u001b[K     |███████████████████████▏        | 235 kB 4.3 MB/s eta 0:00:01\r\u001b[K     |████████████████████████▏       | 245 kB 4.3 MB/s eta 0:00:01\r\u001b[K     |█████████████████████████▏      | 256 kB 4.3 MB/s eta 0:00:01\r\u001b[K     |██████████████████████████▏     | 266 kB 4.3 MB/s eta 0:00:01\r\u001b[K     |███████████████████████████▏    | 276 kB 4.3 MB/s eta 0:00:01\r\u001b[K     |████████████████████████████▏   | 286 kB 4.3 MB/s eta 0:00:01\r\u001b[K     |█████████████████████████████▏  | 296 kB 4.3 MB/s eta 0:00:01\r\u001b[K     |██████████████████████████████▏ | 307 kB 4.3 MB/s eta 0:00:01\r\u001b[K     |███████████████████████████████▏| 317 kB 4.3 MB/s eta 0:00:01\r\u001b[K     |████████████████████████████████| 325 kB 4.3 MB/s \n",
            "\u001b[?25hRequirement already satisfied: seaborn==0.11.2 in /usr/local/lib/python3.7/dist-packages (0.11.2)\n",
            "Requirement already satisfied: scikit-learn==1.0.2 in /usr/local/lib/python3.7/dist-packages (1.0.2)\n",
            "Collecting gensim==4.2.0\n",
            "  Downloading gensim-4.2.0-cp37-cp37m-manylinux_2_12_x86_64.manylinux2010_x86_64.whl (24.1 MB)\n",
            "\u001b[K     |████████████████████████████████| 24.1 MB 1.8 MB/s \n",
            "\u001b[?25hCollecting nltk==3.7\n",
            "  Downloading nltk-3.7-py3-none-any.whl (1.5 MB)\n",
            "\u001b[K     |████████████████████████████████| 1.5 MB 36.7 MB/s \n",
            "\u001b[?25hRequirement already satisfied: pymystem3==0.2.0 in /usr/local/lib/python3.7/dist-packages (0.2.0)\n",
            "Collecting pyLDAvis==3.3.1\n",
            "  Downloading pyLDAvis-3.3.1.tar.gz (1.7 MB)\n",
            "\u001b[K     |████████████████████████████████| 1.7 MB 41.5 MB/s \n",
            "\u001b[?25h  Installing build dependencies ... \u001b[?25l\u001b[?25hdone\n",
            "  Getting requirements to build wheel ... \u001b[?25l\u001b[?25hdone\n",
            "  Installing backend dependencies ... \u001b[?25l\u001b[?25hdone\n",
            "    Preparing wheel metadata ... \u001b[?25l\u001b[?25hdone\n",
            "Collecting xxhash\n",
            "  Downloading xxhash-3.0.0-cp37-cp37m-manylinux_2_17_x86_64.manylinux2014_x86_64.whl (212 kB)\n",
            "\u001b[K     |████████████████████████████████| 212 kB 52.4 MB/s \n",
            "\u001b[?25hRequirement already satisfied: tqdm>=4.62.1 in /usr/local/lib/python3.7/dist-packages (from datasets==2.1.0) (4.64.0)\n",
            "Collecting aiohttp\n",
            "  Downloading aiohttp-3.8.1-cp37-cp37m-manylinux_2_5_x86_64.manylinux1_x86_64.manylinux_2_12_x86_64.manylinux2010_x86_64.whl (1.1 MB)\n",
            "\u001b[K     |████████████████████████████████| 1.1 MB 9.8 MB/s \n",
            "\u001b[?25hRequirement already satisfied: importlib-metadata in /usr/local/lib/python3.7/dist-packages (from datasets==2.1.0) (4.11.3)\n",
            "Requirement already satisfied: multiprocess in /usr/local/lib/python3.7/dist-packages (from datasets==2.1.0) (0.70.12.2)\n",
            "Requirement already satisfied: requests>=2.19.0 in /usr/local/lib/python3.7/dist-packages (from datasets==2.1.0) (2.23.0)\n",
            "Requirement already satisfied: numpy>=1.17 in /usr/local/lib/python3.7/dist-packages (from datasets==2.1.0) (1.21.6)\n",
            "Collecting huggingface-hub<1.0.0,>=0.1.0\n",
            "  Downloading huggingface_hub-0.5.1-py3-none-any.whl (77 kB)\n",
            "\u001b[K     |████████████████████████████████| 77 kB 6.4 MB/s \n",
            "\u001b[?25hCollecting responses<0.19\n",
            "  Downloading responses-0.18.0-py3-none-any.whl (38 kB)\n",
            "Requirement already satisfied: packaging in /usr/local/lib/python3.7/dist-packages (from datasets==2.1.0) (21.3)\n",
            "Requirement already satisfied: dill in /usr/local/lib/python3.7/dist-packages (from datasets==2.1.0) (0.3.4)\n",
            "Requirement already satisfied: pandas in /usr/local/lib/python3.7/dist-packages (from datasets==2.1.0) (1.3.5)\n",
            "Requirement already satisfied: pyarrow>=5.0.0 in /usr/local/lib/python3.7/dist-packages (from datasets==2.1.0) (6.0.1)\n",
            "Collecting fsspec[http]>=2021.05.0\n",
            "  Downloading fsspec-2022.3.0-py3-none-any.whl (136 kB)\n",
            "\u001b[K     |████████████████████████████████| 136 kB 53.9 MB/s \n",
            "\u001b[?25hRequirement already satisfied: matplotlib>=2.2 in /usr/local/lib/python3.7/dist-packages (from seaborn==0.11.2) (3.2.2)\n",
            "Requirement already satisfied: scipy>=1.0 in /usr/local/lib/python3.7/dist-packages (from seaborn==0.11.2) (1.4.1)\n",
            "Requirement already satisfied: joblib>=0.11 in /usr/local/lib/python3.7/dist-packages (from scikit-learn==1.0.2) (1.1.0)\n",
            "Requirement already satisfied: threadpoolctl>=2.0.0 in /usr/local/lib/python3.7/dist-packages (from scikit-learn==1.0.2) (3.1.0)\n",
            "Requirement already satisfied: smart-open>=1.8.1 in /usr/local/lib/python3.7/dist-packages (from gensim==4.2.0) (6.0.0)\n",
            "Collecting regex>=2021.8.3\n",
            "  Downloading regex-2022.4.24-cp37-cp37m-manylinux_2_17_x86_64.manylinux2014_x86_64.whl (749 kB)\n",
            "\u001b[K     |████████████████████████████████| 749 kB 49.5 MB/s \n",
            "\u001b[?25hRequirement already satisfied: click in /usr/local/lib/python3.7/dist-packages (from nltk==3.7) (7.1.2)\n",
            "Requirement already satisfied: sklearn in /usr/local/lib/python3.7/dist-packages (from pyLDAvis==3.3.1) (0.0)\n",
            "Requirement already satisfied: setuptools in /usr/local/lib/python3.7/dist-packages (from pyLDAvis==3.3.1) (57.4.0)\n",
            "Requirement already satisfied: jinja2 in /usr/local/lib/python3.7/dist-packages (from pyLDAvis==3.3.1) (2.11.3)\n",
            "Requirement already satisfied: numexpr in /usr/local/lib/python3.7/dist-packages (from pyLDAvis==3.3.1) (2.8.1)\n",
            "Collecting funcy\n",
            "  Downloading funcy-1.17-py2.py3-none-any.whl (33 kB)\n",
            "Requirement already satisfied: future in /usr/local/lib/python3.7/dist-packages (from pyLDAvis==3.3.1) (0.16.0)\n",
            "Requirement already satisfied: pyyaml in /usr/local/lib/python3.7/dist-packages (from huggingface-hub<1.0.0,>=0.1.0->datasets==2.1.0) (3.13)\n",
            "Requirement already satisfied: filelock in /usr/local/lib/python3.7/dist-packages (from huggingface-hub<1.0.0,>=0.1.0->datasets==2.1.0) (3.6.0)\n",
            "Requirement already satisfied: typing-extensions>=3.7.4.3 in /usr/local/lib/python3.7/dist-packages (from huggingface-hub<1.0.0,>=0.1.0->datasets==2.1.0) (4.2.0)\n",
            "Requirement already satisfied: python-dateutil>=2.1 in /usr/local/lib/python3.7/dist-packages (from matplotlib>=2.2->seaborn==0.11.2) (2.8.2)\n",
            "Requirement already satisfied: pyparsing!=2.0.4,!=2.1.2,!=2.1.6,>=2.0.1 in /usr/local/lib/python3.7/dist-packages (from matplotlib>=2.2->seaborn==0.11.2) (3.0.8)\n",
            "Requirement already satisfied: kiwisolver>=1.0.1 in /usr/local/lib/python3.7/dist-packages (from matplotlib>=2.2->seaborn==0.11.2) (1.4.2)\n",
            "Requirement already satisfied: cycler>=0.10 in /usr/local/lib/python3.7/dist-packages (from matplotlib>=2.2->seaborn==0.11.2) (0.11.0)\n",
            "Requirement already satisfied: pytz>=2017.3 in /usr/local/lib/python3.7/dist-packages (from pandas->datasets==2.1.0) (2022.1)\n",
            "Requirement already satisfied: six>=1.5 in /usr/local/lib/python3.7/dist-packages (from python-dateutil>=2.1->matplotlib>=2.2->seaborn==0.11.2) (1.15.0)\n",
            "Requirement already satisfied: certifi>=2017.4.17 in /usr/local/lib/python3.7/dist-packages (from requests>=2.19.0->datasets==2.1.0) (2021.10.8)\n",
            "Requirement already satisfied: urllib3!=1.25.0,!=1.25.1,<1.26,>=1.21.1 in /usr/local/lib/python3.7/dist-packages (from requests>=2.19.0->datasets==2.1.0) (1.24.3)\n",
            "Requirement already satisfied: idna<3,>=2.5 in /usr/local/lib/python3.7/dist-packages (from requests>=2.19.0->datasets==2.1.0) (2.10)\n",
            "Requirement already satisfied: chardet<4,>=3.0.2 in /usr/local/lib/python3.7/dist-packages (from requests>=2.19.0->datasets==2.1.0) (3.0.4)\n",
            "Collecting urllib3!=1.25.0,!=1.25.1,<1.26,>=1.21.1\n",
            "  Downloading urllib3-1.25.11-py2.py3-none-any.whl (127 kB)\n",
            "\u001b[K     |████████████████████████████████| 127 kB 49.0 MB/s \n",
            "\u001b[?25hCollecting frozenlist>=1.1.1\n",
            "  Downloading frozenlist-1.3.0-cp37-cp37m-manylinux_2_5_x86_64.manylinux1_x86_64.manylinux_2_17_x86_64.manylinux2014_x86_64.whl (144 kB)\n",
            "\u001b[K     |████████████████████████████████| 144 kB 50.9 MB/s \n",
            "\u001b[?25hCollecting aiosignal>=1.1.2\n",
            "  Downloading aiosignal-1.2.0-py3-none-any.whl (8.2 kB)\n",
            "Collecting async-timeout<5.0,>=4.0.0a3\n",
            "  Downloading async_timeout-4.0.2-py3-none-any.whl (5.8 kB)\n",
            "Requirement already satisfied: charset-normalizer<3.0,>=2.0 in /usr/local/lib/python3.7/dist-packages (from aiohttp->datasets==2.1.0) (2.0.12)\n",
            "Requirement already satisfied: attrs>=17.3.0 in /usr/local/lib/python3.7/dist-packages (from aiohttp->datasets==2.1.0) (21.4.0)\n",
            "Collecting yarl<2.0,>=1.0\n",
            "  Downloading yarl-1.7.2-cp37-cp37m-manylinux_2_5_x86_64.manylinux1_x86_64.manylinux_2_12_x86_64.manylinux2010_x86_64.whl (271 kB)\n",
            "\u001b[K     |████████████████████████████████| 271 kB 56.6 MB/s \n",
            "\u001b[?25hCollecting multidict<7.0,>=4.5\n",
            "  Downloading multidict-6.0.2-cp37-cp37m-manylinux_2_17_x86_64.manylinux2014_x86_64.whl (94 kB)\n",
            "\u001b[K     |████████████████████████████████| 94 kB 4.1 MB/s \n",
            "\u001b[?25hCollecting asynctest==0.13.0\n",
            "  Downloading asynctest-0.13.0-py3-none-any.whl (26 kB)\n",
            "Requirement already satisfied: zipp>=0.5 in /usr/local/lib/python3.7/dist-packages (from importlib-metadata->datasets==2.1.0) (3.8.0)\n",
            "Requirement already satisfied: MarkupSafe>=0.23 in /usr/local/lib/python3.7/dist-packages (from jinja2->pyLDAvis==3.3.1) (2.0.1)\n",
            "Building wheels for collected packages: pyLDAvis\n",
            "  Building wheel for pyLDAvis (PEP 517) ... \u001b[?25l\u001b[?25hdone\n",
            "  Created wheel for pyLDAvis: filename=pyLDAvis-3.3.1-py2.py3-none-any.whl size=136898 sha256=a1b33bdc33480f5bbc14052b190cfffa1570f1017026e94f3ae3a385d94cf225\n",
            "  Stored in directory: /root/.cache/pip/wheels/c9/21/f6/17bcf2667e8a68532ba2fbf6d5c72fdf4c7f7d9abfa4852d2f\n",
            "Successfully built pyLDAvis\n",
            "Installing collected packages: multidict, frozenlist, yarl, urllib3, asynctest, async-timeout, aiosignal, fsspec, aiohttp, xxhash, responses, regex, huggingface-hub, gensim, funcy, pyLDAvis, nltk, datasets\n",
            "  Attempting uninstall: urllib3\n",
            "    Found existing installation: urllib3 1.24.3\n",
            "    Uninstalling urllib3-1.24.3:\n",
            "      Successfully uninstalled urllib3-1.24.3\n",
            "  Attempting uninstall: regex\n",
            "    Found existing installation: regex 2019.12.20\n",
            "    Uninstalling regex-2019.12.20:\n",
            "      Successfully uninstalled regex-2019.12.20\n",
            "  Attempting uninstall: gensim\n",
            "    Found existing installation: gensim 3.6.0\n",
            "    Uninstalling gensim-3.6.0:\n",
            "      Successfully uninstalled gensim-3.6.0\n",
            "  Attempting uninstall: nltk\n",
            "    Found existing installation: nltk 3.2.5\n",
            "    Uninstalling nltk-3.2.5:\n",
            "      Successfully uninstalled nltk-3.2.5\n",
            "\u001b[31mERROR: pip's dependency resolver does not currently take into account all the packages that are installed. This behaviour is the source of the following dependency conflicts.\n",
            "datascience 0.10.6 requires folium==0.2.1, but you have folium 0.8.3 which is incompatible.\u001b[0m\n",
            "Successfully installed aiohttp-3.8.1 aiosignal-1.2.0 async-timeout-4.0.2 asynctest-0.13.0 datasets-2.1.0 frozenlist-1.3.0 fsspec-2022.3.0 funcy-1.17 gensim-4.2.0 huggingface-hub-0.5.1 multidict-6.0.2 nltk-3.7 pyLDAvis-3.3.1 regex-2022.4.24 responses-0.18.0 urllib3-1.25.11 xxhash-3.0.0 yarl-1.7.2\n"
          ]
        }
      ],
      "source": [
        "!pip install datasets==2.1.0 seaborn==0.11.2 scikit-learn==1.0.2 gensim==4.2.0 nltk==3.7 pymystem3==0.2.0 pyLDAvis==3.3.1"
      ]
    },
    {
      "cell_type": "code",
      "source": [
        "!python -m nltk.downloader stopwords"
      ],
      "metadata": {
        "colab": {
          "base_uri": "https://localhost:8080/"
        },
        "id": "gyWJVmPoMSw4",
        "outputId": "31827c69-c29f-4f48-de4e-0d9991ac8f49"
      },
      "execution_count": null,
      "outputs": [
        {
          "output_type": "stream",
          "name": "stdout",
          "text": [
            "/usr/lib/python3.7/runpy.py:125: RuntimeWarning: 'nltk.downloader' found in sys.modules after import of package 'nltk', but prior to execution of 'nltk.downloader'; this may result in unpredictable behaviour\n",
            "  warn(RuntimeWarning(msg))\n",
            "[nltk_data] Downloading package stopwords to /root/nltk_data...\n",
            "[nltk_data]   Unzipping corpora/stopwords.zip.\n"
          ]
        }
      ]
    },
    {
      "cell_type": "code",
      "execution_count": null,
      "metadata": {
        "colab": {
          "base_uri": "https://localhost:8080/"
        },
        "id": "L_FCa-6LFWPq",
        "outputId": "028340ec-7770-4726-f000-b7c26b0f50ff"
      },
      "outputs": [
        {
          "output_type": "stream",
          "name": "stderr",
          "text": [
            "Installing mystem to /root/.local/bin/mystem from http://download.cdn.yandex.net/mystem/mystem-3.1-linux-64bit.tar.gz\n",
            "[nltk_data] Downloading package stopwords to /root/nltk_data...\n",
            "[nltk_data]   Package stopwords is already up-to-date!\n"
          ]
        },
        {
          "output_type": "execute_result",
          "data": {
            "text/plain": [
              "True"
            ]
          },
          "metadata": {},
          "execution_count": 3
        }
      ],
      "source": [
        "\n",
        "from datasets import load_dataset\n",
        "from gensim import corpora\n",
        "from gensim.models.ldamodel import LdaModel\n",
        "from nltk.corpus import stopwords\n",
        "from nltk.stem.snowball import SnowballStemmer \n",
        "from pymystem3 import Mystem\n",
        "from sklearn.feature_extraction.text import TfidfVectorizer\n",
        "from sklearn.linear_model import LogisticRegression\n",
        "import nltk\n",
        "import numpy as np\n",
        "import pandas as pd\n",
        "import seaborn as sns\n",
        "\n",
        "from string import punctuation\n",
        "\n",
        "#Create lemmatizer and stopwords list\n",
        "mystem = Mystem() \n",
        "russian_stopwords = stopwords.words(\"russian\")\n",
        "\n",
        "nltk.download(\"stopwords\")"
      ]
    },
    {
      "cell_type": "markdown",
      "metadata": {
        "id": "nXxCwCfIFWPq"
      },
      "source": [
        "## Статистика по датасету"
      ]
    },
    {
      "cell_type": "code",
      "execution_count": null,
      "metadata": {
        "colab": {
          "base_uri": "https://localhost:8080/",
          "height": 233,
          "referenced_widgets": [
            "2fdcf96aa8ba4f2aab183d10454bea09",
            "f2efd067674c4906aea31bb12e4ddc4d",
            "aac561a7c0864e219700b1775d2c3f7e",
            "033a421ae3994dc48de1627b0d2654d7",
            "b9cb4e5f61904ae08382f5e0b81cfdef",
            "5bfc3a2f6f794422a5b84ec274132e21",
            "304762767a67408b8f5abc294232e7e3",
            "241aeef321ee4a00a31aefd7fd236209",
            "113fca8ec71846089eca36d4ac94ea33",
            "390dcac36c4c4d0cba90b87f06c03da4",
            "38958c03efa24d07a03bbff8f039ed1c",
            "e7131567ac7c4ea4bcfde86c480e9c68",
            "a659dc29109f4f0e8fddbe7ed9cb7164",
            "1c8dec35dcad4371b354fa34eab1e79f",
            "06e5abfcd74d4bbda24f74da70b587dc",
            "6f3c62e1074247bba47087fe9bfdd996",
            "87ae62d9b33f47f28f499923e464a4b1",
            "4c32528d2e4144fd9c1b4e311a233fa2",
            "44643993b4974ae08e3c0b2f6ddd762e",
            "279d70f0472e46848b14f9fad5faceed",
            "2e3dd320b360467f823e32e64fec6d90",
            "54cf603b696e4d1a905cb560931737dd",
            "1e3eda31d3e14ad588ec625d4b25e9bb",
            "47bf685535a3406fb5cbe23d354c7a92",
            "cccc4247e62f4364941925ebd7a157b8",
            "0a8c6782570349ef9e9d54a3893562b3",
            "e7b19ec381184561a876047c78e1e8d8",
            "801cb8412c934e0f8b9dcb6e91269f59",
            "1e1f8ba3785c47a296445dbd01256e0e",
            "52601f2509ce4078b5a7499331a42e78",
            "d6a9273d078d4eed9aac974ed9e42c17",
            "02d6cf054e404dd0a00f8bc4c4c4b371",
            "3ecfffca7e6943228862c3c3c25f30b5",
            "400049693b7a49e78c2252f80dd734a8",
            "27bc729b25d24dad974f185227212226",
            "56b7af68d05b492b9c1ba0fbaf2c69cf",
            "246d1877d1f24e419d964d25be0d9fad",
            "3e62f9a7c2f04d3b866d13854029ee82",
            "0d5d4d22f3de43de8afd8c80556d092c",
            "e5d3021bfd0c4d67a2ea0ad1f2fdca04",
            "751c5c2b893e4eee87357c958a75d41e",
            "b1b7fa4887c040348c3ab92c203e1d07",
            "bec7559cec5a4d899196f70a7f0882cb",
            "b9512e880fe84d08825104914ecdc2a9",
            "a354f0c03397441a99a5976df3da795d",
            "2f6e4f9a5941430f8f1319643f2ddcdc",
            "e7aa6c2ca71e46d1969ca93ca6bb72b1",
            "595ac1fa40b04a3f829bb1f4d17cf7cd",
            "6ae60109107140d2ab7e757101c9d388",
            "8f61dc7307844ba2bcfa56ecf6528c7d",
            "982de1ee19474040b7ccea0339adeee0",
            "8c48fbc040dd4bd8860e84c27cf599a5",
            "cfe797965104436dbd7d40cee508acdf",
            "7eb61e43e22e4e95b2757348c0871c70",
            "99a7f5525aac486da1516871d87b4854",
            "e24838b61bc94bcf8d10f7e2e2166c2d",
            "e52fac015cfe4257800abbc6a800128d",
            "c485c7f584ec4aaeaa28d0a38093f0c0",
            "0b405aaf796c449aa6ccfae846d84ec8",
            "124fac4767d04ea6b4acdfe3ef79d4a5",
            "241a4227dbe84686b9feff9081cab632",
            "0c6b1026e10d40ef8519f3ba44bae4e7",
            "556fa402aafe473e875cd798036377c8",
            "9c9c12e6541d4c6d8fa8fc2b70cd945e",
            "b67729a9d38e4eac88b97eca2d82f961",
            "7f1d3c7314b240e0ad65633da6b11572",
            "1e56e75b15a74aad8379c625fecdc0d7",
            "9bd0b8f8ecc0448b949d895631260537",
            "e8946ae6111b4863a8c169f5a4bee662",
            "b3a9577aef27453d8b6ae729167871ca",
            "d9946d8b77704ad2983a2089824cee50",
            "21b07457cb93494c82d56a80d3ad2de2",
            "ebcac9d2c0114580af653c84e99df7e2",
            "f42221d7e9be4fff99832eb5bf559f94",
            "01dbfdbb090f43789907c728d6f69fec",
            "fd9b4870ae20430b86de3ef3c78e6250",
            "e78dacc328dc4f7aaf1124b2dca60da0"
          ]
        },
        "id": "CfGfFHXoFWPr",
        "outputId": "54b6c16b-2f01-4b7d-e6ac-3e9587705745"
      },
      "outputs": [
        {
          "output_type": "display_data",
          "data": {
            "text/plain": [
              "Downloading builder script:   0%|          | 0.00/2.64k [00:00<?, ?B/s]"
            ],
            "application/vnd.jupyter.widget-view+json": {
              "version_major": 2,
              "version_minor": 0,
              "model_id": "2fdcf96aa8ba4f2aab183d10454bea09"
            }
          },
          "metadata": {}
        },
        {
          "output_type": "stream",
          "name": "stdout",
          "text": [
            "Downloading and preparing dataset kinopoisk/simple to /root/.cache/huggingface/datasets/blinoff___kinopoisk/simple/1.0.0/62f52027aea59f64f49c7b16165b82cb4dc45031bad3660c2719bf2a6ea4a44e...\n"
          ]
        },
        {
          "output_type": "display_data",
          "data": {
            "text/plain": [
              "Downloading data files:   0%|          | 0/2 [00:00<?, ?it/s]"
            ],
            "application/vnd.jupyter.widget-view+json": {
              "version_major": 2,
              "version_minor": 0,
              "model_id": "e7131567ac7c4ea4bcfde86c480e9c68"
            }
          },
          "metadata": {}
        },
        {
          "output_type": "display_data",
          "data": {
            "text/plain": [
              "Downloading data:   0%|          | 0.00/143M [00:00<?, ?B/s]"
            ],
            "application/vnd.jupyter.widget-view+json": {
              "version_major": 2,
              "version_minor": 0,
              "model_id": "1e3eda31d3e14ad588ec625d4b25e9bb"
            }
          },
          "metadata": {}
        },
        {
          "output_type": "display_data",
          "data": {
            "text/plain": [
              "Extracting data files:   0%|          | 0/2 [00:00<?, ?it/s]"
            ],
            "application/vnd.jupyter.widget-view+json": {
              "version_major": 2,
              "version_minor": 0,
              "model_id": "400049693b7a49e78c2252f80dd734a8"
            }
          },
          "metadata": {}
        },
        {
          "output_type": "display_data",
          "data": {
            "text/plain": [
              "Generating train split: 0 examples [00:00, ? examples/s]"
            ],
            "application/vnd.jupyter.widget-view+json": {
              "version_major": 2,
              "version_minor": 0,
              "model_id": "a354f0c03397441a99a5976df3da795d"
            }
          },
          "metadata": {}
        },
        {
          "output_type": "display_data",
          "data": {
            "text/plain": [
              "Generating validation split: 0 examples [00:00, ? examples/s]"
            ],
            "application/vnd.jupyter.widget-view+json": {
              "version_major": 2,
              "version_minor": 0,
              "model_id": "e24838b61bc94bcf8d10f7e2e2166c2d"
            }
          },
          "metadata": {}
        },
        {
          "output_type": "stream",
          "name": "stdout",
          "text": [
            "Dataset kinopoisk downloaded and prepared to /root/.cache/huggingface/datasets/blinoff___kinopoisk/simple/1.0.0/62f52027aea59f64f49c7b16165b82cb4dc45031bad3660c2719bf2a6ea4a44e. Subsequent calls will reuse this data.\n"
          ]
        },
        {
          "output_type": "display_data",
          "data": {
            "text/plain": [
              "  0%|          | 0/2 [00:00<?, ?it/s]"
            ],
            "application/vnd.jupyter.widget-view+json": {
              "version_major": 2,
              "version_minor": 0,
              "model_id": "1e56e75b15a74aad8379c625fecdc0d7"
            }
          },
          "metadata": {}
        }
      ],
      "source": [
        "# Загружаем датасет\n",
        "\n",
        "dataset = load_dataset(\"blinoff/kinopoisk\")"
      ]
    },
    {
      "cell_type": "code",
      "source": [
        "dataset"
      ],
      "metadata": {
        "colab": {
          "base_uri": "https://localhost:8080/"
        },
        "id": "wZ0-jmNIZmkC",
        "outputId": "7b074283-a3cc-4cd4-bc8f-7fe5d51260ce"
      },
      "execution_count": null,
      "outputs": [
        {
          "output_type": "execute_result",
          "data": {
            "text/plain": [
              "DatasetDict({\n",
              "    train: Dataset({\n",
              "        features: ['content', 'title', 'grade3', 'movie_name', 'part', 'review_id', 'author', 'date', 'grade10', 'Idx'],\n",
              "        num_rows: 36591\n",
              "    })\n",
              "    validation: Dataset({\n",
              "        features: ['content', 'title', 'grade3', 'movie_name', 'part', 'review_id', 'author', 'date', 'grade10', 'Idx'],\n",
              "        num_rows: 36591\n",
              "    })\n",
              "})"
            ]
          },
          "metadata": {},
          "execution_count": 7
        }
      ]
    },
    {
      "cell_type": "code",
      "execution_count": null,
      "metadata": {
        "colab": {
          "base_uri": "https://localhost:8080/"
        },
        "id": "LDQSegKiFWPr",
        "outputId": "fe389c1d-a8c9-471a-8bf5-ad1849928233"
      },
      "outputs": [
        {
          "output_type": "stream",
          "name": "stdout",
          "text": [
            "Форрест Гамп (1994) Good\n",
            "\n",
            "Смотрю этот фильм в 7 раз и не теряю к нему интереса, а на оборот, каждый раз открываю для себя что-то новое в нём. Начинаю замечать существенные мелочи, которых раньше не видела. И с каждым разом любовь к этому фильму растёт.\n",
            "\n",
            "О чём же этот фильм? Просто о жизни необычного человека или же здесь кроется более глубокий смысл? По крайней мере, я увидела множество моментов, которые заставили меня задуматься над жизнью.\n",
            "\n",
            "Главный вопрос фильма: есть у нас судьба или мы все-таки летим по жизни, как пёрышко? Я и раньше задумывалась над этим, но не находила ответа. Но, посмотрев это фильм — нашла. Теперь я думаю, что всё-таки мы летим, а судьба время от времени предоставляет нам шансы — более короткие пути к счастью и успеху, и тогда уже мы выбираем, воспользоваться этим шансом или нет.\n",
            "\n",
            "Однажды я услышала: «Этот фильм о каком-то дурачке»\n",
            "\n",
            "Я не считаю Форреста дураком. Да, у него невысокое IQ. Да, он немного заторможен. Но он не дурак. Разве дурак стал бы миллионером? Разве дурак смог бы достичь столько в жизни? Форрест просто не такой, как все люди. Он по-другому смотрит на вещи. Он по-другому воспринимает их. Он не такой, как все. Он — особенный. \n",
            "\n",
            "И одной из особенностей Форреста является то, что он делает то, что ему говорят (если это не перечит таким его принципам, как доброта, преданность и выполнение обещаний). Это не значит, что он позволят другим людям манипулировать собой. Нет. Например, пинг-понг. Ему сказали, не сводить глаз с мячика, вот он и не сводил. И он стал чемпионом мира в этом виде спорта. Так было и на войне. Ему сказали — убегать, вот он и убегал. В результате он выжил и стал героем войны. Удивительно, но это так.\n",
            "\n",
            "«Когда лейтенант Ден сказал, что денег нам хватит до конца жизни, я сказал — хорошо, одной проблемой меньше» Эта фраза чётко даёт понять, что Форрест не гонялся за богатством. Он просто выполнял обещание, купив лодку и занявшись ловлей креветок. Но…богатство само к нему пришло! По-моему, это очень важный момент в фильме. Кто-то думает, что это Бог помог Форресту за его преданность. Кто-то думает, что всё дело в принципе быть честным. Но факт остаётся фактом. Именно доброта, честность и преданность Форреста сделали его богатым и счастливым.\n",
            "\n",
            "Ещё одной важной чертой жизни Форреста является то, что для него не существует проблем, которые есть у каждого человека. Он не делает проблему из того, что многие считают его дураком. Он не делает проблему из того, что после всех его заслуг ему предлагают работу газонокасильщика. Некоторые обиделись после такого на весь белый свет, тем самым не давая себе покоя. Но Форрест просто не считает это проблемой. Он принимает вещи и людей такими, какие они есть. И он счастлив!.\n",
            "\n",
            "Форрест Гамп — это ещё один фильм, в котором Том Хэнкс показал всю безграничность своего таланта, вновь покорил всех своим актёрским мастерством. Ведь роль Форреста совсем не проста. Очень сложно понять, что чувствует этот герой и передать его чувства зрителю. Но Том превзошёл самого себя, великолепно справившись с этой ролью, и получил свой второй Оскар.\n",
            "\n",
            "Алан Сильвестри — браво. Огромный ему респект. Музыка, написанная им к этому фильму-шедевру, просто изумительная. Хотя даже это слово не может передать всю красоту этой музыки. Что б понять всё её великолепие, ёё нужно услышать. \n",
            "\n",
            "Ну а Роберта Земекиса можно считать Великим Режиссёром, раз он снял такой Великий фильм. Интересный сюжет, потрясающая игра талантливейших актёров, поразительная музыка, делают фильм — великолепным. Как раз таких фильмов порой и не хватает людям. Фильмов, от просмотров которых получаешь массу удовольствия и в тоже время набираешься жизненного опыта. Фильмов, после которых, от переполняющих тебя эмоций, хочется стать птичкой и полететь, ощутив всю прелесть жизни.\n"
          ]
        }
      ],
      "source": [
        "i = np.random.randint(0, len(dataset[\"train\"]))\n",
        "\n",
        "print(dataset[\"train\"][i][\"movie_name\"], dataset[\"train\"][i][\"grade3\"])\n",
        "print(dataset[\"train\"][i][\"content\"])\n"
      ]
    },
    {
      "cell_type": "markdown",
      "metadata": {
        "id": "yUb3t9DKFWPr"
      },
      "source": [
        "## Предобработка"
      ]
    },
    {
      "cell_type": "code",
      "source": [
        "russian_stopwords"
      ],
      "metadata": {
        "id": "DfXxib0LamXk"
      },
      "execution_count": null,
      "outputs": []
    },
    {
      "cell_type": "code",
      "source": [
        "mystem = Mystem() "
      ],
      "metadata": {
        "id": "nPiJAzASboDT"
      },
      "execution_count": null,
      "outputs": []
    },
    {
      "cell_type": "markdown",
      "metadata": {
        "id": "YS9x3dbMFWPr"
      },
      "source": [
        "### Стемминг"
      ]
    },
    {
      "cell_type": "code",
      "execution_count": null,
      "metadata": {
        "colab": {
          "base_uri": "https://localhost:8080/",
          "height": 57
        },
        "id": "zfItBI38FWPr",
        "outputId": "b4fb62f7-827d-4444-a244-2188d72c22ea"
      },
      "outputs": [
        {
          "output_type": "execute_result",
          "data": {
            "text/plain": [
              "'ну что сказать, я виж кто-т наступ на грабли, ты разочарова меня, ты был натравлен.'"
            ],
            "application/vnd.google.colaboratory.intrinsic+json": {
              "type": "string"
            }
          },
          "metadata": {},
          "execution_count": 9
        }
      ],
      "source": [
        "stemmer = SnowballStemmer(\"russian\") \n",
        "\n",
        "\n",
        "def stem_text(text):\n",
        "    tokens = text.lower()\n",
        "    tokens = [token for token in tokens if token not in russian_stopwords\\\n",
        "              and token != \" \" \\\n",
        "              and token.strip() not in punctuation]\n",
        "    tokens = text.lower().split()\n",
        "    \n",
        "    return \" \".join(list(map(stemmer.stem, tokens)))\n",
        "\n",
        "stem_text(\"Ну что сказать, я вижу кто-то наступил на грабли, Ты разочаровал меня, ты был натравлен.\")"
      ]
    },
    {
      "cell_type": "markdown",
      "metadata": {
        "id": "6U1JG7s-FWPr"
      },
      "source": [
        "### Лемматизация"
      ]
    },
    {
      "cell_type": "code",
      "source": [
        "!pip install pymorphy2"
      ],
      "metadata": {
        "colab": {
          "base_uri": "https://localhost:8080/"
        },
        "id": "-1oGxUv4by_S",
        "outputId": "d36d8129-38d2-48d8-b994-4d8aeed99a08"
      },
      "execution_count": null,
      "outputs": [
        {
          "output_type": "stream",
          "name": "stdout",
          "text": [
            "Collecting pymorphy2\n",
            "  Downloading pymorphy2-0.9.1-py3-none-any.whl (55 kB)\n",
            "\u001b[K     |████████████████████████████████| 55 kB 2.0 MB/s \n",
            "\u001b[?25hCollecting pymorphy2-dicts-ru<3.0,>=2.4\n",
            "  Downloading pymorphy2_dicts_ru-2.4.417127.4579844-py2.py3-none-any.whl (8.2 MB)\n",
            "\u001b[K     |████████████████████████████████| 8.2 MB 6.2 MB/s \n",
            "\u001b[?25hRequirement already satisfied: docopt>=0.6 in /usr/local/lib/python3.7/dist-packages (from pymorphy2) (0.6.2)\n",
            "Collecting dawg-python>=0.7.1\n",
            "  Downloading DAWG_Python-0.7.2-py2.py3-none-any.whl (11 kB)\n",
            "Installing collected packages: pymorphy2-dicts-ru, dawg-python, pymorphy2\n",
            "Successfully installed dawg-python-0.7.2 pymorphy2-0.9.1 pymorphy2-dicts-ru-2.4.417127.4579844\n"
          ]
        }
      ]
    },
    {
      "cell_type": "code",
      "source": [
        "import pymorphy2\n",
        "morph = pymorphy2.MorphAnalyzer() \n"
      ],
      "metadata": {
        "colab": {
          "base_uri": "https://localhost:8080/",
          "height": 57
        },
        "id": "RZQD3rv7bX3Z",
        "outputId": "0460e34f-1f0e-4e1d-b0b0-9f0d2eefcdba"
      },
      "execution_count": null,
      "outputs": [
        {
          "output_type": "execute_result",
          "data": {
            "text/plain": [
              "'наступить'"
            ],
            "application/vnd.google.colaboratory.intrinsic+json": {
              "type": "string"
            }
          },
          "metadata": {},
          "execution_count": 24
        }
      ]
    },
    {
      "cell_type": "code",
      "execution_count": null,
      "metadata": {
        "colab": {
          "base_uri": "https://localhost:8080/",
          "height": 57
        },
        "id": "vpTKMnlfFWPs",
        "outputId": "349a50af-7156-4ae4-b122-e6a69408efe1"
      },
      "outputs": [
        {
          "output_type": "execute_result",
          "data": {
            "text/plain": [
              "'сказать, видеть кто-то наступить грабли, разочаровать меня, натравлен.'"
            ],
            "application/vnd.google.colaboratory.intrinsic+json": {
              "type": "string"
            }
          },
          "metadata": {},
          "execution_count": 28
        }
      ],
      "source": [
        "# %%timeit\n",
        "def lemmatize_text(text):\n",
        "    tokens = list(map(lambda t: morph.parse(t)[0].normal_form, text.split()))\n",
        "    tokens = [token for token in tokens if token not in russian_stopwords \\\n",
        "              and token != \" \" \\\n",
        "              and token.strip() not in punctuation]\n",
        "    \n",
        "    text = \" \".join(tokens)\n",
        "    \n",
        "    return text\n",
        "\n",
        "lemmatize_text(\"Ну что сказать, я вижу кто-то наступил на грабли, Ты разочаровал меня, ты был натравлен.\")"
      ]
    },
    {
      "cell_type": "code",
      "execution_count": null,
      "metadata": {
        "colab": {
          "base_uri": "https://localhost:8080/"
        },
        "id": "QEExsURlFWPs",
        "outputId": "33069471-c40d-4105-81eb-180efd4268c1"
      },
      "outputs": [
        {
          "output_type": "stream",
          "name": "stdout",
          "text": [
            "36,591 кол-во примеров\n",
            "10,828,591 слов\n",
            "632,527 уникальных слов\n"
          ]
        }
      ],
      "source": [
        "from typing import List\n",
        "\n",
        "def flatten(sentences: List[List[str]]) -> List[str]:\n",
        "    result = []\n",
        "    for sentence in sentences:\n",
        "        result += sentence\n",
        "    return result\n",
        "\n",
        "words = flatten(map(lambda text: text.split(), dataset['train'][\"content\"]))\n",
        "n_words = len(words)\n",
        "n_unique_words = len(set(words))\n",
        "\n",
        "print(\"{:,} кол-во примеров\".format(len(dataset[\"train\"])))\n",
        "print(\"{:,} слов\".format(n_words))\n",
        "print(\"{:,} уникальных слов\".format(n_unique_words))"
      ]
    },
    {
      "cell_type": "code",
      "source": [
        "punctuation"
      ],
      "metadata": {
        "colab": {
          "base_uri": "https://localhost:8080/",
          "height": 57
        },
        "id": "31pGmMeig8sP",
        "outputId": "67ad347b-a951-474f-f79f-741987c7132c"
      },
      "execution_count": null,
      "outputs": [
        {
          "output_type": "execute_result",
          "data": {
            "text/plain": [
              "'!\"#$%&\\'()*+,-./:;<=>?@[\\\\]^_`{|}~'"
            ],
            "application/vnd.google.colaboratory.intrinsic+json": {
              "type": "string"
            }
          },
          "metadata": {},
          "execution_count": 30
        }
      ]
    },
    {
      "cell_type": "code",
      "execution_count": null,
      "metadata": {
        "colab": {
          "base_uri": "https://localhost:8080/"
        },
        "id": "hw2-GzNUFWPs",
        "outputId": "a02dc7df-f861-4e71-ba2e-4c02bcf12c7d"
      },
      "outputs": [
        {
          "output_type": "stream",
          "name": "stderr",
          "text": [
            "100%|██████████| 36591/36591 [01:38<00:00, 372.63it/s]\n"
          ]
        }
      ],
      "source": [
        "# TODO: вывести кол-во уникальных лемматизированных слов\n",
        "\n",
        "import tqdm\n",
        "cache = {}\n",
        "\n",
        "def lemmatize_text(text):\n",
        "    tokens = []\n",
        "    for punkt in punctuation:\n",
        "      text = text.replace(punkt, \"\")\n",
        "\n",
        "    for word in text.split():\n",
        "      if word not in cache:\n",
        "        cache[word] = morph.parse(word)[0].normal_form\n",
        "      tokens.append(cache[word])\n",
        "    \n",
        "    text = \" \".join(tokens)\n",
        "    \n",
        "    return text\n",
        "\n",
        "lemmatized = list(\n",
        "    tqdm.tqdm(map(lemmatize_text, dataset['train'][\"content\"]),\n",
        "              total=len(dataset['train'])))"
      ]
    },
    {
      "cell_type": "code",
      "source": [
        "lemmatized[0]"
      ],
      "metadata": {
        "colab": {
          "base_uri": "https://localhost:8080/",
          "height": 200
        },
        "id": "qEOo_ylKicuQ",
        "outputId": "4d4a354e-6651-4476-d5eb-ac4dc8c66304"
      },
      "execution_count": null,
      "outputs": [
        {
          "output_type": "execute_result",
          "data": {
            "text/plain": [
              "'блеф» — один из мой самый любимый комедия этот фильм я наверно смотреть раз сто нет я конечно блефовать я видеть он куда большой не мочь не выразить свой восхищение главный действовать лицо это фильм начать с адриано челентано для который как я считать это хороший роль в кино великолепный актёр неплохой певец странно что на он родина в италия он песня мало кто слушать ну я думать что и итальянец и француз привыкнуть к тот что у мы до сей они актёр популярный чем даже на свой родина да такой вот парадокс челентано конечно профессионал свой дело комик с серьёзный выражение лицо он смешной ещё и потому что одновременно так серъёзный адриано браво а теперь несколько слово о энтони куиня да тот самый горбун из нотрдама собор парижский богоматерь оригинальный версия кто не смотреть рекомендовать с они както приключиться один интересный история на съёмка один из свой фильм он то ли сломать то ли подвихнуть нога а роль требовать от он чтобы в один из сцена он кружиться с дама в танец и он вместе с съёмочный коллектив выйти из это положение они сделать вращаться платформа который создавать видимость тот что он весь в ритм танец вот такой вот история к слово о это замечательный актёр ну и теперь сам фильм жанр который можно смело обозвать авантюра комедийный авантюра некий белля дьюк весьма влиятельный дама пытаться освободить свой старое знакомый авантюрист филипп бенга у который с она давний счёты но вместо он на свобода оказываться другой комбинатораферист по имя феликс и чтобы не быть битый головорез белля дьюк он уже сам разрабатывать план побег бэнг после тот как они встречаться череда смешной сцена заставить зритель разразиться шквальный смех в они умение блефовать они просто нет равный главное правило чтобы блеф сработать надо сам в он поверить помимо весь это они ещё и соревноваться в стратегия блеф некоторый сцена они обман запомниться я надолго особенно сцена в магазин ткань — привет старина так ты выпустить из лепрозорий — не совсем я оттуда сбежать ну или финальный сцена который можно охарактеризовать три слово смех сквозь слеза в завершение сказать что это великолепный кино можно смотреть и пересматривать очень много раз и оно не потерять свой шарм и обаяние 10 из 10'"
            ],
            "application/vnd.google.colaboratory.intrinsic+json": {
              "type": "string"
            }
          },
          "metadata": {},
          "execution_count": 37
        }
      ]
    },
    {
      "cell_type": "code",
      "source": [
        "import tqdm\n",
        "\n",
        "def lemmatize_text(text):\n",
        "    tokens = []\n",
        "    for punkt in punctuation:\n",
        "      text = text.replace(punkt, \"\")\n",
        "    for word in text.split():\n",
        "      tokens.append(morph.parse(word)[0].normal_form)\n",
        "    \n",
        "    text = \" \".join(tokens)\n",
        "    \n",
        "    return text\n",
        "\n",
        "slow_lemmatized = list(\n",
        "    tqdm.tqdm(map(lemmatize_text, dataset['train'][\"content\"]),\n",
        "              total=len(dataset['train'])))"
      ],
      "metadata": {
        "colab": {
          "base_uri": "https://localhost:8080/",
          "height": 407
        },
        "id": "OT41oGF-hNUC",
        "outputId": "c02f4863-4fe5-4e0a-cbbf-402fa1c5d47f"
      },
      "execution_count": null,
      "outputs": [
        {
          "output_type": "stream",
          "name": "stderr",
          "text": [
            "  3%|▎         | 1158/36591 [01:23<42:32, 13.88it/s]\n"
          ]
        },
        {
          "output_type": "error",
          "ename": "KeyboardInterrupt",
          "evalue": "ignored",
          "traceback": [
            "\u001b[0;31m---------------------------------------------------------------------------\u001b[0m",
            "\u001b[0;31mKeyboardInterrupt\u001b[0m                         Traceback (most recent call last)",
            "\u001b[0;32m<ipython-input-36-ffefbdf7e724>\u001b[0m in \u001b[0;36m<module>\u001b[0;34m()\u001b[0m\n\u001b[1;32m     14\u001b[0m slow_lemmatized = list(\n\u001b[1;32m     15\u001b[0m     tqdm.tqdm(map(lemmatize_text, dataset['train'][\"content\"]),\n\u001b[0;32m---> 16\u001b[0;31m               total=len(dataset['train'])))\n\u001b[0m",
            "\u001b[0;32m/usr/local/lib/python3.7/dist-packages/tqdm/std.py\u001b[0m in \u001b[0;36m__iter__\u001b[0;34m(self)\u001b[0m\n\u001b[1;32m   1193\u001b[0m \u001b[0;34m\u001b[0m\u001b[0m\n\u001b[1;32m   1194\u001b[0m         \u001b[0;32mtry\u001b[0m\u001b[0;34m:\u001b[0m\u001b[0;34m\u001b[0m\u001b[0;34m\u001b[0m\u001b[0m\n\u001b[0;32m-> 1195\u001b[0;31m             \u001b[0;32mfor\u001b[0m \u001b[0mobj\u001b[0m \u001b[0;32min\u001b[0m \u001b[0miterable\u001b[0m\u001b[0;34m:\u001b[0m\u001b[0;34m\u001b[0m\u001b[0;34m\u001b[0m\u001b[0m\n\u001b[0m\u001b[1;32m   1196\u001b[0m                 \u001b[0;32myield\u001b[0m \u001b[0mobj\u001b[0m\u001b[0;34m\u001b[0m\u001b[0;34m\u001b[0m\u001b[0m\n\u001b[1;32m   1197\u001b[0m                 \u001b[0;31m# Update and possibly print the progressbar.\u001b[0m\u001b[0;34m\u001b[0m\u001b[0;34m\u001b[0m\u001b[0;34m\u001b[0m\u001b[0m\n",
            "\u001b[0;32m<ipython-input-36-ffefbdf7e724>\u001b[0m in \u001b[0;36mlemmatize_text\u001b[0;34m(text)\u001b[0m\n\u001b[1;32m      6\u001b[0m       \u001b[0mtext\u001b[0m \u001b[0;34m=\u001b[0m \u001b[0mtext\u001b[0m\u001b[0;34m.\u001b[0m\u001b[0mreplace\u001b[0m\u001b[0;34m(\u001b[0m\u001b[0mpunkt\u001b[0m\u001b[0;34m,\u001b[0m \u001b[0;34m\"\"\u001b[0m\u001b[0;34m)\u001b[0m\u001b[0;34m\u001b[0m\u001b[0;34m\u001b[0m\u001b[0m\n\u001b[1;32m      7\u001b[0m     \u001b[0;32mfor\u001b[0m \u001b[0mword\u001b[0m \u001b[0;32min\u001b[0m \u001b[0mtext\u001b[0m\u001b[0;34m.\u001b[0m\u001b[0msplit\u001b[0m\u001b[0;34m(\u001b[0m\u001b[0;34m)\u001b[0m\u001b[0;34m:\u001b[0m\u001b[0;34m\u001b[0m\u001b[0;34m\u001b[0m\u001b[0m\n\u001b[0;32m----> 8\u001b[0;31m       \u001b[0mtokens\u001b[0m\u001b[0;34m.\u001b[0m\u001b[0mappend\u001b[0m\u001b[0;34m(\u001b[0m\u001b[0mmorph\u001b[0m\u001b[0;34m.\u001b[0m\u001b[0mparse\u001b[0m\u001b[0;34m(\u001b[0m\u001b[0mword\u001b[0m\u001b[0;34m)\u001b[0m\u001b[0;34m[\u001b[0m\u001b[0;36m0\u001b[0m\u001b[0;34m]\u001b[0m\u001b[0;34m.\u001b[0m\u001b[0mnormal_form\u001b[0m\u001b[0;34m)\u001b[0m\u001b[0;34m\u001b[0m\u001b[0;34m\u001b[0m\u001b[0m\n\u001b[0m\u001b[1;32m      9\u001b[0m \u001b[0;34m\u001b[0m\u001b[0m\n\u001b[1;32m     10\u001b[0m     \u001b[0mtext\u001b[0m \u001b[0;34m=\u001b[0m \u001b[0;34m\" \"\u001b[0m\u001b[0;34m.\u001b[0m\u001b[0mjoin\u001b[0m\u001b[0;34m(\u001b[0m\u001b[0mtokens\u001b[0m\u001b[0;34m)\u001b[0m\u001b[0;34m\u001b[0m\u001b[0;34m\u001b[0m\u001b[0m\n",
            "\u001b[0;32m/usr/local/lib/python3.7/dist-packages/pymorphy2/analyzer.py\u001b[0m in \u001b[0;36mparse\u001b[0;34m(self, word)\u001b[0m\n\u001b[1;32m    313\u001b[0m \u001b[0;34m\u001b[0m\u001b[0m\n\u001b[1;32m    314\u001b[0m         \u001b[0;32mfor\u001b[0m \u001b[0manalyzer\u001b[0m\u001b[0;34m,\u001b[0m \u001b[0mis_terminal\u001b[0m \u001b[0;32min\u001b[0m \u001b[0mself\u001b[0m\u001b[0;34m.\u001b[0m\u001b[0m_units\u001b[0m\u001b[0;34m:\u001b[0m\u001b[0;34m\u001b[0m\u001b[0;34m\u001b[0m\u001b[0m\n\u001b[0;32m--> 315\u001b[0;31m             \u001b[0mres\u001b[0m\u001b[0;34m.\u001b[0m\u001b[0mextend\u001b[0m\u001b[0;34m(\u001b[0m\u001b[0manalyzer\u001b[0m\u001b[0;34m.\u001b[0m\u001b[0mparse\u001b[0m\u001b[0;34m(\u001b[0m\u001b[0mword\u001b[0m\u001b[0;34m,\u001b[0m \u001b[0mword_lower\u001b[0m\u001b[0;34m,\u001b[0m \u001b[0mseen\u001b[0m\u001b[0;34m)\u001b[0m\u001b[0;34m)\u001b[0m\u001b[0;34m\u001b[0m\u001b[0;34m\u001b[0m\u001b[0m\n\u001b[0m\u001b[1;32m    316\u001b[0m \u001b[0;34m\u001b[0m\u001b[0m\n\u001b[1;32m    317\u001b[0m             \u001b[0;32mif\u001b[0m \u001b[0mis_terminal\u001b[0m \u001b[0;32mand\u001b[0m \u001b[0mres\u001b[0m\u001b[0;34m:\u001b[0m\u001b[0;34m\u001b[0m\u001b[0;34m\u001b[0m\u001b[0m\n",
            "\u001b[0;32m/usr/local/lib/python3.7/dist-packages/pymorphy2/units/by_lookup.py\u001b[0m in \u001b[0;36mparse\u001b[0;34m(self, word, word_lower, seen_parses)\u001b[0m\n\u001b[1;32m     28\u001b[0m \u001b[0;34m\u001b[0m\u001b[0m\n\u001b[1;32m     29\u001b[0m             \u001b[0;32mfor\u001b[0m \u001b[0mpara_id\u001b[0m\u001b[0;34m,\u001b[0m \u001b[0midx\u001b[0m \u001b[0;32min\u001b[0m \u001b[0mparses\u001b[0m\u001b[0;34m:\u001b[0m\u001b[0;34m\u001b[0m\u001b[0;34m\u001b[0m\u001b[0m\n\u001b[0;32m---> 30\u001b[0;31m                 \u001b[0mnormal_form\u001b[0m \u001b[0;34m=\u001b[0m \u001b[0mself\u001b[0m\u001b[0;34m.\u001b[0m\u001b[0mdict\u001b[0m\u001b[0;34m.\u001b[0m\u001b[0mbuild_normal_form\u001b[0m\u001b[0;34m(\u001b[0m\u001b[0mpara_id\u001b[0m\u001b[0;34m,\u001b[0m \u001b[0midx\u001b[0m\u001b[0;34m,\u001b[0m \u001b[0mfixed_word\u001b[0m\u001b[0;34m)\u001b[0m\u001b[0;34m\u001b[0m\u001b[0;34m\u001b[0m\u001b[0m\n\u001b[0m\u001b[1;32m     31\u001b[0m                 \u001b[0mtag\u001b[0m \u001b[0;34m=\u001b[0m \u001b[0mself\u001b[0m\u001b[0;34m.\u001b[0m\u001b[0mdict\u001b[0m\u001b[0;34m.\u001b[0m\u001b[0mbuild_tag_info\u001b[0m\u001b[0;34m(\u001b[0m\u001b[0mpara_id\u001b[0m\u001b[0;34m,\u001b[0m \u001b[0midx\u001b[0m\u001b[0;34m)\u001b[0m\u001b[0;34m\u001b[0m\u001b[0;34m\u001b[0m\u001b[0m\n\u001b[1;32m     32\u001b[0m                 \u001b[0mmethod\u001b[0m \u001b[0;34m=\u001b[0m \u001b[0;34m(\u001b[0m\u001b[0;34m(\u001b[0m\u001b[0mself\u001b[0m\u001b[0;34m,\u001b[0m \u001b[0mfixed_word\u001b[0m\u001b[0;34m,\u001b[0m \u001b[0mpara_id\u001b[0m\u001b[0;34m,\u001b[0m \u001b[0midx\u001b[0m\u001b[0;34m)\u001b[0m\u001b[0;34m,\u001b[0m\u001b[0;34m)\u001b[0m\u001b[0;34m\u001b[0m\u001b[0;34m\u001b[0m\u001b[0m\n",
            "\u001b[0;32m/usr/local/lib/python3.7/dist-packages/pymorphy2/opencorpora_dict/wrapper.py\u001b[0m in \u001b[0;36mbuild_normal_form\u001b[0;34m(self, para_id, idx, fixed_word)\u001b[0m\n\u001b[1;32m     77\u001b[0m         \u001b[0mparadigm_len\u001b[0m \u001b[0;34m=\u001b[0m \u001b[0mlen\u001b[0m\u001b[0;34m(\u001b[0m\u001b[0mparadigm\u001b[0m\u001b[0;34m)\u001b[0m \u001b[0;34m//\u001b[0m \u001b[0;36m3\u001b[0m\u001b[0;34m\u001b[0m\u001b[0;34m\u001b[0m\u001b[0m\n\u001b[1;32m     78\u001b[0m \u001b[0;34m\u001b[0m\u001b[0m\n\u001b[0;32m---> 79\u001b[0;31m         \u001b[0mstem\u001b[0m \u001b[0;34m=\u001b[0m \u001b[0mself\u001b[0m\u001b[0;34m.\u001b[0m\u001b[0mbuild_stem\u001b[0m\u001b[0;34m(\u001b[0m\u001b[0mparadigm\u001b[0m\u001b[0;34m,\u001b[0m \u001b[0midx\u001b[0m\u001b[0;34m,\u001b[0m \u001b[0mfixed_word\u001b[0m\u001b[0;34m)\u001b[0m\u001b[0;34m\u001b[0m\u001b[0;34m\u001b[0m\u001b[0m\n\u001b[0m\u001b[1;32m     80\u001b[0m \u001b[0;34m\u001b[0m\u001b[0m\n\u001b[1;32m     81\u001b[0m         \u001b[0mnormal_prefix_id\u001b[0m \u001b[0;34m=\u001b[0m \u001b[0mparadigm\u001b[0m\u001b[0;34m[\u001b[0m\u001b[0mparadigm_len\u001b[0m\u001b[0;34m*\u001b[0m\u001b[0;36m2\u001b[0m \u001b[0;34m+\u001b[0m \u001b[0;36m0\u001b[0m\u001b[0;34m]\u001b[0m\u001b[0;34m\u001b[0m\u001b[0;34m\u001b[0m\u001b[0m\n",
            "\u001b[0;31mKeyboardInterrupt\u001b[0m: "
          ]
        }
      ]
    },
    {
      "cell_type": "markdown",
      "metadata": {
        "id": "IF-dvgJYFWPs"
      },
      "source": [
        "## Визуализация"
      ]
    },
    {
      "cell_type": "code",
      "execution_count": null,
      "metadata": {
        "colab": {
          "base_uri": "https://localhost:8080/",
          "height": 353
        },
        "id": "3pHPItBqFWPs",
        "outputId": "9ea36258-1809-4c92-efa9-99042032c380"
      },
      "outputs": [
        {
          "output_type": "stream",
          "name": "stderr",
          "text": [
            "/usr/local/lib/python3.7/dist-packages/seaborn/distributions.py:2619: FutureWarning: `distplot` is a deprecated function and will be removed in a future version. Please adapt your code to use either `displot` (a figure-level function with similar flexibility) or `histplot` (an axes-level function for histograms).\n",
            "  warnings.warn(msg, FutureWarning)\n"
          ]
        },
        {
          "output_type": "execute_result",
          "data": {
            "text/plain": [
              "<matplotlib.axes._subplots.AxesSubplot at 0x7f6dba430810>"
            ]
          },
          "metadata": {},
          "execution_count": 38
        },
        {
          "output_type": "display_data",
          "data": {
            "text/plain": [
              "<Figure size 432x288 with 1 Axes>"
            ],
            "image/png": "[encoded data removed]"
          },
          "metadata": {
            "needs_background": "light"
          }
        }
      ],
      "source": [
        "import pandas as pd\n",
        "sentences_length_list = list(map(lambda text: len(text.split()), dataset['train'][\"content\"]))\n",
        "\n",
        "sns.distplot(\n",
        "    pd.Series(sentences_length_list, name=\"Кол-во слов\"),\n",
        "    label=\"Распределение кол-ва слов\",\n",
        "    kde=False\n",
        ")\n"
      ]
    },
    {
      "cell_type": "code",
      "execution_count": null,
      "metadata": {
        "colab": {
          "base_uri": "https://localhost:8080/",
          "height": 353
        },
        "id": "5uf_of0tFWPt",
        "outputId": "4936c32c-c00d-4bf5-e956-428073fc65cf"
      },
      "outputs": [
        {
          "output_type": "stream",
          "name": "stderr",
          "text": [
            "/usr/local/lib/python3.7/dist-packages/seaborn/distributions.py:2619: FutureWarning: `distplot` is a deprecated function and will be removed in a future version. Please adapt your code to use either `displot` (a figure-level function with similar flexibility) or `histplot` (an axes-level function for histograms).\n",
            "  warnings.warn(msg, FutureWarning)\n"
          ]
        },
        {
          "output_type": "execute_result",
          "data": {
            "text/plain": [
              "<matplotlib.axes._subplots.AxesSubplot at 0x7f6dbf9b4350>"
            ]
          },
          "metadata": {},
          "execution_count": 39
        },
        {
          "output_type": "display_data",
          "data": {
            "text/plain": [
              "<Figure size 432x288 with 1 Axes>"
            ],
            "image/png": "[encoded data removed]"
          },
          "metadata": {
            "needs_background": "light"
          }
        }
      ],
      "source": [
        "sentences_count_list = list(map(lambda text: len(text.split(\". \")), dataset['train'][\"content\"]))\n",
        "\n",
        "sns.distplot(\n",
        "    pd.Series(sentences_count_list, name=\"Кол-во предложений\"),\n",
        "    label=\"Распределение кол-ва слов\",\n",
        "    kde=False\n",
        ")\n"
      ]
    },
    {
      "cell_type": "code",
      "execution_count": null,
      "metadata": {
        "colab": {
          "base_uri": "https://localhost:8080/",
          "height": 353
        },
        "id": "GhuRXdymFWPt",
        "outputId": "04d0366b-4dc6-475e-f6c2-c03e8bdc41de"
      },
      "outputs": [
        {
          "output_type": "stream",
          "name": "stderr",
          "text": [
            "/usr/local/lib/python3.7/dist-packages/seaborn/distributions.py:2619: FutureWarning: `distplot` is a deprecated function and will be removed in a future version. Please adapt your code to use either `displot` (a figure-level function with similar flexibility) or `histplot` (an axes-level function for histograms).\n",
            "  warnings.warn(msg, FutureWarning)\n"
          ]
        },
        {
          "output_type": "execute_result",
          "data": {
            "text/plain": [
              "<matplotlib.axes._subplots.AxesSubplot at 0x7f6db564a290>"
            ]
          },
          "metadata": {},
          "execution_count": 45
        },
        {
          "output_type": "display_data",
          "data": {
            "text/plain": [
              "<Figure size 432x288 with 1 Axes>"
            ],
            "image/png": "[encoded data removed]"
          },
          "metadata": {
            "needs_background": "light"
          }
        }
      ],
      "source": [
        "# TODO: вывести распределение кол-ва слов по каждому классу\n",
        "df = dataset['train'].to_pandas()[[\"content\", \"grade3\"]]\n",
        "\n",
        "sns.distplot(\n",
        "    pd.Series(df.loc[df[\"grade3\"] == \"Bad\", \"content\"].apply(lambda t: len(t.split())),\n",
        "              name=\"Кол-во слов (Bad)\"),\n",
        "    label=\"Распределение кол-ва слов\",\n",
        "    kde=False\n",
        ")"
      ]
    },
    {
      "cell_type": "code",
      "source": [
        "sns.distplot(\n",
        "    pd.Series(df.loc[df[\"grade3\"] == \"Good\", \"content\"].apply(lambda t: len(t.split())),\n",
        "              name=\"Кол-во слов (Good)\"),\n",
        "    label=\"Распределение кол-ва слов\",\n",
        "    kde=False\n",
        ")"
      ],
      "metadata": {
        "colab": {
          "base_uri": "https://localhost:8080/",
          "height": 353
        },
        "id": "VkvvMBVIkkwN",
        "outputId": "f4edba7a-8275-4f8a-d84a-779bbfa3f127"
      },
      "execution_count": null,
      "outputs": [
        {
          "output_type": "stream",
          "name": "stderr",
          "text": [
            "/usr/local/lib/python3.7/dist-packages/seaborn/distributions.py:2619: FutureWarning: `distplot` is a deprecated function and will be removed in a future version. Please adapt your code to use either `displot` (a figure-level function with similar flexibility) or `histplot` (an axes-level function for histograms).\n",
            "  warnings.warn(msg, FutureWarning)\n"
          ]
        },
        {
          "output_type": "execute_result",
          "data": {
            "text/plain": [
              "<matplotlib.axes._subplots.AxesSubplot at 0x7f6db4ff2850>"
            ]
          },
          "metadata": {},
          "execution_count": 46
        },
        {
          "output_type": "display_data",
          "data": {
            "text/plain": [
              "<Figure size 432x288 with 1 Axes>"
            ],
            "image/png": "[encoded data removed]"
          },
          "metadata": {
            "needs_background": "light"
          }
        }
      ]
    },
    {
      "cell_type": "code",
      "source": [
        "sns.distplot(\n",
        "    pd.Series(df.loc[df[\"grade3\"] == \"Neutral\", \"content\"].apply(lambda t: len(t.split())),\n",
        "              name=\"Кол-во слов (Neutral)\"),\n",
        "    label=\"Распределение кол-ва слов\",\n",
        "    kde=False\n",
        ")"
      ],
      "metadata": {
        "colab": {
          "base_uri": "https://localhost:8080/",
          "height": 353
        },
        "id": "UkQcUWzLkn8X",
        "outputId": "4917465a-4a64-46e9-de56-35d3fd927634"
      },
      "execution_count": null,
      "outputs": [
        {
          "output_type": "stream",
          "name": "stderr",
          "text": [
            "/usr/local/lib/python3.7/dist-packages/seaborn/distributions.py:2619: FutureWarning: `distplot` is a deprecated function and will be removed in a future version. Please adapt your code to use either `displot` (a figure-level function with similar flexibility) or `histplot` (an axes-level function for histograms).\n",
            "  warnings.warn(msg, FutureWarning)\n"
          ]
        },
        {
          "output_type": "execute_result",
          "data": {
            "text/plain": [
              "<matplotlib.axes._subplots.AxesSubplot at 0x7f6db618b890>"
            ]
          },
          "metadata": {},
          "execution_count": 48
        },
        {
          "output_type": "display_data",
          "data": {
            "text/plain": [
              "<Figure size 432x288 with 1 Axes>"
            ],
            "image/png": "[encoded data removed]"
          },
          "metadata": {
            "needs_background": "light"
          }
        }
      ]
    },
    {
      "cell_type": "markdown",
      "metadata": {
        "id": "9WLcK8sZFWPt"
      },
      "source": [
        "## ТОПы"
      ]
    },
    {
      "cell_type": "code",
      "execution_count": null,
      "metadata": {
        "colab": {
          "base_uri": "https://localhost:8080/"
        },
        "id": "fu7lZGEOFWPt",
        "outputId": "5daa514d-31db-4b47-b6ee-3ce14b385087"
      },
      "outputs": [
        {
          "output_type": "execute_result",
          "data": {
            "text/plain": [
              "и          377670\n",
              "в          263593\n",
              "не         240093\n",
              "что        146468\n",
              "на         132182\n",
              "—          120114\n",
              "с           92269\n",
              "это         76088\n",
              "как         71226\n",
              "из          69390\n",
              "но          60607\n",
              "я           59880\n",
              "его         53500\n",
              "он          52807\n",
              "а           50195\n",
              "фильм       49517\n",
              "все         46143\n",
              "о           41906\n",
              "к           39603\n",
              "10          39005\n",
              "И           38191\n",
              "по          38052\n",
              "за          36481\n",
              "же          35631\n",
              "так         35368\n",
              "очень       35249\n",
              "бы          32969\n",
              "от          32709\n",
              "для         31440\n",
              "Но          30846\n",
              "просто      30148\n",
              "В           29674\n",
              "то          28229\n",
              "у           28031\n",
              "только      27759\n",
              "этот        24533\n",
              "даже        23795\n",
              "А           22634\n",
              "фильма      21886\n",
              "который     21777\n",
              "было        20793\n",
              "уже         20661\n",
              "до          20273\n",
              "меня        19950\n",
              "можно       19371\n",
              "Я           19206\n",
              "или         18640\n",
              "когда       18454\n",
              "мне         18303\n",
              "они         18158\n",
              "dtype: int64"
            ]
          },
          "metadata": {},
          "execution_count": 49
        }
      ],
      "source": [
        "# Топ 50 часто используемых слов\n",
        "pd.Series(words).value_counts().head(50)"
      ]
    },
    {
      "cell_type": "code",
      "execution_count": null,
      "metadata": {
        "id": "nPFu4GlXFWPt"
      },
      "outputs": [],
      "source": [
        "# TODO: вывести топ-50 часто используемых слов без учета союзов и предлогов\n"
      ]
    },
    {
      "cell_type": "code",
      "execution_count": null,
      "metadata": {
        "colab": {
          "base_uri": "https://localhost:8080/"
        },
        "id": "pzqIoNGQFWPt",
        "outputId": "7e362fd5-611f-4399-cb0d-2c382685c619"
      },
      "outputs": [
        {
          "output_type": "execute_result",
          "data": {
            "text/plain": [
              "и      288929\n",
              "в      198752\n",
              "не     173323\n",
              "что    108503\n",
              "на      96930\n",
              "dtype: int64"
            ]
          },
          "metadata": {},
          "execution_count": 50
        }
      ],
      "source": [
        "df = dataset[\"train\"].to_pandas()\n",
        "\n",
        "pd.Series(flatten(df.loc[df[\"grade3\"] == \"Good\", \"content\"].str.strip().apply(lambda t: t.split()))).value_counts().head()"
      ]
    },
    {
      "cell_type": "code",
      "execution_count": null,
      "metadata": {
        "id": "J-STeTZ2FWPu"
      },
      "outputs": [],
      "source": [
        "# TODO: вывести топ уникальных слов для каждого класса"
      ]
    },
    {
      "cell_type": "markdown",
      "metadata": {
        "id": "ftNJ0oCEFWPu"
      },
      "source": [
        "## Наиболее значимые слова"
      ]
    },
    {
      "cell_type": "code",
      "execution_count": null,
      "metadata": {
        "colab": {
          "base_uri": "https://localhost:8080/"
        },
        "id": "DX-boXAtFWPu",
        "outputId": "915caad4-00d7-41d7-95fc-895ceeb12972"
      },
      "outputs": [
        {
          "output_type": "stream",
          "name": "stderr",
          "text": [
            "/usr/local/lib/python3.7/dist-packages/sklearn/linear_model/_logistic.py:818: ConvergenceWarning: lbfgs failed to converge (status=1):\n",
            "STOP: TOTAL NO. of ITERATIONS REACHED LIMIT.\n",
            "\n",
            "Increase the number of iterations (max_iter) or scale the data as shown in:\n",
            "    https://scikit-learn.org/stable/modules/preprocessing.html\n",
            "Please also refer to the documentation for alternative solver options:\n",
            "    https://scikit-learn.org/stable/modules/linear_model.html#logistic-regression\n",
            "  extra_warning_msg=_LOGISTIC_SOLVER_CONVERGENCE_MSG,\n"
          ]
        }
      ],
      "source": [
        "tfidf = TfidfVectorizer().fit(dataset[\"train\"][\"content\"])\n",
        "logreg = LogisticRegression().fit(tfidf.transform(dataset[\"train\"][\"content\"]), dataset[\"train\"][\"grade3\"])\n"
      ]
    },
    {
      "cell_type": "code",
      "execution_count": null,
      "metadata": {
        "colab": {
          "base_uri": "https://localhost:8080/"
        },
        "id": "09MpBnxnFWPu",
        "outputId": "36c44cba-55a4-4bd6-8570-20ce0e962af6"
      },
      "outputs": [
        {
          "output_type": "execute_result",
          "data": {
            "text/plain": [
              "((3, 271614), 271614)"
            ]
          },
          "metadata": {},
          "execution_count": 52
        }
      ],
      "source": [
        "logreg.coef_.shape, len(tfidf.vocabulary_)\n"
      ]
    },
    {
      "cell_type": "code",
      "execution_count": null,
      "metadata": {
        "id": "KA9qkKrdFWPu"
      },
      "outputs": [],
      "source": [
        "itos = {i: v for v, i in tfidf.vocabulary_.items()}"
      ]
    },
    {
      "cell_type": "code",
      "execution_count": null,
      "metadata": {
        "colab": {
          "base_uri": "https://localhost:8080/"
        },
        "id": "Hm1f7alZFWPu",
        "outputId": "84dd6b9c-8234-40ed-9361-dc0bf9e4a9e3"
      },
      "outputs": [
        {
          "output_type": "stream",
          "name": "stdout",
          "text": [
            "Наиболее значимые слова для класса: Bad\n",
            "- не\n",
            "- весь\n",
            "- никак\n",
            "- ужасно\n",
            "- главное\n",
            "- есть\n",
            "- итоге\n",
            "- его\n",
            "- создатели\n",
            "- немного\n",
            "- разочарование\n",
            "- сценарий\n",
            "- сожалению\n",
            "- 10\n",
            "- приятно\n",
            "- снять\n",
            "- вместо\n",
            "- он\n",
            "- отлично\n",
            "- снимать\n",
            "- непонятно\n",
            "- единственное\n",
            "- именно\n",
            "- нет\n",
            "- мир\n",
            "- понимаю\n",
            "- абсолютно\n",
            "- деньги\n",
            "- жизни\n",
            "- видимо\n",
            "- никакой\n",
            "- вообще\n",
            "- жизнь\n",
            "- из\n",
            "- каждый\n",
            "- бред\n",
            "- ничего\n",
            "- очень\n",
            "- увы\n",
            "- зачем\n"
          ]
        }
      ],
      "source": [
        "class_index = 0\n",
        "\n",
        "print(\"Наиболее значимые слова для класса:\", logreg.classes_[class_index])\n",
        "for i in np.abs(logreg.coef_[class_index]).argsort()[-40:]:\n",
        "    print(\"-\", itos[i])\n"
      ]
    },
    {
      "cell_type": "code",
      "execution_count": null,
      "metadata": {
        "id": "IZh8qSmQFWPu"
      },
      "outputs": [],
      "source": [
        "# TODO: вывести наиболее значимые слова с лемматизацией"
      ]
    },
    {
      "cell_type": "markdown",
      "metadata": {
        "id": "2Q_RCMdHFWPv"
      },
      "source": [
        "## Тематические модели"
      ]
    },
    {
      "cell_type": "code",
      "execution_count": null,
      "metadata": {
        "id": "waOTdngeFWPv"
      },
      "outputs": [],
      "source": [
        "\n",
        "def remove_stop_words(text: List[str]) -> List[str]:\n",
        "    return [word for word in text if word not in russian_stopwords]\n"
      ]
    },
    {
      "cell_type": "code",
      "execution_count": null,
      "metadata": {
        "id": "8KEFAEQVFWPv"
      },
      "outputs": [],
      "source": [
        "words = list(map(lambda t: remove_stop_words(t.lower().split()), dataset[\"train\"][\"content\"]))\n",
        "dictionary = corpora.Dictionary(words)"
      ]
    },
    {
      "cell_type": "code",
      "execution_count": null,
      "metadata": {
        "id": "z1hbNADjFWPv"
      },
      "outputs": [],
      "source": [
        "corpus = [dictionary.doc2bow(t) for t in words]\n",
        "\n",
        "lda_model = LdaModel(\n",
        "    corpus=corpus, id2word=dictionary, num_topics=3, iterations=100, alpha='auto')"
      ]
    },
    {
      "cell_type": "code",
      "execution_count": null,
      "metadata": {
        "colab": {
          "base_uri": "https://localhost:8080/"
        },
        "id": "0rA4mFv2FWPv",
        "outputId": "a4eca485-2c70-477d-e437-ac088a43a8d5"
      },
      "outputs": [
        {
          "output_type": "stream",
          "name": "stdout",
          "text": [
            "[(0,\n",
            "  '0.015*\"—\" + 0.013*\"это\" + 0.007*\"фильм\" + 0.005*\"10\" + 0.004*\"просто\" + '\n",
            "  '0.003*\"который\" + 0.003*\"жизнь\" + 0.003*\"то,\" + 0.003*\"которые\" + '\n",
            "  '0.003*\"жизни\"'),\n",
            " (1,\n",
            "  '0.020*\"—\" + 0.015*\"это\" + 0.010*\"фильм\" + 0.007*\"очень\" + 0.005*\"просто\" + '\n",
            "  '0.005*\"10\" + 0.004*\"фильма\" + 0.003*\"фильме\" + 0.003*\"который\" + '\n",
            "  '0.002*\"вообще\"'),\n",
            " (2,\n",
            "  '0.000*\"мультфильм\" + 0.000*\"—\" + 0.000*\"это\" + 0.000*\"«рататуй»\" + '\n",
            "  '0.000*\"pixar\" + 0.000*\"мультфильмы\" + 0.000*\"мультфильма\" + '\n",
            "  '0.000*\"мультфильм,\" + 0.000*\"реми\" + 0.000*\"просто\"')]\n"
          ]
        }
      ],
      "source": [
        "from pprint import pprint\n",
        "pprint(lda_model.print_topics())"
      ]
    },
    {
      "cell_type": "code",
      "execution_count": null,
      "metadata": {
        "colab": {
          "base_uri": "https://localhost:8080/",
          "height": 988
        },
        "id": "J5ExBZWgFWPw",
        "outputId": "159c3713-613d-4ea3-e52a-1837ec30f29e"
      },
      "outputs": [
        {
          "output_type": "stream",
          "name": "stderr",
          "text": [
            "/usr/local/lib/python3.7/dist-packages/past/types/oldstr.py:5: DeprecationWarning: Using or importing the ABCs from 'collections' instead of from 'collections.abc' is deprecated since Python 3.3,and in 3.9 it will stop working\n",
            "  from collections import Iterable\n",
            "/usr/local/lib/python3.7/dist-packages/past/builtins/misc.py:4: DeprecationWarning: Using or importing the ABCs from 'collections' instead of from 'collections.abc' is deprecated since Python 3.3,and in 3.9 it will stop working\n",
            "  from collections import Mapping\n",
            "/usr/local/lib/python3.7/dist-packages/pyLDAvis/_prepare.py:247: FutureWarning: In a future version of pandas all arguments of DataFrame.drop except for the argument 'labels' will be keyword-only\n",
            "  by='saliency', ascending=False).head(R).drop('saliency', 1)\n"
          ]
        },
        {
          "output_type": "execute_result",
          "data": {
            "text/plain": [
              "PreparedData(topic_coordinates=              x         y  topics  cluster       Freq\n",
              "topic                                                \n",
              "1     -0.191486 -0.036540       1        1  68.266941\n",
              "0     -0.075405  0.048931       2        1  31.711513\n",
              "2      0.266891 -0.012392       3        1   0.021546, topic_info=        Term           Freq          Total Category  logprob  loglift\n",
              "230    жизнь    7702.000000    7702.000000  Default  30.0000  30.0000\n",
              "208      это  102812.000000  102812.000000  Default  29.0000  29.0000\n",
              "229    жизни    7520.000000    7520.000000  Default  28.0000  28.0000\n",
              "209        —  132784.000000  132784.000000  Default  27.0000  27.0000\n",
              "1         10   34563.000000   34563.000000  Default  26.0000  26.0000\n",
              "..       ...            ...            ...      ...      ...      ...\n",
              "128   просто       0.078200   34769.548841   Topic3  -9.9091  -4.5622\n",
              "1         10       0.077548   34563.250554   Topic3  -9.9175  -4.5647\n",
              "108    очень       0.076627   38912.501317   Topic3  -9.9294  -4.6951\n",
              "197    фильм       0.050342   66043.017285   Topic3 -10.3495  -5.6442\n",
              "626  который       0.039815   20559.710717   Topic3 -10.5841  -4.7118\n",
              "\n",
              "[311 rows x 6 columns], token_table=        Topic      Freq         Term\n",
              "term                                \n",
              "469332      2  1.079764  (\"смывайся»\n",
              "4369        1  0.964820            1\n",
              "4369        2  0.035013            1\n",
              "1           1  0.655436           10\n",
              "1           2  0.344557           10\n",
              "...       ...       ...          ...\n",
              "618         2  0.018750         юмор\n",
              "5379        1  0.954236         явно\n",
              "5379        2  0.045732         явно\n",
              "209         1  0.746909            —\n",
              "209         2  0.253087            —\n",
              "\n",
              "[490 rows x 3 columns], R=30, lambda_step=0.01, plot_opts={'xlab': 'PC1', 'ylab': 'PC2'}, topic_order=[2, 1, 3])"
            ],
            "text/html": [
              "\n",
              "<link rel=\"stylesheet\" type=\"text/css\" href=\"https://cdn.jsdelivr.net/gh/bmabey/pyLDAvis@3.3.1/pyLDAvis/js/ldavis.v1.0.0.css\">\n",
              "\n",
              "\n",
              "<div id=\"ldavis_el621401093656557608395059671\"></div>\n",
              "<script type=\"text/javascript\">\n",
              "\n",
              "var ldavis_el621401093656557608395059671_data = {\"mdsDat\": {\"x\": [-0.19148586805778636, -0.07540491048745648, 0.2668907785452427], \"y\": [-0.03653988136497771, 0.048931461376806824, -0.012391580011829067], \"topics\": [1, 2, 3], \"cluster\": [1, 1, 1], \"Freq\": [68.26694084379565, 31.71151334120713, 0.021545814997222038]}, \"tinfo\": {\"Term\": [\"\\u0436\\u0438\\u0437\\u043d\\u044c\", \"\\u044d\\u0442\\u043e\", \"\\u0436\\u0438\\u0437\\u043d\\u0438\", \"\\u2014\", \"10\", \"\\u043b\\u044e\\u0431\\u043e\\u0432\\u044c\", \"\\u043c\\u0443\\u043b\\u044c\\u0442\\u0444\\u0438\\u043b\\u044c\\u043c\", \"\\u0436\\u0438\\u0437\\u043d\\u0438,\", \"\\u043a\\u0430\\u0436\\u0434\\u044b\\u0439\", \"\\u0441\\u0432\\u043e\\u0435\\u0439\", \"\\u043b\\u044e\\u0434\\u0438\", \"\\u0436\\u0438\\u0437\\u043d\\u0438.\", \"\\u0442\\u043e,\", \"\\u0447\\u0435\\u043b\\u043e\\u0432\\u0435\\u043a\", \"\\u043a\\u043e\\u0442\\u043e\\u0440\\u044b\\u0439\", \"\\u0438\\u0441\\u0442\\u043e\\u0440\\u0438\\u044f\", \"\\u043b\\u044e\\u0434\\u0435\\u0439\", \"\\u0436\\u0438\\u0442\\u044c\", \"\\u0436\\u0438\\u0437\\u043d\\u044c,\", \"\\u043d\\u0443\\u0436\\u043d\\u043e\", \"\\u043a\\u043e\\u0442\\u043e\\u0440\\u044b\\u0435\", \"\\u043b\\u044e\\u0434\\u0435\\u0439,\", \"\\u0447\\u0435\\u043b\\u043e\\u0432\\u0435\\u043a\\u0430\", \"\\u0442\\u043e\\u043c,\", \"\\u043a\\u043e\\u0442\\u043e\\u0440\\u0430\\u044f\", \"\\u0436\\u0438\\u0437\\u043d\\u044c.\", \"\\u043f\\u0440\\u043e\\u0441\\u0442\\u043e\", \"\\u043b\\u044e\\u0431\\u0432\\u0438\", \"\\u043c\\u0438\\u0440\", \"\\u0447\\u0435\\u043b\\u043e\\u0432\\u0435\\u043a,\", \"\\u043f\\u043b\\u0430\\u0433\\u0438\\u0430\\u0442\", \"\\u0443\\u0432\\u0435\", \"\\u00ab\\u0441\\u0443\\u043c\\u0435\\u0440\\u043a\\u0438\\u00bb\", \"\\u043e\\u0442\\u0435\\u0447\\u0435\\u0441\\u0442\\u0432\\u0435\\u043d\\u043d\\u044b\\u0435\", \"\\u0431\\u0440\\u0435\\u0434.\", \"\\u0441\\u043f\\u0435\\u0446\\u044d\\u0444\\u0444\\u0435\\u043a\\u0442\\u044b\", \"\\u0430\\u043a\\u0442\\u0440\\u0438\\u0441\\u0430,\", \"\\u043d\\u0435\\u043f\\u043b\\u043e\\u0445\\u0438\\u0435\", \"\\u043a\\u043e\\u0441\\u0442\\u044e\\u043c\\u044b\", \"\\u043f\\u0430\\u0440\\u043e\\u0434\\u0438\\u044f,\", \"\\u043a\\u0432\\u0435\\u043d\\u0442\\u0438\\u043d\\u0430\", \"\\u0441\\u043f\\u0435\\u0446\\u044d\\u0444\\u0444\\u0435\\u043a\\u0442\\u044b.\", \"\\u00ab\\u043f\\u0438\\u0440\\u0430\\u0442\\u044b\", \"\\u00ab\\u043a\\u043d\\u0438\\u0433\\u0430\", \"\\u043f\\u0430\\u0440\\u043e\\u0434\\u0438\\u044f.\", \"\\u00ab\\u043a\\u043e\\u0434\", \"\\u0431\\u043b\\u043e\\u043a\\u0431\\u0430\\u0441\\u0442\\u0435\\u0440\", \"\\u0431\\u044e\\u0434\\u0436\\u0435\\u0442,\", \"\\u0435\\u0444\\u0440\\u0435\\u043c\\u043e\\u0432\", \"\\u0441\\u043f\\u0435\\u0446\\u044d\\u0444\\u0444\\u0435\\u043a\\u0442\\u044b,\", \"\\u043d\\u043e\\u043b\\u0430\\u043d\", \"\\u0430\\u0440\\u0442\\u0443\\u0440\", \"\\u043f\\u0438\\u0440\\u0430\\u0442\\u043e\\u0432\", \"\\u043f\\u0430\\u0440\\u043e\\u0434\\u0438\\u0439\", \"\\u043a\\u0430\\u0441\\u0442\\u0438\\u043d\\u0433\", \"\\u0433\\u0440\\u0438\\u043c\", \"\\u0432\\u043e\\u0440\\u043e\\u0431\\u044c\\u044f\", \"\\u043a\\u0430\\u0440\\u0438\\u0431\\u0441\\u043a\\u043e\\u0433\\u043e\", \"\\u043a\\u043d\\u0438\\u0433\\u0435.\", \"\\u00ab\\u0432\\u0430\\u043c\\u043f\\u0438\\u0440\\u0441\\u043a\\u0438\\u0439\", \"\\u0440\\u043e\\u0441\\u0441\\u0438\\u0439\\u0441\\u043a\\u043e\\u0433\\u043e\", \"\\u0431\\u044e\\u0434\\u0436\\u0435\\u0442\", \"\\u043e\\u0442\\u0435\\u0447\\u0435\\u0441\\u0442\\u0432\\u0435\\u043d\\u043d\\u043e\\u0433\\u043e\", \"\\u0440\\u043e\\u0441\\u0441\\u0438\\u0439\\u0441\\u043a\\u0438\\u0439\", \"\\u043f\\u0430\\u0440\\u043e\\u0434\\u0438\\u044f\", \"\\u0447\\u0430\\u0441\\u0442\\u0438\", \"\\u043f\\u0430\\u0440\\u043e\\u0434\\u0438\\u0438\", \"\\u044d\\u0444\\u0444\\u0435\\u043a\\u0442\\u044b\", \"\\u0448\\u0443\\u0442\\u043e\\u043a\", \"\\u044e\\u043c\\u043e\\u0440\", \"\\u00ab\\u043a\\u043d\\u0438\\u0433\\u0443\", \"\\u043a\\u0438\\u043d\\u043e\\u00bb\", \"\\u00ab\\u0442\\u0435\\u043c\\u043d\\u044b\\u0439\", \"\\u00ab\\u0441\\u0430\\u043c\\u044b\\u0439\", \"\\u0431\\u0430\\u0431\\u0430\", \"\\u0448\\u0443\\u0442\\u043a\\u0438\", \"\\u0441\\u044e\\u0436\\u0435\\u0442\", \"\\u043f\\u043e\\u043b\\u0443\\u0447\\u0438\\u043b\\u0441\\u044f\", \"1\", \"\\u043c\\u0430\\u0441\\u0442\\u0435\\u0440\\u043e\\u0432\\u00bb\", \"\\u0441\\u043e\\u0437\\u0434\\u0430\\u0442\\u0435\\u043b\\u0438\", \"\\u00ab\\u043e\\u0447\\u0435\\u043d\\u044c\", \"\\u0441\\u043c\\u0435\\u0448\\u043d\\u043e.\", \"\\u0440\\u0443\\u0441\\u0441\\u043a\\u0438\\u0445\", \"\\u0441\\u0446\\u0435\\u043d\\u0430\\u0440\\u0438\\u0439\", \"\\u0432\\u043e\\u043e\\u0431\\u0449\\u0435\", \"\\u043e\\u0431\\u0449\\u0435\\u043c\", \"\\u0432\\u044b\\u0433\\u043b\\u044f\\u0434\\u0438\\u0442\", \"\\u044f\\u0432\\u043d\\u043e\", \"\\u043f\\u043b\\u044e\\u0441\", \"\\u043f\\u043e\\u043b\\u0443\\u0447\\u0438\\u043b\\u043e\\u0441\\u044c\", \"\\u0434\\u0438\\u0430\\u043b\\u043e\\u0433\\u0438\", \"\\u0441\\u043d\\u0438\\u043c\\u0430\\u0442\\u044c\", \"\\u0446\\u0435\\u043b\\u043e\\u043c\", \"\\u0441\\u043d\\u044f\\u0442\\u044c\", \"\\u043e\\u0447\\u0435\\u043d\\u044c\", \"\\u0447\\u0430\\u0441\\u0442\\u044c\", \"\\u0434\\u043e\\u0432\\u043e\\u043b\\u044c\\u043d\\u043e\", \"\\u0444\\u0438\\u043b\\u044c\\u043c\\u0435\", \"\\u0432\\u0435\\u0441\\u044c\\u043c\\u0430\", \"\\u043e\\u0431\\u0449\\u0435\\u043c,\", \"\\u0440\\u043e\\u043b\\u0438\", \"\\u2014\", \"\\u0444\\u0438\\u043b\\u044c\\u043c\\u0430\", \"\\u0444\\u0438\\u043b\\u044c\\u043c\", \"\\u0432\\u043f\\u043e\\u043b\\u043d\\u0435\", \"\\u0430\\u043a\\u0442\\u0435\\u0440\\u044b\", \"\\u044d\\u0442\\u043e\", \"\\u0445\\u043e\\u0442\\u044f\", \"\\u0438\\u0433\\u0440\\u0430\", \"\\u0441\\u043a\\u0430\\u0437\\u0430\\u0442\\u044c,\", \"\\u043a\\u0438\\u043d\\u043e\", \"\\u0441\\u043c\\u043e\\u0442\\u0440\\u0435\\u0442\\u044c\", \"\\u0435\\u0449\\u0451\", \"\\u043f\\u0440\\u043e\\u0441\\u0442\\u043e\", \"\\u0432\\u0441\\u0451\", \"\\u0440\\u043e\\u043b\\u044c\", \"\\u043a\\u043e\\u043d\\u0435\\u0447\\u043d\\u043e,\", \"\\u0444\\u0438\\u043b\\u044c\\u043c\\u0430,\", \"\\u0444\\u0438\\u043b\\u044c\\u043c\\u0430.\", \"10\", \"\\u0444\\u0438\\u043b\\u044c\\u043c\\u044b\", \"\\u0432\\u0435\\u0441\\u044c\", \"\\u0444\\u0438\\u043b\\u044c\\u043c,\", \"\\u043a\\u043e\\u0442\\u043e\\u0440\\u044b\\u0439\", \"\\u043a\\u043e\\u0442\\u043e\\u0440\\u044b\\u0435\", \"\\u0432\\u0440\\u0435\\u043c\\u044f\", \"\\u0442\\u043e,\", \"\\u0438\\u043c\\u0435\\u043d\\u043d\\u043e\", \"\\u0434\\u0435\\u0439\\u0441\\u0442\\u0432\\u0438\\u0442\\u0435\\u043b\\u044c\\u043d\\u043e\", \"\\u0441\\u0442\\u043e\\u0438\\u0442\", \"\\u0447\\u0442\\u043e-\\u0442\\u043e\", \"\\u043b\\u0438\\u0448\\u044c\", \"\\u0442\\u043e\\u0433\\u043e,\", \"\\u0441\\u043e\\u0431\\u044b\\u0442\\u0438\\u044f\\u0445.\", \"\\u0448\\u0430\\u043d\\u0441,\", \"\\u0434\\u0436\\u0443\\u043b\\u044c\\u0435\\u0442\\u0442\\u0430\", \"\\u043e\\u0434\\u0438\\u043d\\u043e\\u0447\\u0435\\u0441\\u0442\\u0432\\u043e,\", \"\\u0432\\u043e\\u043b\\u0448\\u0435\\u0431\\u043d\\u044b\\u0439,\", \"\\u043c\\u0435\\u043b\\u043a\\u043e\\u0439\", \"\\u0431\\u043e\\u043b\\u044c\\u043d\\u043e.\", \"\\u043a\\u043b\\u0443\\u0431\\u00bb\", \"\\u0436\\u0435\\u043b\\u0430\\u043d\\u0438\\u044f\\u043c\\u0438\", \"\\u0444\\u0430\\u0448\\u0438\\u0441\\u0442\\u043e\\u0432,\", \"\\u043d\\u0430\\u043c:\", \"\\u0434\\u0435\\u0442\\u0438\\u2026\", \"\\u043e\\u0441\\u043d\\u043e\\u0432\\u0430\\u043d\\u0430\", \"\\u043f\\u0440\\u0435\\u0437\\u0440\\u0435\\u043d\\u0438\\u0435,\", \"\\u043f\\u043e\\u0442\\u0435\\u0440\\u044f\\u0442\\u044c.\", \"\\u0431\\u043e\\u0441\\u0438\\u043a\\u043e\\u043c\", \"\\u0436\\u0438\\u0442\\u044c!\", \"\\u0447\\u0443\\u0434\\u043e\\u0432\\u0438\\u0449\\u043d\\u044b\\u0435\", \"\\u043c\\u0435\\u043b\\u043e\\u043c\", \"\\u0436\\u0438\\u0432\\u0435\\u043c,\", \"\\u0442\\u0435\\u043f\\u043b\\u0430\\u044f\", \"\\u0438\\u0441\\u043f\\u044b\\u0442\\u0430\\u043b\\u0438\", \"\\u0434\\u0435\\u0432\\u043e\\u0447\\u043a\\u0430.\", \"\\u0441\\u0431\\u044b\\u0432\\u0430\\u044e\\u0442\\u0441\\u044f,\", \"\\u043f\\u0440\\u0438\\u044e\\u0442\\u0435\", \"\\u0434\\u0435\\u0439\\u0441\\u0442\\u0432\\u0438\\u0442\\u0435\\u043b\\u044c\\u043d\\u043e\\u0441\\u0442\\u044c,\", \"\\u043d\\u0435\\u043c\\u0446\\u044b\", \"\\u043f\\u043e\\u0442\\u0435\\u0440\\u044f\\u043d\\u043d\\u044b\\u0445\", \"\\u043d\\u0435\\u0436\\u043d\\u044b\\u0439,\", \"\\u0434\\u0443\\u0448\\u0435\\u0432\\u043d\\u043e\\u043c\", \"\\u00ab\\u0432\\u043d\\u0443\\u0442\\u0440\\u0438\", \"\\u043a\\u043b\\u0430\\u0441\\u0441\\u0435\", \"\\u0438\\u043d\\u0432\\u0430\\u043b\\u0438\\u0434\\u043d\\u043e\\u0439\", \"\\u0441\\u0442\\u0435\\u043d\\u0430\", \"\\u0440\\u0443\\u0441\\u0441\\u043a\\u0438\\u0445.\", \"\\u0434\\u0430\\u0440,\", \"\\u0436\\u0438\\u0442\\u044c,\", \"\\u0432\\u0435\\u0440\\u0435\", \"\\u00ab\\u043f\\u0440\\u043e\\u043b\\u0435\\u0442\\u0430\\u044f\", \"\\u0436\\u0438\\u0442\\u044c.\", \"\\u0434\\u0435\\u0442\\u0438\\u0448\\u0435\\u043a,\", \"\\u0436\\u0438\\u0437\\u043d\\u044c\", \"\\u0436\\u0438\\u0437\\u043d\\u044c,\", \"\\u0432\\u043e\\u0439\\u043d\\u0435\", \"\\u0441\\u0447\\u0430\\u0441\\u0442\\u044c\\u0435\", \"\\u0436\\u0438\\u0442\\u044c\", \"\\u0436\\u0438\\u0437\\u043d\\u044c?\", \"\\u0438\\u0432\\u0430\\u043d\\u0443\", \"\\u00ab\\u0431\\u043e\\u0439\\u0446\\u043e\\u0432\\u0441\\u043a\\u0438\\u0439\", \"\\u0434\\u0440\\u0443\\u0433\\u0438\\u0445\\u00bb\", \"\\u0436\\u0438\\u0437\\u043d\\u0438,\", \"\\u0436\\u0438\\u0437\\u043d\\u044c.\", \"\\u043c\\u0435\\u0447\\u0442\\u044b\", \"\\u0443\\u0447\\u0438\\u0442\", \"\\u043b\\u044e\\u0431\\u043e\\u0432\\u044c\", \"\\u0436\\u0438\\u0437\\u043d\\u0438\", \"\\u0436\\u0438\\u0437\\u043d\\u0438.\", \"\\u0446\\u0435\\u043d\\u0438\\u0442\\u044c\", \"\\u0431\\u043e\\u043b\\u044c\", \"\\u0436\\u0438\\u0437\\u043d\\u044c\\u044e,\", \"\\u043c\\u0435\\u0447\\u0442\\u044b,\", \"\\u043b\\u044e\\u0431\\u043e\\u0432\\u044c,\", \"\\u043b\\u044e\\u0431\\u043e\\u0432\\u044c.\", \"\\u0441\\u0447\\u0430\\u0441\\u0442\\u044c\\u0435,\", \"\\u0442\\u0432\\u043e\\u0435\\u0439\", \"\\u0441\\u0435\\u043c\\u044c\\u044f\", \"\\u0436\\u0438\\u0432\\u0435\\u0442\", \"\\u043b\\u044e\\u0431\\u0438\\u0442\\u044c\", \"\\u043b\\u044e\\u0431\\u0432\\u0438,\", \"\\u043c\\u0430\\u0448\\u0430\", \"\\u043b\\u044e\\u0431\\u0432\\u0438\", \"\\u043b\\u044e\\u0431\\u0432\\u0438.\", \"\\u0441\\u0435\\u0440\\u0434\\u0446\\u0435\", \"\\u0447\\u0435\\u043b\\u043e\\u0432\\u0435\\u043a\\u0430\", \"\\u0442\\u0435\\u0431\\u0435\", \"\\u0447\\u0435\\u043b\\u043e\\u0432\\u0435\\u043a\", \"\\u043b\\u044e\\u0434\\u0435\\u0439,\", \"\\u043b\\u044e\\u0434\\u0438\", \"\\u0447\\u0435\\u043b\\u043e\\u0432\\u0435\\u043a\\u0430,\", \"\\u043b\\u044e\\u0434\\u0435\\u0439\", \"\\u0447\\u0435\\u043b\\u043e\\u0432\\u0435\\u043a,\", \"\\u0438\\u0441\\u0442\\u043e\\u0440\\u0438\\u044f\", \"\\u043b\\u044e\\u0434\\u0438,\", \"\\u043a\\u0430\\u0436\\u0434\\u044b\\u0439\", \"\\u044d\\u0442\\u043e\", \"\\u0441\\u0432\\u043e\\u0435\\u0439\", \"\\u2014\", \"\\u0434\\u0435\\u043d\\u044c\", \"10\", \"\\u043d\\u0443\\u0436\\u043d\\u043e\", \"\\u0442\\u043e,\", \"\\u043a\\u043e\\u0442\\u043e\\u0440\\u044b\\u0439\", \"\\u0444\\u0438\\u043b\\u044c\\u043c\", \"\\u043a\\u043e\\u0442\\u043e\\u0440\\u044b\\u0435\", \"\\u0442\\u043e\\u043c,\", \"\\u043f\\u0440\\u043e\\u0441\\u0442\\u043e\", \"\\u043a\\u043e\\u0442\\u043e\\u0440\\u0430\\u044f\", \"\\u043b\\u0438\\u0448\\u044c\", \"\\u043d\\u0430\\u043c\", \"\\u043c\\u0438\\u0440\", \"\\u044d\\u0442\\u0430\", \"\\u0435\\u0451\", \"\\u0438\\u043c\\u0435\\u043d\\u043d\\u043e\", \"\\u043e\\u0447\\u0435\\u043d\\u044c\", \"\\u0442\\u043e\\u0433\\u043e,\", \"\\u0444\\u0438\\u043b\\u044c\\u043c,\", \"\\u0444\\u0438\\u043b\\u044c\\u043c\\u0430\", \"\\u0432\\u0440\\u0435\\u043c\\u044f\", \"\\u0432\\u0441\\u0451\", \"\\u00ab\\u043a\\u043e\\u0440\\u043f\\u043e\\u0440\\u0430\\u0446\\u0438\\u044f\", \"\\u0438\\u0433\\u0440\\u0443\\u0448\\u0435\\u043a:\", \"pixar!\", \"\\u0442\\u043e\\u0442\\u043e\\u0440\\u043e,\", \"\\u043f\\u043e\\u0431\\u0435\\u0433\\u00bb\", \"\\u0442\\u043e\\u0442\\u043e\\u0440\\u043e\", \"\\u043c\\u043e\\u043d\\u0441\\u0442\\u0440\\u043e\\u0432\\u00bb\", \"\\u0442\\u0440\\u0435\\u0445\\u043c\\u0435\\u0440\\u043d\\u0430\\u044f\", \"\\u00ab\\u0430\\u043b\\u0430\\u0434\\u0434\\u0438\\u043d\\u00bb\", \"\\u0430\\u043b\\u0430\\u0434\\u0434\\u0438\\u043d\", \"\\u0442\\u043e\\u0442\\u043e\\u0440\\u043e.\", \"\\u043d\\u0435\\u043c\\u043e\", \"ghibli\", \"\\u0436\\u0430\\u0441\\u043c\\u0438\\u043d,\", \"\\u00ab\\u0440\\u0443\\u0441\\u0430\\u043b\\u043e\\u0447\\u043a\\u0430\\u00bb,\", \"\\u043c\\u0435\\u043d\\u043a\\u0435\\u043d\\u0430,\", \"\\u0430\\u043b\\u0430\\u0434\\u0434\\u0438\\u043d\\u0430,\", \"\\u0441\\u0435\\u043c\\u0435\\u0439\\u043a\\u0430\\u00bb\", \"\\u043f\\u043e\\u0440\\u0435\\u0434\\u0435\\u0432\\u0448\\u0435\\u0439\", \"\\u00ab\\u0441\\u0443\\u043f\\u0435\\u0440\\u0441\\u0435\\u043c\\u0435\\u0439\\u043a\\u0438\\u00bb.\", \"\\u043b\\u0435\\u0441\\u043d\\u044b\\u043c\", \"\\u0430\\u043b\\u0430\\u0434\\u0434\\u0438\\u043d\\u0430\", \"\\u00ab\\u0442\\u0430\\u0447\\u043a\\u0438\\u00bb.\", \"\\u0432\\u0430\\u043b\\u043b-\\u0438\", \"\\u00ab\\u0430\\u043b\\u043b\\u0430\\u0434\\u0438\\u043d\\u00bb\", \"\\u00ab\\u043a\\u043e\\u0440\\u043f\\u043e\\u0440\\u0430\\u0446\\u0438\\u0438\", \"\\u0432\\u043e\\u044e\\u044e\\u0449\\u0438\\u0445\", \"\\u00ab\\u043f\\u0440\\u0438\\u043d\\u0446\\u0435\\u0441\\u0441\\u0435\", \"\\u00ab\\u0430\\u043b\\u043b\\u0430\\u0434\\u0438\\u043d\\u00bb,\", \"(\\\"\\u0441\\u043c\\u044b\\u0432\\u0430\\u0439\\u0441\\u044f\\u00bb\", \"\\u00abpixar\\u00bb.\", \"\\u0441\\u0438\\u043c\\u0431\\u0430\", \"\\u0440\\u0435\\u043c\\u0438\", \"\\u00ab\\u0440\\u0430\\u0442\\u0430\\u0442\\u0443\\u0439\\u00bb\", \"pixar\", \"\\u00ab\\u043b\\u0435\\u0434\\u043d\\u0438\\u043a\\u043e\\u0432\\u044b\\u0439\", \"\\u043d\\u0435\\u043c\\u043e\\u00bb\", \"\\u0438\\u0433\\u0440\\u0443\\u0448\\u0435\\u043a\\u00bb\", \"pixar.\", \"\\u00ab\\u0438\\u0441\\u0442\\u043e\\u0440\\u0438\\u0438\", \"pixar,\", \"\\u043d\\u0435\\u043c\\u043e\\u00bb,\", \"\\u043c\\u0443\\u043b\\u044c\\u0442\\u0444\\u0438\\u043b\\u044c\\u043c\", \"\\u043f\\u0438\\u043a\\u0441\\u0430\\u0440\\u0430\", \"\\u043c\\u0443\\u043b\\u044c\\u0442\\u0444\\u0438\\u043b\\u044c\\u043c\\u044b\", \"\\u0438\\u0433\\u0440\\u0443\\u0448\\u0435\\u043a\\u00bb,\", \"\\u00ab\\u0438\\u0441\\u0442\\u043e\\u0440\\u0438\\u044f\", \"\\u043c\\u0443\\u043b\\u044c\\u0442\\u0444\\u0438\\u043b\\u044c\\u043c\\u0430\", \"\\u043c\\u0443\\u043b\\u044c\\u0442\\u0444\\u0438\\u043b\\u044c\\u043c,\", \"\\u043c\\u0438\\u044f\\u0434\\u0437\\u0430\\u043a\\u0438\", \"\\u043c\\u0443\\u043b\\u044c\\u0442\\u0444\\u0438\\u043b\\u044c\\u043c\\u043e\\u0432\", \"\\u043c\\u0443\\u043b\\u044c\\u0442\\u0444\\u0438\\u043b\\u044c\\u043c.\", \"\\u0430\\u043d\\u0438\\u043c\\u0430\\u0446\\u0438\\u043e\\u043d\\u043d\\u044b\\u0445\", \"\\u043f\\u0435\\u0440\\u0438\\u043e\\u0434\\u00bb\", \"\\u043c\\u0443\\u043b\\u044c\\u0442\\u0438\\u043a\", \"\\u043c\\u0443\\u043b\\u044c\\u0442\\u0444\\u0438\\u043b\\u044c\\u043c\\u0435\", \"\\u0445\\u0430\\u044f\\u043e\", \"\\u0441\\u0442\\u0443\\u0434\\u0438\\u0438\", \"\\u2014\", \"\\u0438\\u0433\\u0440\\u0443\\u0448\\u0435\\u043a\", \"\\u044d\\u0442\\u043e\", \"\\u00ab\\u0443\\u043d\\u0435\\u0441\\u0435\\u043d\\u043d\\u044b\\u0435\", \"\\u043f\\u0440\\u0438\\u0437\\u0440\\u0430\\u043a\\u0430\\u043c\\u0438\\u00bb\", \"\\u043f\\u0440\\u043e\\u0441\\u0442\\u043e\", \"10\", \"\\u043e\\u0447\\u0435\\u043d\\u044c\", \"\\u0444\\u0438\\u043b\\u044c\\u043c\", \"\\u043a\\u043e\\u0442\\u043e\\u0440\\u044b\\u0439\"], \"Freq\": [7702.0, 102812.0, 7520.0, 132784.0, 34563.0, 4094.0, 1189.0, 3414.0, 7891.0, 10719.0, 5933.0, 3225.0, 16609.0, 4917.0, 20559.0, 5335.0, 4586.0, 2326.0, 2297.0, 8123.0, 16984.0, 3896.0, 3275.0, 9069.0, 8598.0, 2070.0, 34769.0, 2579.0, 4414.0, 3020.0, 333.0928313606168, 1641.5817750543436, 529.2488688710358, 315.7224783100657, 433.2707928230272, 2744.028980630175, 443.9632725897745, 288.536003961132, 656.7509404600346, 305.75084598682514, 175.32816567602208, 619.4646251182643, 248.21555576166776, 1535.84036951308, 209.05730682433543, 198.45962388073826, 200.1901871135301, 274.3923505794243, 364.50990174135825, 1193.6641932150922, 841.6049268933982, 521.9039189177669, 196.0658092088665, 368.6187067886713, 217.81110181884475, 320.81717756976207, 158.72175283023762, 595.3442451491536, 164.28744491178162, 361.9245898725205, 1491.2047532450906, 1142.5214068353744, 886.1221966971451, 1650.25239394929, 1627.3336439346717, 2961.6054743617397, 1207.7213891384706, 733.654604901588, 1051.480778633024, 2459.6920281469625, 509.8559297865258, 618.4905873071699, 463.40534141051273, 1338.1275176230095, 673.1649133980472, 2251.952939223128, 8759.700134997189, 2895.656327032853, 4161.293734658669, 1849.6180354306696, 3406.9803476089564, 1232.601775307639, 1111.376997426172, 1687.546468526155, 3010.800185119269, 12386.559801287764, 2531.2028791655225, 2374.604546167362, 3421.6245622995184, 1712.0289582190371, 2387.7930703412544, 1599.563849145562, 3051.687728255616, 2224.9178787328574, 2830.978533999984, 33314.39045314293, 3843.341165163032, 4364.062417116747, 15294.005234561326, 3288.525399107519, 3561.18695077645, 4895.965959617068, 99178.44899475815, 20067.96585174968, 50894.57207486094, 4253.711590832155, 4235.003567406206, 72308.56652104613, 10880.94448059953, 6776.096788217017, 5301.255609139934, 9025.845089446333, 8743.127569095146, 7614.78975394735, 25312.333939891458, 11949.390282894696, 5758.863677933634, 6538.855057010483, 6129.022411597991, 5703.504798765275, 22654.221301587873, 5464.526159157063, 6717.24726848323, 9651.137335217736, 13319.355029852995, 10941.819813338881, 8097.156599216262, 10246.134046402502, 8056.90777890899, 6075.1341612867645, 6331.5387376249655, 6228.79892328954, 6746.979497105263, 6445.445469069237, 221.54512820665335, 150.77079717643326, 79.03881559786974, 55.27847615197712, 103.77262088559567, 93.52756134488004, 92.64107119589207, 292.82896769625836, 60.411263125460955, 70.24583242875869, 53.271420246866974, 59.26717654148083, 100.12992425326556, 40.051864434443274, 39.64317636571911, 46.31446801596549, 63.527595968310315, 51.723580504697864, 56.51836821326695, 59.332618844840724, 53.33570461473439, 46.811091811325085, 130.15993279252174, 32.702188907252896, 33.120239410767994, 53.407825047879946, 65.2638676058377, 27.623300672937653, 30.832689422636424, 30.13739337149059, 212.09133862137398, 97.09555218991049, 78.49333955675147, 75.18734530158454, 126.82703232718433, 88.37481577418053, 535.8732441831559, 122.99181523453889, 184.74518033454137, 376.0012424628886, 67.32152318663152, 6723.921443699506, 2060.388679095413, 523.1973959285529, 601.3770907618022, 2072.6513759663026, 169.80991781893655, 225.26744869412022, 399.48572377840424, 148.18160288717596, 2895.8914671754765, 1791.695095624372, 453.4196473432703, 691.2475718101983, 3341.6516617725993, 5934.920536547534, 2655.0707973734793, 421.4126934323827, 323.4487906793081, 462.31323194796715, 263.8240899751722, 1356.5453965880397, 924.0348135980508, 301.49086414627277, 252.7578141618478, 462.7149639823875, 1067.4032281290138, 644.112001209836, 1320.5904131928185, 312.8440890066548, 1908.9452014006706, 884.7337924329959, 1087.9470754172955, 2277.9522776912668, 1550.3517632157952, 3128.4770008112155, 2562.4992865206254, 3637.496213502513, 1910.5932257216482, 2881.5908038378398, 2006.2491061870844, 3126.9137289469377, 1847.601400189692, 4247.720638820106, 30504.084812594017, 5031.632356322555, 33605.91801247071, 1874.5111810121696, 11908.951704401112, 3853.9057504264533, 6363.604121681536, 7240.315871764284, 15148.394867708646, 6042.147350588634, 3968.363336862366, 9457.136700981868, 3760.8540205661625, 4131.972228003932, 3455.3007987010415, 2451.653044034582, 2933.5242527818673, 2903.379595996833, 3571.017949469592, 5598.034237121397, 3239.0017498764555, 3521.1482026349663, 4018.794147655176, 3268.9779796807666, 3008.4578207302475, 0.0410609762780123, 0.01581941589301683, 0.012668914990820247, 0.023850817243780412, 0.01597649321247994, 0.042981536206968304, 0.039562248290801946, 0.007545423054700022, 0.011210885694026741, 0.009387492958659262, 0.014358319747064963, 0.0070935498664061675, 0.004669675504084935, 0.010178968195640186, 0.00502573075507227, 0.004282069899337612, 0.006343808238389701, 0.004407441305411082, 0.004142722443962939, 0.004628040595023429, 0.00755278478007013, 0.00486651243445348, 0.0039007417514613104, 0.009511000152435327, 0.004537999820514641, 0.017118096342145978, 0.004184635572316096, 0.005944671552589277, 0.0037307236588529527, 0.0038254172755258563, 0.011545605673601175, 0.012881736298950041, 0.08198217632824543, 0.13652767925163056, 0.13109677001778555, 0.06481948193429936, 0.009703826147617283, 0.042077539504539775, 0.04208435695001028, 0.04724500582350812, 0.04486354309557162, 0.013150983912466921, 0.2939675163061121, 0.014861905247554959, 0.10239056982643442, 0.02220150753506783, 0.04135894985458805, 0.08910243310100012, 0.08392437871418186, 0.06814846659143242, 0.05299379740565747, 0.05091808981186271, 0.02560290645143266, 0.023715203577125712, 0.061018665967192395, 0.050906251545242094, 0.04391417304645314, 0.06480429645357867, 0.20902678034780894, 0.03373634776708046, 0.14541768536249883, 0.03930716482857523, 0.02916580129595938, 0.07820047095104318, 0.07754774131459394, 0.07662685691572715, 0.0503423975953168, 0.03981526906810033], \"Total\": [7702.0, 102812.0, 7520.0, 132784.0, 34563.0, 4094.0, 1189.0, 3414.0, 7891.0, 10719.0, 5933.0, 3225.0, 16609.0, 4917.0, 20559.0, 5335.0, 4586.0, 2326.0, 2297.0, 8123.0, 16984.0, 3896.0, 3275.0, 9069.0, 8598.0, 2070.0, 34769.0, 2579.0, 4414.0, 3020.0, 333.7353807982164, 1644.7520018127195, 530.3835811052608, 316.49343296531197, 434.3971976651698, 2751.548284472855, 445.1873465812348, 289.36088061800547, 658.7104006398296, 306.7046226670549, 175.89990422977954, 621.4948136240614, 249.03259907991674, 1541.0882793125406, 209.80477461889575, 199.16949470031958, 200.9178131086191, 275.39379698604097, 365.84237409796697, 1198.083308888686, 844.7387954160316, 523.8568177982829, 196.81005427974495, 370.0182236778628, 218.6585834376782, 322.0857785764768, 159.35012724740568, 597.7040317494211, 164.94898690431492, 363.3937123019329, 1501.8832478462184, 1150.7692315957886, 890.7347533303331, 1669.6963842155437, 1648.464379007321, 3018.281070786564, 1219.891681249943, 737.424043185725, 1062.361359081345, 2506.6543265424757, 512.2307136288165, 622.7779056667052, 465.31458980300056, 1358.221455531374, 679.2967373045526, 2301.515071570349, 9161.422128165485, 2974.0408334183085, 4312.722124835948, 1891.677178341161, 3528.2134276235306, 1255.0395899853427, 1129.3196613362081, 1730.8760850103745, 3125.972552058544, 13402.831981408724, 2624.5272951979387, 2458.3520887148575, 3586.1160340011493, 1758.2933287619826, 2478.831238823636, 1640.583987393476, 3214.6271466923827, 2313.5345910509473, 2974.3877960072437, 38912.50131712124, 4106.758896844995, 4696.484707951482, 17588.66583338529, 3492.3822715604438, 3805.1736416360336, 5348.684364006272, 132784.57603400922, 24086.77916694317, 66043.01728496718, 4634.506475050381, 4613.137292415425, 102812.79675132551, 13009.869158377725, 7748.65726289112, 5973.057987767362, 10798.441998194217, 10434.731527663847, 8983.313073438516, 34769.54884134428, 14957.866873047906, 6594.973040920812, 7649.453443500154, 7229.649698286383, 6658.6859137315905, 34563.25055373029, 6350.851438216872, 8310.496339828274, 13172.300121886254, 20559.710716886348, 16984.001799256886, 11366.155235125983, 16609.763114281388, 11627.956494540156, 7864.078249746803, 8511.582960522193, 8730.998806491869, 10878.96689029922, 9684.466224178459, 222.09464553926907, 151.54568967326693, 79.50106270133543, 55.61211590908352, 104.41478262127728, 94.14004285094596, 93.26852198427657, 294.9163232586839, 60.92560684514163, 70.88389304312912, 53.78189404189461, 59.84251114054673, 101.11143861410976, 40.46438662797952, 40.0544523649798, 46.810657535735885, 64.2464171135603, 52.31107403408541, 57.1718240740109, 60.0331961361554, 53.97522778504299, 47.38300019144502, 131.77616496841745, 33.10921150926015, 33.53306250283619, 54.07369964931004, 66.09823497403836, 27.98029654399686, 31.232156903809194, 30.529037499602307, 215.0146294540518, 98.4611035078544, 79.62351911762514, 76.28031893282181, 129.58835836877086, 90.00019571186904, 563.1260055517613, 125.86643582475443, 191.17234999596755, 395.31751055234497, 68.38912029695146, 7702.108212878941, 2297.770280266766, 559.7185321000252, 648.4315418327149, 2326.173766959925, 176.83337951928476, 237.82819314866015, 432.07938130238625, 154.19554032017487, 3414.1614663011546, 2070.6364808714043, 498.0851375255266, 779.0267456908235, 4094.1213111407005, 7520.217408985035, 3225.9388424434615, 465.1962496889195, 351.1714147292768, 514.6526064129888, 283.3797363346496, 1626.3139944065717, 1079.7711189264364, 326.913138057172, 271.19149264846646, 520.0869347299595, 1291.3147268221303, 746.7906778411431, 1634.7970662128118, 341.2524614422252, 2579.724103591488, 1090.0960426585807, 1392.76806654866, 3275.9250657286375, 2145.661365989998, 4917.188850512809, 3896.745472669344, 5933.457704402778, 2776.2341482934785, 4586.532268356827, 3020.698401417602, 5335.770850993187, 2821.413706529433, 7891.913509889097, 102812.79675132551, 10719.492856801768, 132784.57603400922, 2925.7623299695097, 34563.25055373029, 8123.404614152727, 16609.763114281388, 20559.710716886348, 66043.01728496718, 16984.001799256886, 9069.271369001199, 34769.54884134428, 8598.10191325327, 10878.96689029922, 8447.694572970713, 4414.32694613448, 6793.967679793636, 6756.496144804025, 11627.956494540156, 38912.50131712124, 9684.466224178459, 13172.300121886254, 24086.77916694317, 11366.155235125983, 14957.866873047906, 3.9011165850676446, 1.6491569555221277, 1.442126319119135, 3.1485368634056403, 2.358100700342119, 6.493601651156532, 6.338928244935228, 1.3293546405553063, 1.9831459855567606, 1.7012641672953452, 2.614577734649311, 1.3344922579266372, 0.8922653556013214, 1.9742745870027407, 0.9789458891473501, 0.8949489906431635, 1.3385710425284056, 0.9455785797772723, 0.898261682337149, 1.0199127958379748, 1.6714292722102433, 1.0909612828253799, 0.8862063248903066, 2.17134115233702, 1.0562162069931396, 3.9975675905450947, 0.9790151436379926, 1.425409745701688, 0.8992292718464749, 0.9261281173527216, 2.8152296838728197, 3.402347260598022, 29.354818098253446, 60.07573489498678, 62.672595604356054, 31.116312522374702, 2.7313689539281634, 19.996790464823732, 22.84570779171145, 28.95700940568516, 36.69302312878075, 5.259964762716147, 1189.4657362069356, 6.53916289166512, 234.2674258140589, 14.44176901512014, 50.339214145450335, 379.5526985658485, 372.74860209750955, 327.99426800839683, 182.33978785746518, 181.39743913605858, 28.313655430794046, 22.841564312195548, 455.8008831547381, 266.8222682547291, 195.49743546694907, 795.4396143369457, 132784.57603400922, 91.02862169000983, 102812.79675132551, 244.77610576056935, 69.69871746264769, 34769.54884134428, 34563.25055373029, 38912.50131712124, 66043.01728496718, 20559.710716886348], \"Category\": [\"Default\", \"Default\", \"Default\", \"Default\", \"Default\", \"Default\", \"Default\", \"Default\", \"Default\", \"Default\", \"Default\", \"Default\", \"Default\", \"Default\", \"Default\", \"Default\", \"Default\", \"Default\", \"Default\", \"Default\", \"Default\", \"Default\", \"Default\", \"Default\", \"Default\", \"Default\", \"Default\", \"Default\", \"Default\", \"Default\", \"Topic1\", \"Topic1\", \"Topic1\", \"Topic1\", \"Topic1\", \"Topic1\", \"Topic1\", \"Topic1\", \"Topic1\", \"Topic1\", \"Topic1\", \"Topic1\", \"Topic1\", \"Topic1\", \"Topic1\", \"Topic1\", \"Topic1\", \"Topic1\", \"Topic1\", \"Topic1\", \"Topic1\", \"Topic1\", \"Topic1\", \"Topic1\", \"Topic1\", \"Topic1\", \"Topic1\", \"Topic1\", \"Topic1\", \"Topic1\", \"Topic1\", \"Topic1\", \"Topic1\", \"Topic1\", \"Topic1\", \"Topic1\", \"Topic1\", \"Topic1\", \"Topic1\", \"Topic1\", \"Topic1\", \"Topic1\", \"Topic1\", \"Topic1\", \"Topic1\", \"Topic1\", \"Topic1\", \"Topic1\", \"Topic1\", \"Topic1\", \"Topic1\", \"Topic1\", \"Topic1\", \"Topic1\", \"Topic1\", \"Topic1\", \"Topic1\", \"Topic1\", \"Topic1\", \"Topic1\", \"Topic1\", \"Topic1\", \"Topic1\", \"Topic1\", \"Topic1\", \"Topic1\", \"Topic1\", \"Topic1\", \"Topic1\", \"Topic1\", \"Topic1\", \"Topic1\", \"Topic1\", \"Topic1\", \"Topic1\", \"Topic1\", \"Topic1\", \"Topic1\", \"Topic1\", \"Topic1\", \"Topic1\", \"Topic1\", \"Topic1\", \"Topic1\", \"Topic1\", \"Topic1\", \"Topic1\", \"Topic1\", \"Topic1\", \"Topic1\", \"Topic1\", \"Topic1\", \"Topic1\", \"Topic1\", \"Topic1\", \"Topic1\", \"Topic1\", \"Topic1\", \"Topic1\", \"Topic1\", \"Topic1\", \"Topic1\", \"Topic1\", \"Topic1\", \"Topic2\", \"Topic2\", \"Topic2\", \"Topic2\", \"Topic2\", \"Topic2\", \"Topic2\", \"Topic2\", \"Topic2\", \"Topic2\", \"Topic2\", \"Topic2\", \"Topic2\", \"Topic2\", \"Topic2\", \"Topic2\", \"Topic2\", \"Topic2\", \"Topic2\", \"Topic2\", \"Topic2\", \"Topic2\", \"Topic2\", \"Topic2\", \"Topic2\", \"Topic2\", \"Topic2\", \"Topic2\", \"Topic2\", \"Topic2\", \"Topic2\", \"Topic2\", \"Topic2\", \"Topic2\", \"Topic2\", \"Topic2\", \"Topic2\", \"Topic2\", \"Topic2\", \"Topic2\", \"Topic2\", \"Topic2\", \"Topic2\", \"Topic2\", \"Topic2\", \"Topic2\", \"Topic2\", \"Topic2\", \"Topic2\", \"Topic2\", \"Topic2\", \"Topic2\", \"Topic2\", \"Topic2\", \"Topic2\", \"Topic2\", \"Topic2\", \"Topic2\", \"Topic2\", \"Topic2\", \"Topic2\", \"Topic2\", \"Topic2\", \"Topic2\", \"Topic2\", \"Topic2\", \"Topic2\", \"Topic2\", \"Topic2\", \"Topic2\", \"Topic2\", \"Topic2\", \"Topic2\", \"Topic2\", \"Topic2\", \"Topic2\", \"Topic2\", \"Topic2\", \"Topic2\", \"Topic2\", \"Topic2\", \"Topic2\", \"Topic2\", \"Topic2\", \"Topic2\", \"Topic2\", \"Topic2\", \"Topic2\", \"Topic2\", \"Topic2\", \"Topic2\", \"Topic2\", \"Topic2\", \"Topic2\", \"Topic2\", \"Topic2\", \"Topic2\", \"Topic2\", \"Topic2\", \"Topic2\", \"Topic2\", \"Topic2\", \"Topic2\", \"Topic2\", \"Topic2\", \"Topic2\", \"Topic2\", \"Topic2\", \"Topic2\", \"Topic3\", \"Topic3\", \"Topic3\", \"Topic3\", \"Topic3\", \"Topic3\", \"Topic3\", \"Topic3\", \"Topic3\", \"Topic3\", \"Topic3\", \"Topic3\", \"Topic3\", \"Topic3\", \"Topic3\", \"Topic3\", \"Topic3\", \"Topic3\", \"Topic3\", \"Topic3\", \"Topic3\", \"Topic3\", \"Topic3\", \"Topic3\", \"Topic3\", \"Topic3\", \"Topic3\", \"Topic3\", \"Topic3\", \"Topic3\", \"Topic3\", \"Topic3\", \"Topic3\", \"Topic3\", \"Topic3\", \"Topic3\", \"Topic3\", \"Topic3\", \"Topic3\", \"Topic3\", \"Topic3\", \"Topic3\", \"Topic3\", \"Topic3\", \"Topic3\", \"Topic3\", \"Topic3\", \"Topic3\", \"Topic3\", \"Topic3\", \"Topic3\", \"Topic3\", \"Topic3\", \"Topic3\", \"Topic3\", \"Topic3\", \"Topic3\", \"Topic3\", \"Topic3\", \"Topic3\", \"Topic3\", \"Topic3\", \"Topic3\", \"Topic3\", \"Topic3\", \"Topic3\", \"Topic3\", \"Topic3\"], \"logprob\": [30.0, 29.0, 28.0, 27.0, 26.0, 25.0, 24.0, 23.0, 22.0, 21.0, 20.0, 19.0, 18.0, 17.0, 16.0, 15.0, 14.0, 13.0, 12.0, 11.0, 10.0, 9.0, 8.0, 7.0, 6.0, 5.0, 4.0, 3.0, 2.0, 1.0, -9.6132, -8.0182, -9.1501, -9.6667, -9.3502, -7.5044, -9.3259, -9.7568, -8.9343, -9.6988, -10.2549, -8.9927, -9.9073, -8.0848, -10.079, -10.131, -10.1223, -9.807, -9.523, -8.3368, -8.6863, -9.1641, -10.1431, -9.5118, -10.038, -9.6507, -10.3544, -9.0325, -10.32, -9.5302, -8.1143, -8.3806, -8.6347, -8.0129, -8.0269, -7.4281, -8.3251, -8.8236, -8.4636, -7.6138, -9.1875, -8.9943, -9.283, -8.2226, -8.9096, -7.702, -6.3437, -7.4506, -7.088, -7.8989, -7.288, -8.3047, -8.4082, -7.9906, -7.4116, -5.9972, -7.5851, -7.649, -7.2837, -7.9762, -7.6435, -8.0441, -7.3981, -7.7141, -7.4732, -5.0079, -7.1675, -7.0404, -5.7864, -7.3234, -7.2437, -6.9254, -3.9169, -5.5147, -4.5841, -7.0661, -7.0705, -4.2329, -6.1268, -6.6004, -6.8459, -6.3138, -6.3456, -6.4838, -5.2826, -6.0332, -6.7631, -6.6361, -6.7008, -6.7728, -5.3935, -6.8156, -6.6092, -6.2468, -5.9246, -6.1213, -6.4223, -6.1869, -6.4273, -6.7096, -6.6683, -6.6847, -6.6047, -6.6505, -9.2542, -9.6391, -10.2849, -10.6425, -10.0127, -10.1166, -10.1261, -8.9753, -10.5537, -10.4029, -10.6795, -10.5728, -10.0484, -10.9647, -10.9749, -10.8194, -10.5034, -10.7089, -10.6203, -10.5717, -10.6782, -10.8087, -9.7861, -11.1674, -11.1547, -10.6769, -10.4764, -11.3362, -11.2263, -11.2491, -9.2978, -10.0792, -10.2918, -10.3349, -9.812, -10.1733, -8.371, -9.8427, -9.4359, -8.7253, -10.4454, -5.8414, -7.0242, -8.3949, -8.2556, -7.0183, -9.5202, -9.2376, -8.6647, -9.6564, -6.6838, -7.1639, -8.538, -8.1164, -6.5406, -5.9662, -6.7706, -8.6112, -8.8758, -8.5186, -9.0796, -7.4422, -7.8261, -8.9461, -9.1224, -8.5177, -7.6819, -8.187, -7.469, -8.9091, -7.1005, -7.8696, -7.6628, -6.9238, -7.3086, -6.6066, -6.8061, -6.4558, -7.0997, -6.6888, -7.0508, -6.6071, -7.1332, -6.3007, -4.3292, -6.1314, -4.2324, -7.1187, -5.2698, -6.398, -5.8965, -5.7674, -5.0292, -5.9483, -6.3687, -5.5003, -6.4225, -6.3283, -6.5072, -6.8503, -6.6709, -6.6812, -6.4742, -6.0247, -6.5718, -6.4883, -6.3561, -6.5626, -6.6457, -10.5533, -11.5071, -11.7292, -11.0965, -11.4972, -10.5076, -10.5905, -12.2474, -11.8515, -12.029, -11.604, -12.3092, -12.7273, -11.948, -12.6538, -12.8139, -12.4209, -12.7851, -12.847, -12.7362, -12.2464, -12.686, -12.9072, -12.0159, -12.7559, -11.4282, -12.8369, -12.4859, -12.9518, -12.9267, -11.822, -11.7125, -9.8619, -9.3518, -9.3924, -10.0967, -11.9958, -10.5288, -10.5287, -10.413, -10.4647, -11.6919, -8.5849, -11.5696, -9.6396, -11.1682, -10.5461, -9.7786, -9.8384, -10.0467, -10.2982, -10.3381, -11.0256, -11.1022, -10.1572, -10.3384, -10.4861, -10.097, -8.9259, -10.7498, -9.2887, -10.5969, -10.8954, -9.9091, -9.9175, -9.9294, -10.3495, -10.5841], \"loglift\": [30.0, 29.0, 28.0, 27.0, 26.0, 25.0, 24.0, 23.0, 22.0, 21.0, 20.0, 19.0, 18.0, 17.0, 16.0, 15.0, 14.0, 13.0, 12.0, 11.0, 10.0, 9.0, 8.0, 7.0, 6.0, 5.0, 4.0, 3.0, 2.0, 1.0, 0.3798, 0.3798, 0.3796, 0.3793, 0.3791, 0.379, 0.379, 0.3789, 0.3788, 0.3786, 0.3785, 0.3785, 0.3785, 0.3783, 0.3782, 0.3782, 0.3781, 0.3781, 0.3781, 0.378, 0.378, 0.378, 0.378, 0.378, 0.3779, 0.3778, 0.3778, 0.3778, 0.3777, 0.3777, 0.3746, 0.3746, 0.3766, 0.37, 0.3688, 0.3628, 0.3717, 0.3766, 0.3714, 0.3628, 0.3771, 0.3748, 0.3776, 0.3668, 0.3727, 0.36, 0.3369, 0.355, 0.346, 0.3593, 0.3468, 0.3637, 0.3657, 0.3564, 0.3442, 0.3029, 0.3455, 0.3471, 0.3348, 0.3551, 0.3443, 0.3564, 0.3297, 0.3427, 0.3323, 0.2264, 0.3155, 0.3083, 0.242, 0.3216, 0.3155, 0.2933, 0.0899, 0.1992, 0.1212, 0.296, 0.2962, 0.0298, 0.203, 0.2476, 0.2624, 0.2024, 0.2049, 0.2165, 0.0643, 0.1572, 0.2462, 0.2249, 0.2166, 0.2269, -0.0407, 0.2314, 0.1689, 0.0707, -0.0524, -0.0579, 0.0426, -0.1013, 0.0149, 0.1236, 0.0859, 0.044, -0.096, -0.0254, 1.146, 1.1434, 1.1427, 1.1425, 1.1423, 1.142, 1.1417, 1.1414, 1.14, 1.1394, 1.139, 1.1388, 1.1387, 1.1382, 1.1382, 1.1378, 1.1372, 1.1372, 1.137, 1.1368, 1.1366, 1.1363, 1.1361, 1.1361, 1.1361, 1.1361, 1.1358, 1.1356, 1.1356, 1.1356, 1.1348, 1.1345, 1.1342, 1.1341, 1.127, 1.1303, 1.0989, 1.1254, 1.1143, 1.0984, 1.1328, 1.0127, 1.0394, 1.081, 1.0732, 1.0331, 1.108, 1.0942, 1.0701, 1.1087, 0.9839, 1.0038, 1.0545, 1.0289, 0.9454, 0.9117, 0.9537, 1.0496, 1.0663, 1.0412, 1.077, 0.9671, 0.9927, 1.0675, 1.0781, 1.0316, 0.9581, 1.0006, 0.9351, 1.0616, 0.8474, 0.9398, 0.9015, 0.7852, 0.8235, 0.6963, 0.7293, 0.6592, 0.7748, 0.6837, 0.7393, 0.6141, 0.7251, 0.529, -0.0666, 0.3922, -0.2255, 0.7033, 0.083, 0.4028, 0.1891, 0.1048, -0.3239, 0.115, 0.322, -0.1535, 0.3216, 0.1804, 0.2545, 0.5604, 0.3087, 0.3039, -0.0321, -0.7904, 0.0532, -0.1708, -0.6422, -0.0977, -0.4553, 3.8888, 3.796, 3.708, 3.5599, 3.4483, 3.4249, 3.3662, 3.2712, 3.2672, 3.243, 3.2382, 3.2056, 3.1901, 3.1751, 3.1708, 3.1004, 3.0909, 3.0742, 3.0636, 3.0474, 3.0432, 3.0303, 3.017, 3.0121, 2.9928, 2.9894, 2.9876, 2.963, 2.9578, 2.9534, 2.9462, 2.8663, 2.562, 2.3559, 2.273, 2.2689, 2.8027, 2.2789, 2.1459, 2.0245, 1.736, 2.4514, 0.1372, 2.356, 0.7073, 1.965, 1.3385, 0.0858, 0.044, -0.0363, 0.2993, 0.2645, 1.4344, 1.5725, -0.4759, -0.1216, 0.0417, -0.9725, -4.919, 0.5424, -5.0261, -0.2939, 0.6638, -4.5622, -4.5647, -4.6951, -5.6442, -4.7118]}, \"token.table\": {\"Topic\": [2, 1, 2, 1, 2, 2, 1, 2, 1, 2, 1, 2, 1, 2, 1, 2, 1, 2, 2, 2, 1, 2, 1, 2, 1, 2, 1, 2, 1, 2, 1, 2, 1, 2, 1, 2, 1, 2, 1, 2, 1, 2, 1, 2, 1, 2, 2, 1, 2, 1, 2, 2, 1, 2, 1, 2, 2, 2, 1, 2, 1, 2, 1, 2, 1, 2, 2, 2, 1, 2, 1, 2, 1, 2, 1, 2, 1, 2, 1, 2, 1, 2, 2, 1, 2, 1, 2, 1, 2, 1, 2, 1, 2, 1, 2, 1, 2, 1, 2, 1, 2, 1, 2, 1, 2, 2, 1, 2, 1, 2, 1, 2, 1, 2, 1, 2, 1, 2, 1, 2, 1, 2, 1, 2, 1, 2, 1, 2, 1, 2, 2, 1, 2, 1, 2, 1, 2, 2, 1, 2, 1, 2, 1, 2, 1, 2, 1, 2, 1, 2, 1, 2, 1, 2, 1, 2, 1, 2, 1, 2, 1, 2, 1, 2, 1, 2, 1, 2, 1, 2, 1, 2, 1, 2, 1, 2, 1, 2, 1, 2, 1, 2, 2, 1, 2, 1, 2, 1, 2, 1, 2, 1, 2, 1, 2, 1, 2, 1, 2, 1, 2, 1, 2, 1, 2, 1, 2, 1, 2, 1, 2, 1, 2, 1, 2, 1, 2, 1, 2, 1, 2, 1, 2, 1, 2, 1, 2, 1, 2, 1, 2, 1, 2, 1, 2, 1, 2, 1, 2, 1, 2, 1, 2, 1, 2, 1, 2, 1, 2, 1, 2, 1, 2, 1, 2, 1, 2, 2, 1, 2, 1, 2, 1, 2, 1, 2, 1, 2, 1, 2, 1, 2, 1, 2, 1, 2, 1, 2, 1, 2, 1, 2, 1, 2, 1, 2, 1, 2, 2, 2, 1, 2, 1, 2, 1, 2, 1, 2, 1, 2, 1, 2, 1, 2, 1, 2, 2, 1, 2, 1, 2, 1, 2, 1, 2, 1, 2, 1, 2, 1, 2, 1, 2, 1, 2, 1, 2, 1, 2, 1, 2, 1, 2, 1, 2, 1, 2, 1, 2, 1, 2, 2, 2, 2, 2, 1, 2, 2, 1, 2, 1, 2, 1, 2, 1, 2, 1, 2, 1, 2, 1, 2, 1, 2, 2, 1, 2, 2, 1, 2, 1, 2, 1, 2, 1, 2, 1, 2, 1, 2, 1, 2, 1, 2, 1, 2, 1, 2, 1, 2, 1, 2, 1, 2, 1, 2, 1, 2, 1, 2, 1, 2, 1, 2, 1, 2, 1, 2, 1, 2, 1, 2, 1, 2, 1, 2, 1, 2, 1, 2, 1, 2, 1, 2, 1, 2, 1, 2, 1, 2, 1, 2, 1, 2, 1, 2, 1, 2, 1, 2, 1, 2, 1, 2, 1, 2, 1, 2, 1, 2, 1, 2, 1, 2, 1, 2, 1, 2, 1, 2, 1, 2, 1, 2, 1, 2, 1, 2, 1, 2, 1, 2, 1, 2, 1, 2, 1, 2, 1, 2, 1, 2, 1, 2, 1, 2, 1, 2, 1, 2], \"Freq\": [1.0797642154072986, 0.9648198700393387, 0.03501268934773856, 0.6554360379034151, 0.3445567129598203, 1.1207428302828966, 0.5744137394159214, 0.4308103045619411, 0.693420532405795, 0.693420532405795, 0.7630878464750362, 0.24527823636697593, 0.35017518708273265, 0.6565784757801237, 0.7104216083885082, 0.3552108041942541, 0.5042493125987666, 0.5042493125987666, 0.9467758526891221, 1.112063442893271, 0.07637485477906962, 0.9234414259651145, 0.9961647319291674, 0.0027518362760474238, 0.013952538985916278, 0.985979421671417, 0.587077199921839, 0.4144074352389452, 0.5760916313911314, 0.4370350307105135, 0.9966982557840162, 0.003244460468046928, 0.9956450998164219, 0.0039044905875153797, 0.9941281434585189, 0.005020849209386459, 0.5003042361886086, 0.5003042361886086, 0.5126737323502267, 0.25633686617511336, 0.7712996192187748, 0.2249623889388093, 0.9824391276887129, 0.017529327501339564, 0.9958535585954136, 0.004015538542723442, 0.7015526609211787, 0.031385291859029614, 0.967713165653413, 0.5160153272230199, 0.4827240157892767, 1.0215069199289326, 0.985111812621556, 0.014725139202115935, 0.9973913575861878, 0.0018854278971383513, 0.9804759819474427, 1.1284053971559938, 0.9950257527837661, 0.004298167398633979, 0.1960975719049627, 0.8048171180266177, 0.9180303406453717, 0.08193989817330591, 0.9973329282820976, 0.0022462453339686882, 0.5877981910297865, 0.9166228130572996, 0.7470653168404987, 0.7470653168404987, 0.8476475267795165, 0.14127458779658608, 0.9964554860503927, 0.0038178371113041865, 0.9907305055968059, 0.008832664240090394, 0.9954318977774115, 0.004977159488887058, 0.07973314121135289, 0.919778736116678, 0.010721730962656214, 0.9971209795270279, 0.9826822014812114, 0.9967835942020815, 0.0023020406332611583, 0.993248662388188, 0.0069518716527607214, 0.9949388947707067, 0.003631163849528127, 0.4605448567691436, 0.4605448567691436, 0.02383478947617887, 0.9772263685233337, 0.8082549736299863, 0.1916853019193938, 0.9417640293227207, 0.058412849492804814, 0.06610465417533802, 0.934398219829778, 0.009577187969897889, 0.9960275488693805, 0.924207661275035, 0.07580487477641362, 0.9978027802459042, 0.0062754891839365045, 1.0214346596152009, 0.9178970884820602, 0.08220940073146801, 0.712378093779418, 0.2876082485568627, 0.7988438526305188, 0.20109819304649765, 0.9660943242843497, 0.034169230837846475, 0.996628914877038, 0.0031047629746948223, 0.022222173898409026, 0.9777756515299971, 0.015177251519493958, 0.9865213487671072, 0.7724999430410798, 0.22749010668320854, 0.01849327873782277, 0.9801437731046068, 0.35922261669523675, 0.6408586168444994, 0.01462220884927184, 0.9796879929012132, 0.016710528701768375, 0.9859211934043342, 0.9936974087602101, 0.9752624750056503, 0.02499110092201979, 0.92920562322101, 0.07069117023587886, 0.038911631215413064, 0.9598202366468556, 0.9826710062638169, 0.9976974397784184, 0.0027334176432285435, 0.8476828022965952, 0.1523936646545028, 0.5702659954839296, 0.4296605722527505, 0.5065151557859827, 0.5065151557859827, 0.016413459820626187, 0.9848075892375713, 0.016657450616688777, 0.9827895863846379, 0.17346661921161102, 0.8262896549053079, 0.2107651832121592, 0.7892059068543626, 0.15172100239336148, 0.8482317045003375, 0.17700273560285495, 0.8230162224616111, 0.1269782211530935, 0.8730077290730069, 0.10314347001323598, 0.8965213005369879, 0.13474117865564986, 0.8654343804692636, 0.03958528655070242, 0.9613569590884874, 0.10103902973003116, 0.8976929179860461, 0.10919218658886022, 0.8911630031445167, 0.015565070317188677, 0.9961645003000753, 0.04794664024358971, 0.9518295989097809, 0.04806263191694404, 0.9511341895142611, 0.05466130750896317, 0.9460610915012856, 0.8744740888786957, 0.12557014292782923, 0.5932200114365389, 0.40646556339170253, 0.6063704225674489, 0.8001284020125895, 0.20003210050314738, 0.5539487573595878, 0.41546156801969086, 0.6928990492682975, 0.30710469218531594, 0.012559103278551828, 0.9796100557270426, 0.02110461549415669, 0.9919169282253645, 0.4139982884738804, 0.586044657337177, 0.46173846120257445, 0.5382724981307728, 0.9954759686972385, 0.003346137709906684, 0.9969880741596138, 0.004573339789722999, 0.9948839981822617, 0.005685051418184353, 0.8358613216155982, 0.16419035267277374, 0.9923280745459485, 0.006422835433954359, 0.010156294865415848, 0.9851606019453373, 0.006781584613225065, 0.9935021458374719, 0.9942467854933512, 0.006062480399349703, 0.8548323155762557, 0.1452391348226365, 0.9974034103026638, 0.0030362356478011074, 0.5625660231526404, 0.4374221238530247, 0.644253346727669, 0.35574654733399524, 0.647820399003021, 0.3521450325686517, 0.5982903474447547, 0.5982903474447547, 0.6201875663410928, 0.37981547711892627, 0.26010533415795695, 0.7400016138711473, 0.19207276945230622, 0.8080513644792883, 0.18805682433268517, 0.8118550708996409, 0.13792352135106606, 0.862356774272685, 0.18367799653461622, 0.8162923728971907, 0.1660196007220123, 0.8344022154806322, 0.1444750625994731, 0.8557369092430329, 0.3717405438882552, 0.6283614354756314, 0.3423369602547289, 0.6574717332628301, 0.3869581809433493, 0.612964679482126, 0.34521700867403055, 0.6549907926382017, 0.9779681338769926, 0.022202519796126318, 0.08205069021821683, 0.9172095013679238, 0.010622472326503212, 0.9985123986913019, 0.017491133372016705, 0.9969946022049521, 1.1173821194896714, 0.09034600033150714, 0.9094830700038384, 0.0705766765778254, 0.9316121308272952, 0.4446884030008135, 0.5554640673245006, 0.35061588331493626, 0.6494015925746212, 0.7887768731244079, 0.3155107492497632, 0.4519517350958398, 0.5462911749459423, 0.5548709642571641, 0.44473748498793914, 0.3890021295427114, 0.6116723140395738, 0.6008905115702526, 0.40243126004246277, 0.6428619818063775, 0.3556818341961515, 0.5959022874665256, 0.40476381790179095, 0.7184389185667067, 0.27969759425116064, 0.5719958698242475, 0.42686258942108024, 0.5909304552714807, 0.40898732431149154, 0.018593618127710928, 0.9854617607686792, 0.992566734839217, 0.749348671047123, 0.3661167776553341, 0.3661167776553341, 0.7604613681735911, 0.38023068408679556, 0.015128997020764224, 0.9833848063496745, 0.9987528354999656, 0.0034558921643597427, 0.9967578197770794, 0.0035513936571629906, 0.5255185729099938, 0.4744316186449089, 0.9643641369746604, 0.03543495248464774, 0.9358311434294885, 0.06412322353181556, 0.9889931195913454, 0.009890077855745723, 0.9890077855745724, 0.994684440780344, 0.0056133433452615344, 0.9984409377449356, 0.0031596232207118215, 0.8561258945680282, 0.1438612222426554, 0.9902518547894691, 0.009836938954862276, 0.9972481796497967, 0.0027025695925468746, 0.9869791672294147, 0.012739128771860916, 0.9977026017380254, 0.003260466018751717, 0.9961641739547749, 0.004766335760549162, 0.87559677291111, 0.1313395159366665, 0.6116990914996839, 0.458774318624763, 0.9958840808072054, 0.005081041228608191, 0.9977965153216374, 0.0029963859318968087, 0.9736714415025519, 0.026161732657194736, 0.4240701000830531, 0.4240701000830531, 0.9633572316658632, 0.03671084928039931, 0.9737593268588012, 0.02622694319578263, 1.113261335380735, 1.0007041903924125, 0.9986405415187398, 0.9885235717953916, 0.14347466300738043, 0.8465005117435446, 0.9841033755031738, 0.7279933402501225, 0.2719908746343793, 0.30659362186732414, 0.715385117690423, 0.9153652873868217, 0.08469372450699146, 0.8732408706246825, 0.12676321719781813, 0.9882036133025481, 0.011379314334999039, 0.9927535992815516, 0.0073241378887304275, 0.9752286802147841, 0.024842910692675187, 0.023150227672943204, 0.9800263048212623, 0.9967014765896915, 0.5306221176677058, 0.4694251927046231, 1.0575535670822265, 0.10959706194041512, 0.8902357838317929, 0.218988363766699, 0.7811781632071099, 0.29391473691731057, 0.5878294738346211, 0.8874851057626235, 0.11250518601631447, 0.9837781436351402, 0.015938799806869956, 0.837874934953636, 0.16215079377119432, 0.9494102615105101, 0.050705724975823444, 0.9517925012334557, 0.04807712033782556, 0.004502584911814939, 0.9995738504229165, 0.9656445308340728, 0.034294977467250604, 0.9972567137871248, 0.0029074539760557574, 0.9965917988687503, 0.0033386659928601346, 0.995985785288354, 0.003218047771529415, 0.013109541412388105, 0.9832156059291078, 0.7439274256467479, 0.25612157105336547, 0.9315603430408417, 0.06788698856168077, 0.9632202298184509, 0.036788550790143426, 0.07248259371707932, 0.9268518898715888, 0.0764729131064408, 0.9207338738015474, 0.9561834262683553, 0.04387965038354781, 0.0663737635137862, 0.9329201204993282, 0.2773037765563112, 0.7223879893483738, 0.018527017690087615, 0.9819319375746436, 0.61686611238846, 0.38314814944760484, 0.665498732796369, 0.3344531257606577, 0.5624487119698762, 0.4375213662216171, 0.30799548654848474, 0.7699887163712118, 0.317607842430767, 0.952823527292301, 0.38247093851815744, 0.7649418770363149, 0.7522447129550575, 0.7522447129550575, 0.9983267983199373, 0.001823983188160665, 0.11296146183269172, 0.8870042059817043, 0.01410757729392138, 0.9875304105744965, 0.7706340820316337, 0.22936565624550914, 0.7326738618690075, 0.26730335381212056, 0.8331541490421199, 0.16685501918478574, 0.8477589172062837, 0.1522895362773892, 0.8566254774440059, 0.14342169196336352, 0.8695372431813587, 0.13048175579320115, 0.8605145393755907, 0.13950885304424032, 0.14322438518501027, 0.8542311544963112, 0.8363650600585144, 0.163644997046648, 0.9617318922338959, 0.038469275689355834, 0.09458373757188102, 0.9049943981309525, 0.9813532704653323, 0.018884921139947313, 0.9357744383173731, 0.06404076952315095, 0.36382576597875166, 0.6361358278264589, 0.3356839595519148, 0.6640848351687783, 0.30464677304150206, 0.6953761011909235, 0.3119333434221753, 0.6883425164893499, 0.713434984708562, 0.28656515198921534, 0.019116411170384484, 0.9940533808599932, 0.006598670025891226, 0.9963991739095751, 0.9784858799397024, 0.021724819714469414, 0.9893055606887194, 0.010354292262203534, 0.568151068996143, 0.4318536881955139, 0.7033073925116015, 0.2966945843694961, 0.9953567513598649, 0.005424287473350762, 0.9813878100189316, 0.01875009230523975, 0.9542357156195976, 0.0457319279256616, 0.7469090384006514, 0.25308662349001076], \"Term\": [\"(\\\"\\u0441\\u043c\\u044b\\u0432\\u0430\\u0439\\u0441\\u044f\\u00bb\", \"1\", \"1\", \"10\", \"10\", \"ghibli\", \"pixar\", \"pixar\", \"pixar!\", \"pixar!\", \"pixar,\", \"pixar,\", \"pixar.\", \"pixar.\", \"\\u00abpixar\\u00bb.\", \"\\u00abpixar\\u00bb.\", \"\\u00ab\\u0430\\u043b\\u0430\\u0434\\u0434\\u0438\\u043d\\u00bb\", \"\\u00ab\\u0430\\u043b\\u0430\\u0434\\u0434\\u0438\\u043d\\u00bb\", \"\\u00ab\\u0430\\u043b\\u043b\\u0430\\u0434\\u0438\\u043d\\u00bb\", \"\\u00ab\\u0430\\u043b\\u043b\\u0430\\u0434\\u0438\\u043d\\u00bb,\", \"\\u00ab\\u0431\\u043e\\u0439\\u0446\\u043e\\u0432\\u0441\\u043a\\u0438\\u0439\", \"\\u00ab\\u0431\\u043e\\u0439\\u0446\\u043e\\u0432\\u0441\\u043a\\u0438\\u0439\", \"\\u00ab\\u0432\\u0430\\u043c\\u043f\\u0438\\u0440\\u0441\\u043a\\u0438\\u0439\", \"\\u00ab\\u0432\\u0430\\u043c\\u043f\\u0438\\u0440\\u0441\\u043a\\u0438\\u0439\", \"\\u00ab\\u0432\\u043d\\u0443\\u0442\\u0440\\u0438\", \"\\u00ab\\u0432\\u043d\\u0443\\u0442\\u0440\\u0438\", \"\\u00ab\\u0438\\u0441\\u0442\\u043e\\u0440\\u0438\\u0438\", \"\\u00ab\\u0438\\u0441\\u0442\\u043e\\u0440\\u0438\\u0438\", \"\\u00ab\\u0438\\u0441\\u0442\\u043e\\u0440\\u0438\\u044f\", \"\\u00ab\\u0438\\u0441\\u0442\\u043e\\u0440\\u0438\\u044f\", \"\\u00ab\\u043a\\u043d\\u0438\\u0433\\u0430\", \"\\u00ab\\u043a\\u043d\\u0438\\u0433\\u0430\", \"\\u00ab\\u043a\\u043d\\u0438\\u0433\\u0443\", \"\\u00ab\\u043a\\u043d\\u0438\\u0433\\u0443\", \"\\u00ab\\u043a\\u043e\\u0434\", \"\\u00ab\\u043a\\u043e\\u0434\", \"\\u00ab\\u043a\\u043e\\u0440\\u043f\\u043e\\u0440\\u0430\\u0446\\u0438\\u0438\", \"\\u00ab\\u043a\\u043e\\u0440\\u043f\\u043e\\u0440\\u0430\\u0446\\u0438\\u0438\", \"\\u00ab\\u043a\\u043e\\u0440\\u043f\\u043e\\u0440\\u0430\\u0446\\u0438\\u044f\", \"\\u00ab\\u043a\\u043e\\u0440\\u043f\\u043e\\u0440\\u0430\\u0446\\u0438\\u044f\", \"\\u00ab\\u043b\\u0435\\u0434\\u043d\\u0438\\u043a\\u043e\\u0432\\u044b\\u0439\", \"\\u00ab\\u043b\\u0435\\u0434\\u043d\\u0438\\u043a\\u043e\\u0432\\u044b\\u0439\", \"\\u00ab\\u043e\\u0447\\u0435\\u043d\\u044c\", \"\\u00ab\\u043e\\u0447\\u0435\\u043d\\u044c\", \"\\u00ab\\u043f\\u0438\\u0440\\u0430\\u0442\\u044b\", \"\\u00ab\\u043f\\u0438\\u0440\\u0430\\u0442\\u044b\", \"\\u00ab\\u043f\\u0440\\u0438\\u043d\\u0446\\u0435\\u0441\\u0441\\u0435\", \"\\u00ab\\u043f\\u0440\\u043e\\u043b\\u0435\\u0442\\u0430\\u044f\", \"\\u00ab\\u043f\\u0440\\u043e\\u043b\\u0435\\u0442\\u0430\\u044f\", \"\\u00ab\\u0440\\u0430\\u0442\\u0430\\u0442\\u0443\\u0439\\u00bb\", \"\\u00ab\\u0440\\u0430\\u0442\\u0430\\u0442\\u0443\\u0439\\u00bb\", \"\\u00ab\\u0440\\u0443\\u0441\\u0430\\u043b\\u043e\\u0447\\u043a\\u0430\\u00bb,\", \"\\u00ab\\u0441\\u0430\\u043c\\u044b\\u0439\", \"\\u00ab\\u0441\\u0430\\u043c\\u044b\\u0439\", \"\\u00ab\\u0441\\u0443\\u043c\\u0435\\u0440\\u043a\\u0438\\u00bb\", \"\\u00ab\\u0441\\u0443\\u043c\\u0435\\u0440\\u043a\\u0438\\u00bb\", \"\\u00ab\\u0441\\u0443\\u043f\\u0435\\u0440\\u0441\\u0435\\u043c\\u0435\\u0439\\u043a\\u0438\\u00bb.\", \"\\u00ab\\u0442\\u0430\\u0447\\u043a\\u0438\\u00bb.\", \"\\u00ab\\u0442\\u0435\\u043c\\u043d\\u044b\\u0439\", \"\\u00ab\\u0442\\u0435\\u043c\\u043d\\u044b\\u0439\", \"\\u00ab\\u0443\\u043d\\u0435\\u0441\\u0435\\u043d\\u043d\\u044b\\u0435\", \"\\u00ab\\u0443\\u043d\\u0435\\u0441\\u0435\\u043d\\u043d\\u044b\\u0435\", \"\\u0430\\u043a\\u0442\\u0435\\u0440\\u044b\", \"\\u0430\\u043a\\u0442\\u0435\\u0440\\u044b\", \"\\u0430\\u043a\\u0442\\u0440\\u0438\\u0441\\u0430,\", \"\\u0430\\u043a\\u0442\\u0440\\u0438\\u0441\\u0430,\", \"\\u0430\\u043b\\u0430\\u0434\\u0434\\u0438\\u043d\", \"\\u0430\\u043b\\u0430\\u0434\\u0434\\u0438\\u043d\\u0430\", \"\\u0430\\u043b\\u0430\\u0434\\u0434\\u0438\\u043d\\u0430,\", \"\\u0430\\u043b\\u0430\\u0434\\u0434\\u0438\\u043d\\u0430,\", \"\\u0430\\u043d\\u0438\\u043c\\u0430\\u0446\\u0438\\u043e\\u043d\\u043d\\u044b\\u0445\", \"\\u0430\\u043d\\u0438\\u043c\\u0430\\u0446\\u0438\\u043e\\u043d\\u043d\\u044b\\u0445\", \"\\u0430\\u0440\\u0442\\u0443\\u0440\", \"\\u0430\\u0440\\u0442\\u0443\\u0440\", \"\\u0431\\u0430\\u0431\\u0430\", \"\\u0431\\u0430\\u0431\\u0430\", \"\\u0431\\u043b\\u043e\\u043a\\u0431\\u0430\\u0441\\u0442\\u0435\\u0440\", \"\\u0431\\u043b\\u043e\\u043a\\u0431\\u0430\\u0441\\u0442\\u0435\\u0440\", \"\\u0431\\u043e\\u043b\\u044c\", \"\\u0431\\u043e\\u043b\\u044c\", \"\\u0431\\u043e\\u043b\\u044c\\u043d\\u043e.\", \"\\u0431\\u043e\\u043b\\u044c\\u043d\\u043e.\", \"\\u0431\\u043e\\u0441\\u0438\\u043a\\u043e\\u043c\", \"\\u0431\\u0440\\u0435\\u0434.\", \"\\u0431\\u0440\\u0435\\u0434.\", \"\\u0431\\u044e\\u0434\\u0436\\u0435\\u0442\", \"\\u0431\\u044e\\u0434\\u0436\\u0435\\u0442\", \"\\u0431\\u044e\\u0434\\u0436\\u0435\\u0442,\", \"\\u0431\\u044e\\u0434\\u0436\\u0435\\u0442,\", \"\\u0432\\u0430\\u043b\\u043b-\\u0438\", \"\\u0432\\u0430\\u043b\\u043b-\\u0438\", \"\\u0432\\u0435\\u0440\\u0435\", \"\\u0432\\u0435\\u0440\\u0435\", \"\\u0432\\u0435\\u0441\\u044c\", \"\\u0432\\u0435\\u0441\\u044c\", \"\\u0432\\u0435\\u0441\\u044c\\u043c\\u0430\", \"\\u0432\\u0435\\u0441\\u044c\\u043c\\u0430\", \"\\u0432\\u043e\\u0439\\u043d\\u0435\", \"\\u0432\\u043e\\u0439\\u043d\\u0435\", \"\\u0432\\u043e\\u043b\\u0448\\u0435\\u0431\\u043d\\u044b\\u0439,\", \"\\u0432\\u043e\\u043b\\u0448\\u0435\\u0431\\u043d\\u044b\\u0439,\", \"\\u0432\\u043e\\u043e\\u0431\\u0449\\u0435\", \"\\u0432\\u043e\\u043e\\u0431\\u0449\\u0435\", \"\\u0432\\u043e\\u0440\\u043e\\u0431\\u044c\\u044f\", \"\\u0432\\u043e\\u0440\\u043e\\u0431\\u044c\\u044f\", \"\\u0432\\u043e\\u044e\\u044e\\u0449\\u0438\\u0445\", \"\\u0432\\u043f\\u043e\\u043b\\u043d\\u0435\", \"\\u0432\\u043f\\u043e\\u043b\\u043d\\u0435\", \"\\u0432\\u0440\\u0435\\u043c\\u044f\", \"\\u0432\\u0440\\u0435\\u043c\\u044f\", \"\\u0432\\u0441\\u0451\", \"\\u0432\\u0441\\u0451\", \"\\u0432\\u044b\\u0433\\u043b\\u044f\\u0434\\u0438\\u0442\", \"\\u0432\\u044b\\u0433\\u043b\\u044f\\u0434\\u0438\\u0442\", \"\\u0433\\u0440\\u0438\\u043c\", \"\\u0433\\u0440\\u0438\\u043c\", \"\\u0434\\u0430\\u0440,\", \"\\u0434\\u0430\\u0440,\", \"\\u0434\\u0435\\u0432\\u043e\\u0447\\u043a\\u0430.\", \"\\u0434\\u0435\\u0432\\u043e\\u0447\\u043a\\u0430.\", \"\\u0434\\u0435\\u0439\\u0441\\u0442\\u0432\\u0438\\u0442\\u0435\\u043b\\u044c\\u043d\\u043e\", \"\\u0434\\u0435\\u0439\\u0441\\u0442\\u0432\\u0438\\u0442\\u0435\\u043b\\u044c\\u043d\\u043e\", \"\\u0434\\u0435\\u0439\\u0441\\u0442\\u0432\\u0438\\u0442\\u0435\\u043b\\u044c\\u043d\\u043e\\u0441\\u0442\\u044c,\", \"\\u0434\\u0435\\u0439\\u0441\\u0442\\u0432\\u0438\\u0442\\u0435\\u043b\\u044c\\u043d\\u043e\\u0441\\u0442\\u044c,\", \"\\u0434\\u0435\\u043d\\u044c\", \"\\u0434\\u0435\\u043d\\u044c\", \"\\u0434\\u0435\\u0442\\u0438\\u0448\\u0435\\u043a,\", \"\\u0434\\u0435\\u0442\\u0438\\u0448\\u0435\\u043a,\", \"\\u0434\\u0435\\u0442\\u0438\\u2026\", \"\\u0434\\u0435\\u0442\\u0438\\u2026\", \"\\u0434\\u0436\\u0443\\u043b\\u044c\\u0435\\u0442\\u0442\\u0430\", \"\\u0434\\u0438\\u0430\\u043b\\u043e\\u0433\\u0438\", \"\\u0434\\u0438\\u0430\\u043b\\u043e\\u0433\\u0438\", \"\\u0434\\u043e\\u0432\\u043e\\u043b\\u044c\\u043d\\u043e\", \"\\u0434\\u043e\\u0432\\u043e\\u043b\\u044c\\u043d\\u043e\", \"\\u0434\\u0440\\u0443\\u0433\\u0438\\u0445\\u00bb\", \"\\u0434\\u0440\\u0443\\u0433\\u0438\\u0445\\u00bb\", \"\\u0434\\u0443\\u0448\\u0435\\u0432\\u043d\\u043e\\u043c\", \"\\u0435\\u0444\\u0440\\u0435\\u043c\\u043e\\u0432\", \"\\u0435\\u0444\\u0440\\u0435\\u043c\\u043e\\u0432\", \"\\u0435\\u0449\\u0451\", \"\\u0435\\u0449\\u0451\", \"\\u0435\\u0451\", \"\\u0435\\u0451\", \"\\u0436\\u0430\\u0441\\u043c\\u0438\\u043d,\", \"\\u0436\\u0430\\u0441\\u043c\\u0438\\u043d,\", \"\\u0436\\u0435\\u043b\\u0430\\u043d\\u0438\\u044f\\u043c\\u0438\", \"\\u0436\\u0435\\u043b\\u0430\\u043d\\u0438\\u044f\\u043c\\u0438\", \"\\u0436\\u0438\\u0432\\u0435\\u043c,\", \"\\u0436\\u0438\\u0432\\u0435\\u043c,\", \"\\u0436\\u0438\\u0432\\u0435\\u0442\", \"\\u0436\\u0438\\u0432\\u0435\\u0442\", \"\\u0436\\u0438\\u0437\\u043d\\u0438\", \"\\u0436\\u0438\\u0437\\u043d\\u0438\", \"\\u0436\\u0438\\u0437\\u043d\\u0438,\", \"\\u0436\\u0438\\u0437\\u043d\\u0438,\", \"\\u0436\\u0438\\u0437\\u043d\\u0438.\", \"\\u0436\\u0438\\u0437\\u043d\\u0438.\", \"\\u0436\\u0438\\u0437\\u043d\\u044c\", \"\\u0436\\u0438\\u0437\\u043d\\u044c\", \"\\u0436\\u0438\\u0437\\u043d\\u044c,\", \"\\u0436\\u0438\\u0437\\u043d\\u044c,\", \"\\u0436\\u0438\\u0437\\u043d\\u044c.\", \"\\u0436\\u0438\\u0437\\u043d\\u044c.\", \"\\u0436\\u0438\\u0437\\u043d\\u044c?\", \"\\u0436\\u0438\\u0437\\u043d\\u044c?\", \"\\u0436\\u0438\\u0437\\u043d\\u044c\\u044e,\", \"\\u0436\\u0438\\u0437\\u043d\\u044c\\u044e,\", \"\\u0436\\u0438\\u0442\\u044c\", \"\\u0436\\u0438\\u0442\\u044c\", \"\\u0436\\u0438\\u0442\\u044c!\", \"\\u0436\\u0438\\u0442\\u044c!\", \"\\u0436\\u0438\\u0442\\u044c,\", \"\\u0436\\u0438\\u0442\\u044c,\", \"\\u0436\\u0438\\u0442\\u044c.\", \"\\u0436\\u0438\\u0442\\u044c.\", \"\\u0438\\u0432\\u0430\\u043d\\u0443\", \"\\u0438\\u0432\\u0430\\u043d\\u0443\", \"\\u0438\\u0433\\u0440\\u0430\", \"\\u0438\\u0433\\u0440\\u0430\", \"\\u0438\\u0433\\u0440\\u0443\\u0448\\u0435\\u043a\", \"\\u0438\\u0433\\u0440\\u0443\\u0448\\u0435\\u043a\", \"\\u0438\\u0433\\u0440\\u0443\\u0448\\u0435\\u043a:\", \"\\u0438\\u0433\\u0440\\u0443\\u0448\\u0435\\u043a\\u00bb\", \"\\u0438\\u0433\\u0440\\u0443\\u0448\\u0435\\u043a\\u00bb\", \"\\u0438\\u0433\\u0440\\u0443\\u0448\\u0435\\u043a\\u00bb,\", \"\\u0438\\u0433\\u0440\\u0443\\u0448\\u0435\\u043a\\u00bb,\", \"\\u0438\\u043c\\u0435\\u043d\\u043d\\u043e\", \"\\u0438\\u043c\\u0435\\u043d\\u043d\\u043e\", \"\\u0438\\u043d\\u0432\\u0430\\u043b\\u0438\\u0434\\u043d\\u043e\\u0439\", \"\\u0438\\u043d\\u0432\\u0430\\u043b\\u0438\\u0434\\u043d\\u043e\\u0439\", \"\\u0438\\u0441\\u043f\\u044b\\u0442\\u0430\\u043b\\u0438\", \"\\u0438\\u0441\\u043f\\u044b\\u0442\\u0430\\u043b\\u0438\", \"\\u0438\\u0441\\u0442\\u043e\\u0440\\u0438\\u044f\", \"\\u0438\\u0441\\u0442\\u043e\\u0440\\u0438\\u044f\", \"\\u043a\\u0430\\u0436\\u0434\\u044b\\u0439\", \"\\u043a\\u0430\\u0436\\u0434\\u044b\\u0439\", \"\\u043a\\u0430\\u0440\\u0438\\u0431\\u0441\\u043a\\u043e\\u0433\\u043e\", \"\\u043a\\u0430\\u0440\\u0438\\u0431\\u0441\\u043a\\u043e\\u0433\\u043e\", \"\\u043a\\u0430\\u0441\\u0442\\u0438\\u043d\\u0433\", \"\\u043a\\u0430\\u0441\\u0442\\u0438\\u043d\\u0433\", \"\\u043a\\u0432\\u0435\\u043d\\u0442\\u0438\\u043d\\u0430\", \"\\u043a\\u0432\\u0435\\u043d\\u0442\\u0438\\u043d\\u0430\", \"\\u043a\\u0438\\u043d\\u043e\", \"\\u043a\\u0438\\u043d\\u043e\", \"\\u043a\\u0438\\u043d\\u043e\\u00bb\", \"\\u043a\\u0438\\u043d\\u043e\\u00bb\", \"\\u043a\\u043b\\u0430\\u0441\\u0441\\u0435\", \"\\u043a\\u043b\\u0430\\u0441\\u0441\\u0435\", \"\\u043a\\u043b\\u0443\\u0431\\u00bb\", \"\\u043a\\u043b\\u0443\\u0431\\u00bb\", \"\\u043a\\u043d\\u0438\\u0433\\u0435.\", \"\\u043a\\u043d\\u0438\\u0433\\u0435.\", \"\\u043a\\u043e\\u043d\\u0435\\u0447\\u043d\\u043e,\", \"\\u043a\\u043e\\u043d\\u0435\\u0447\\u043d\\u043e,\", \"\\u043a\\u043e\\u0441\\u0442\\u044e\\u043c\\u044b\", \"\\u043a\\u043e\\u0441\\u0442\\u044e\\u043c\\u044b\", \"\\u043a\\u043e\\u0442\\u043e\\u0440\\u0430\\u044f\", \"\\u043a\\u043e\\u0442\\u043e\\u0440\\u0430\\u044f\", \"\\u043a\\u043e\\u0442\\u043e\\u0440\\u044b\\u0435\", \"\\u043a\\u043e\\u0442\\u043e\\u0440\\u044b\\u0435\", \"\\u043a\\u043e\\u0442\\u043e\\u0440\\u044b\\u0439\", \"\\u043a\\u043e\\u0442\\u043e\\u0440\\u044b\\u0439\", \"\\u043b\\u0435\\u0441\\u043d\\u044b\\u043c\", \"\\u043b\\u0435\\u0441\\u043d\\u044b\\u043c\", \"\\u043b\\u0438\\u0448\\u044c\", \"\\u043b\\u0438\\u0448\\u044c\", \"\\u043b\\u044e\\u0431\\u0432\\u0438\", \"\\u043b\\u044e\\u0431\\u0432\\u0438\", \"\\u043b\\u044e\\u0431\\u0432\\u0438,\", \"\\u043b\\u044e\\u0431\\u0432\\u0438,\", \"\\u043b\\u044e\\u0431\\u0432\\u0438.\", \"\\u043b\\u044e\\u0431\\u0432\\u0438.\", \"\\u043b\\u044e\\u0431\\u0438\\u0442\\u044c\", \"\\u043b\\u044e\\u0431\\u0438\\u0442\\u044c\", \"\\u043b\\u044e\\u0431\\u043e\\u0432\\u044c\", \"\\u043b\\u044e\\u0431\\u043e\\u0432\\u044c\", \"\\u043b\\u044e\\u0431\\u043e\\u0432\\u044c,\", \"\\u043b\\u044e\\u0431\\u043e\\u0432\\u044c,\", \"\\u043b\\u044e\\u0431\\u043e\\u0432\\u044c.\", \"\\u043b\\u044e\\u0431\\u043e\\u0432\\u044c.\", \"\\u043b\\u044e\\u0434\\u0435\\u0439\", \"\\u043b\\u044e\\u0434\\u0435\\u0439\", \"\\u043b\\u044e\\u0434\\u0435\\u0439,\", \"\\u043b\\u044e\\u0434\\u0435\\u0439,\", \"\\u043b\\u044e\\u0434\\u0438\", \"\\u043b\\u044e\\u0434\\u0438\", \"\\u043b\\u044e\\u0434\\u0438,\", \"\\u043b\\u044e\\u0434\\u0438,\", \"\\u043c\\u0430\\u0441\\u0442\\u0435\\u0440\\u043e\\u0432\\u00bb\", \"\\u043c\\u0430\\u0441\\u0442\\u0435\\u0440\\u043e\\u0432\\u00bb\", \"\\u043c\\u0430\\u0448\\u0430\", \"\\u043c\\u0430\\u0448\\u0430\", \"\\u043c\\u0435\\u043b\\u043a\\u043e\\u0439\", \"\\u043c\\u0435\\u043b\\u043a\\u043e\\u0439\", \"\\u043c\\u0435\\u043b\\u043e\\u043c\", \"\\u043c\\u0435\\u043b\\u043e\\u043c\", \"\\u043c\\u0435\\u043d\\u043a\\u0435\\u043d\\u0430,\", \"\\u043c\\u0435\\u0447\\u0442\\u044b\", \"\\u043c\\u0435\\u0447\\u0442\\u044b\", \"\\u043c\\u0435\\u0447\\u0442\\u044b,\", \"\\u043c\\u0435\\u0447\\u0442\\u044b,\", \"\\u043c\\u0438\\u0440\", \"\\u043c\\u0438\\u0440\", \"\\u043c\\u0438\\u044f\\u0434\\u0437\\u0430\\u043a\\u0438\", \"\\u043c\\u0438\\u044f\\u0434\\u0437\\u0430\\u043a\\u0438\", \"\\u043c\\u043e\\u043d\\u0441\\u0442\\u0440\\u043e\\u0432\\u00bb\", \"\\u043c\\u043e\\u043d\\u0441\\u0442\\u0440\\u043e\\u0432\\u00bb\", \"\\u043c\\u0443\\u043b\\u044c\\u0442\\u0438\\u043a\", \"\\u043c\\u0443\\u043b\\u044c\\u0442\\u0438\\u043a\", \"\\u043c\\u0443\\u043b\\u044c\\u0442\\u0444\\u0438\\u043b\\u044c\\u043c\", \"\\u043c\\u0443\\u043b\\u044c\\u0442\\u0444\\u0438\\u043b\\u044c\\u043c\", \"\\u043c\\u0443\\u043b\\u044c\\u0442\\u0444\\u0438\\u043b\\u044c\\u043c,\", \"\\u043c\\u0443\\u043b\\u044c\\u0442\\u0444\\u0438\\u043b\\u044c\\u043c,\", \"\\u043c\\u0443\\u043b\\u044c\\u0442\\u0444\\u0438\\u043b\\u044c\\u043c.\", \"\\u043c\\u0443\\u043b\\u044c\\u0442\\u0444\\u0438\\u043b\\u044c\\u043c.\", \"\\u043c\\u0443\\u043b\\u044c\\u0442\\u0444\\u0438\\u043b\\u044c\\u043c\\u0430\", \"\\u043c\\u0443\\u043b\\u044c\\u0442\\u0444\\u0438\\u043b\\u044c\\u043c\\u0430\", \"\\u043c\\u0443\\u043b\\u044c\\u0442\\u0444\\u0438\\u043b\\u044c\\u043c\\u0435\", \"\\u043c\\u0443\\u043b\\u044c\\u0442\\u0444\\u0438\\u043b\\u044c\\u043c\\u0435\", \"\\u043c\\u0443\\u043b\\u044c\\u0442\\u0444\\u0438\\u043b\\u044c\\u043c\\u043e\\u0432\", \"\\u043c\\u0443\\u043b\\u044c\\u0442\\u0444\\u0438\\u043b\\u044c\\u043c\\u043e\\u0432\", \"\\u043c\\u0443\\u043b\\u044c\\u0442\\u0444\\u0438\\u043b\\u044c\\u043c\\u044b\", \"\\u043c\\u0443\\u043b\\u044c\\u0442\\u0444\\u0438\\u043b\\u044c\\u043c\\u044b\", \"\\u043d\\u0430\\u043c\", \"\\u043d\\u0430\\u043c\", \"\\u043d\\u0430\\u043c:\", \"\\u043d\\u0430\\u043c:\", \"\\u043d\\u0435\\u0436\\u043d\\u044b\\u0439,\", \"\\u043d\\u0435\\u043c\\u043e\", \"\\u043d\\u0435\\u043c\\u043e\\u00bb\", \"\\u043d\\u0435\\u043c\\u043e\\u00bb\", \"\\u043d\\u0435\\u043c\\u043e\\u00bb,\", \"\\u043d\\u0435\\u043c\\u043e\\u00bb,\", \"\\u043d\\u0435\\u043c\\u0446\\u044b\", \"\\u043d\\u0435\\u043c\\u0446\\u044b\", \"\\u043d\\u0435\\u043f\\u043b\\u043e\\u0445\\u0438\\u0435\", \"\\u043d\\u0435\\u043f\\u043b\\u043e\\u0445\\u0438\\u0435\", \"\\u043d\\u043e\\u043b\\u0430\\u043d\", \"\\u043d\\u043e\\u043b\\u0430\\u043d\", \"\\u043d\\u0443\\u0436\\u043d\\u043e\", \"\\u043d\\u0443\\u0436\\u043d\\u043e\", \"\\u043e\\u0431\\u0449\\u0435\\u043c\", \"\\u043e\\u0431\\u0449\\u0435\\u043c\", \"\\u043e\\u0431\\u0449\\u0435\\u043c,\", \"\\u043e\\u0431\\u0449\\u0435\\u043c,\", \"\\u043e\\u0434\\u0438\\u043d\\u043e\\u0447\\u0435\\u0441\\u0442\\u0432\\u043e,\", \"\\u043e\\u0441\\u043d\\u043e\\u0432\\u0430\\u043d\\u0430\", \"\\u043e\\u0441\\u043d\\u043e\\u0432\\u0430\\u043d\\u0430\", \"\\u043e\\u0442\\u0435\\u0447\\u0435\\u0441\\u0442\\u0432\\u0435\\u043d\\u043d\\u043e\\u0433\\u043e\", \"\\u043e\\u0442\\u0435\\u0447\\u0435\\u0441\\u0442\\u0432\\u0435\\u043d\\u043d\\u043e\\u0433\\u043e\", \"\\u043e\\u0442\\u0435\\u0447\\u0435\\u0441\\u0442\\u0432\\u0435\\u043d\\u043d\\u044b\\u0435\", \"\\u043e\\u0442\\u0435\\u0447\\u0435\\u0441\\u0442\\u0432\\u0435\\u043d\\u043d\\u044b\\u0435\", \"\\u043e\\u0447\\u0435\\u043d\\u044c\", \"\\u043e\\u0447\\u0435\\u043d\\u044c\", \"\\u043f\\u0430\\u0440\\u043e\\u0434\\u0438\\u0438\", \"\\u043f\\u0430\\u0440\\u043e\\u0434\\u0438\\u0438\", \"\\u043f\\u0430\\u0440\\u043e\\u0434\\u0438\\u0439\", \"\\u043f\\u0430\\u0440\\u043e\\u0434\\u0438\\u0439\", \"\\u043f\\u0430\\u0440\\u043e\\u0434\\u0438\\u044f\", \"\\u043f\\u0430\\u0440\\u043e\\u0434\\u0438\\u044f\", \"\\u043f\\u0430\\u0440\\u043e\\u0434\\u0438\\u044f,\", \"\\u043f\\u0430\\u0440\\u043e\\u0434\\u0438\\u044f,\", \"\\u043f\\u0430\\u0440\\u043e\\u0434\\u0438\\u044f.\", \"\\u043f\\u0430\\u0440\\u043e\\u0434\\u0438\\u044f.\", \"\\u043f\\u0435\\u0440\\u0438\\u043e\\u0434\\u00bb\", \"\\u043f\\u0435\\u0440\\u0438\\u043e\\u0434\\u00bb\", \"\\u043f\\u0438\\u043a\\u0441\\u0430\\u0440\\u0430\", \"\\u043f\\u0438\\u043a\\u0441\\u0430\\u0440\\u0430\", \"\\u043f\\u0438\\u0440\\u0430\\u0442\\u043e\\u0432\", \"\\u043f\\u0438\\u0440\\u0430\\u0442\\u043e\\u0432\", \"\\u043f\\u043b\\u0430\\u0433\\u0438\\u0430\\u0442\", \"\\u043f\\u043b\\u0430\\u0433\\u0438\\u0430\\u0442\", \"\\u043f\\u043b\\u044e\\u0441\", \"\\u043f\\u043b\\u044e\\u0441\", \"\\u043f\\u043e\\u0431\\u0435\\u0433\\u00bb\", \"\\u043f\\u043e\\u0431\\u0435\\u0433\\u00bb\", \"\\u043f\\u043e\\u043b\\u0443\\u0447\\u0438\\u043b\\u043e\\u0441\\u044c\", \"\\u043f\\u043e\\u043b\\u0443\\u0447\\u0438\\u043b\\u043e\\u0441\\u044c\", \"\\u043f\\u043e\\u043b\\u0443\\u0447\\u0438\\u043b\\u0441\\u044f\", \"\\u043f\\u043e\\u043b\\u0443\\u0447\\u0438\\u043b\\u0441\\u044f\", \"\\u043f\\u043e\\u0440\\u0435\\u0434\\u0435\\u0432\\u0448\\u0435\\u0439\", \"\\u043f\\u043e\\u0442\\u0435\\u0440\\u044f\\u043d\\u043d\\u044b\\u0445\", \"\\u043f\\u043e\\u0442\\u0435\\u0440\\u044f\\u0442\\u044c.\", \"\\u043f\\u0440\\u0435\\u0437\\u0440\\u0435\\u043d\\u0438\\u0435,\", \"\\u043f\\u0440\\u0438\\u0437\\u0440\\u0430\\u043a\\u0430\\u043c\\u0438\\u00bb\", \"\\u043f\\u0440\\u0438\\u0437\\u0440\\u0430\\u043a\\u0430\\u043c\\u0438\\u00bb\", \"\\u043f\\u0440\\u0438\\u044e\\u0442\\u0435\", \"\\u043f\\u0440\\u043e\\u0441\\u0442\\u043e\", \"\\u043f\\u0440\\u043e\\u0441\\u0442\\u043e\", \"\\u0440\\u0435\\u043c\\u0438\", \"\\u0440\\u0435\\u043c\\u0438\", \"\\u0440\\u043e\\u043b\\u0438\", \"\\u0440\\u043e\\u043b\\u0438\", \"\\u0440\\u043e\\u043b\\u044c\", \"\\u0440\\u043e\\u043b\\u044c\", \"\\u0440\\u043e\\u0441\\u0441\\u0438\\u0439\\u0441\\u043a\\u0438\\u0439\", \"\\u0440\\u043e\\u0441\\u0441\\u0438\\u0439\\u0441\\u043a\\u0438\\u0439\", \"\\u0440\\u043e\\u0441\\u0441\\u0438\\u0439\\u0441\\u043a\\u043e\\u0433\\u043e\", \"\\u0440\\u043e\\u0441\\u0441\\u0438\\u0439\\u0441\\u043a\\u043e\\u0433\\u043e\", \"\\u0440\\u0443\\u0441\\u0441\\u043a\\u0438\\u0445\", \"\\u0440\\u0443\\u0441\\u0441\\u043a\\u0438\\u0445\", \"\\u0440\\u0443\\u0441\\u0441\\u043a\\u0438\\u0445.\", \"\\u0440\\u0443\\u0441\\u0441\\u043a\\u0438\\u0445.\", \"\\u0441\\u0431\\u044b\\u0432\\u0430\\u044e\\u0442\\u0441\\u044f,\", \"\\u0441\\u0432\\u043e\\u0435\\u0439\", \"\\u0441\\u0432\\u043e\\u0435\\u0439\", \"\\u0441\\u0435\\u043c\\u0435\\u0439\\u043a\\u0430\\u00bb\", \"\\u0441\\u0435\\u043c\\u044c\\u044f\", \"\\u0441\\u0435\\u043c\\u044c\\u044f\", \"\\u0441\\u0435\\u0440\\u0434\\u0446\\u0435\", \"\\u0441\\u0435\\u0440\\u0434\\u0446\\u0435\", \"\\u0441\\u0438\\u043c\\u0431\\u0430\", \"\\u0441\\u0438\\u043c\\u0431\\u0430\", \"\\u0441\\u043a\\u0430\\u0437\\u0430\\u0442\\u044c,\", \"\\u0441\\u043a\\u0430\\u0437\\u0430\\u0442\\u044c,\", \"\\u0441\\u043c\\u0435\\u0448\\u043d\\u043e.\", \"\\u0441\\u043c\\u0435\\u0448\\u043d\\u043e.\", \"\\u0441\\u043c\\u043e\\u0442\\u0440\\u0435\\u0442\\u044c\", \"\\u0441\\u043c\\u043e\\u0442\\u0440\\u0435\\u0442\\u044c\", \"\\u0441\\u043d\\u0438\\u043c\\u0430\\u0442\\u044c\", \"\\u0441\\u043d\\u0438\\u043c\\u0430\\u0442\\u044c\", \"\\u0441\\u043d\\u044f\\u0442\\u044c\", \"\\u0441\\u043d\\u044f\\u0442\\u044c\", \"\\u0441\\u043e\\u0431\\u044b\\u0442\\u0438\\u044f\\u0445.\", \"\\u0441\\u043e\\u0431\\u044b\\u0442\\u0438\\u044f\\u0445.\", \"\\u0441\\u043e\\u0437\\u0434\\u0430\\u0442\\u0435\\u043b\\u0438\", \"\\u0441\\u043e\\u0437\\u0434\\u0430\\u0442\\u0435\\u043b\\u0438\", \"\\u0441\\u043f\\u0435\\u0446\\u044d\\u0444\\u0444\\u0435\\u043a\\u0442\\u044b\", \"\\u0441\\u043f\\u0435\\u0446\\u044d\\u0444\\u0444\\u0435\\u043a\\u0442\\u044b\", \"\\u0441\\u043f\\u0435\\u0446\\u044d\\u0444\\u0444\\u0435\\u043a\\u0442\\u044b,\", \"\\u0441\\u043f\\u0435\\u0446\\u044d\\u0444\\u0444\\u0435\\u043a\\u0442\\u044b,\", \"\\u0441\\u043f\\u0435\\u0446\\u044d\\u0444\\u0444\\u0435\\u043a\\u0442\\u044b.\", \"\\u0441\\u043f\\u0435\\u0446\\u044d\\u0444\\u0444\\u0435\\u043a\\u0442\\u044b.\", \"\\u0441\\u0442\\u0435\\u043d\\u0430\", \"\\u0441\\u0442\\u0435\\u043d\\u0430\", \"\\u0441\\u0442\\u043e\\u0438\\u0442\", \"\\u0441\\u0442\\u043e\\u0438\\u0442\", \"\\u0441\\u0442\\u0443\\u0434\\u0438\\u0438\", \"\\u0441\\u0442\\u0443\\u0434\\u0438\\u0438\", \"\\u0441\\u0446\\u0435\\u043d\\u0430\\u0440\\u0438\\u0439\", \"\\u0441\\u0446\\u0435\\u043d\\u0430\\u0440\\u0438\\u0439\", \"\\u0441\\u0447\\u0430\\u0441\\u0442\\u044c\\u0435\", \"\\u0441\\u0447\\u0430\\u0441\\u0442\\u044c\\u0435\", \"\\u0441\\u0447\\u0430\\u0441\\u0442\\u044c\\u0435,\", \"\\u0441\\u0447\\u0430\\u0441\\u0442\\u044c\\u0435,\", \"\\u0441\\u044e\\u0436\\u0435\\u0442\", \"\\u0441\\u044e\\u0436\\u0435\\u0442\", \"\\u0442\\u0432\\u043e\\u0435\\u0439\", \"\\u0442\\u0432\\u043e\\u0435\\u0439\", \"\\u0442\\u0435\\u0431\\u0435\", \"\\u0442\\u0435\\u0431\\u0435\", \"\\u0442\\u0435\\u043f\\u043b\\u0430\\u044f\", \"\\u0442\\u0435\\u043f\\u043b\\u0430\\u044f\", \"\\u0442\\u043e,\", \"\\u0442\\u043e,\", \"\\u0442\\u043e\\u0433\\u043e,\", \"\\u0442\\u043e\\u0433\\u043e,\", \"\\u0442\\u043e\\u043c,\", \"\\u0442\\u043e\\u043c,\", \"\\u0442\\u043e\\u0442\\u043e\\u0440\\u043e\", \"\\u0442\\u043e\\u0442\\u043e\\u0440\\u043e\", \"\\u0442\\u043e\\u0442\\u043e\\u0440\\u043e,\", \"\\u0442\\u043e\\u0442\\u043e\\u0440\\u043e,\", \"\\u0442\\u043e\\u0442\\u043e\\u0440\\u043e.\", \"\\u0442\\u043e\\u0442\\u043e\\u0440\\u043e.\", \"\\u0442\\u0440\\u0435\\u0445\\u043c\\u0435\\u0440\\u043d\\u0430\\u044f\", \"\\u0442\\u0440\\u0435\\u0445\\u043c\\u0435\\u0440\\u043d\\u0430\\u044f\", \"\\u0443\\u0432\\u0435\", \"\\u0443\\u0432\\u0435\", \"\\u0443\\u0447\\u0438\\u0442\", \"\\u0443\\u0447\\u0438\\u0442\", \"\\u0444\\u0430\\u0448\\u0438\\u0441\\u0442\\u043e\\u0432,\", \"\\u0444\\u0430\\u0448\\u0438\\u0441\\u0442\\u043e\\u0432,\", \"\\u0444\\u0438\\u043b\\u044c\\u043c\", \"\\u0444\\u0438\\u043b\\u044c\\u043c\", \"\\u0444\\u0438\\u043b\\u044c\\u043c,\", \"\\u0444\\u0438\\u043b\\u044c\\u043c,\", \"\\u0444\\u0438\\u043b\\u044c\\u043c\\u0430\", \"\\u0444\\u0438\\u043b\\u044c\\u043c\\u0430\", \"\\u0444\\u0438\\u043b\\u044c\\u043c\\u0430,\", \"\\u0444\\u0438\\u043b\\u044c\\u043c\\u0430,\", \"\\u0444\\u0438\\u043b\\u044c\\u043c\\u0430.\", \"\\u0444\\u0438\\u043b\\u044c\\u043c\\u0430.\", \"\\u0444\\u0438\\u043b\\u044c\\u043c\\u0435\", \"\\u0444\\u0438\\u043b\\u044c\\u043c\\u0435\", \"\\u0444\\u0438\\u043b\\u044c\\u043c\\u044b\", \"\\u0444\\u0438\\u043b\\u044c\\u043c\\u044b\", \"\\u0445\\u0430\\u044f\\u043e\", \"\\u0445\\u0430\\u044f\\u043e\", \"\\u0445\\u043e\\u0442\\u044f\", \"\\u0445\\u043e\\u0442\\u044f\", \"\\u0446\\u0435\\u043b\\u043e\\u043c\", \"\\u0446\\u0435\\u043b\\u043e\\u043c\", \"\\u0446\\u0435\\u043d\\u0438\\u0442\\u044c\", \"\\u0446\\u0435\\u043d\\u0438\\u0442\\u044c\", \"\\u0447\\u0430\\u0441\\u0442\\u0438\", \"\\u0447\\u0430\\u0441\\u0442\\u0438\", \"\\u0447\\u0430\\u0441\\u0442\\u044c\", \"\\u0447\\u0430\\u0441\\u0442\\u044c\", \"\\u0447\\u0435\\u043b\\u043e\\u0432\\u0435\\u043a\", \"\\u0447\\u0435\\u043b\\u043e\\u0432\\u0435\\u043a\", \"\\u0447\\u0435\\u043b\\u043e\\u0432\\u0435\\u043a,\", \"\\u0447\\u0435\\u043b\\u043e\\u0432\\u0435\\u043a,\", \"\\u0447\\u0435\\u043b\\u043e\\u0432\\u0435\\u043a\\u0430\", \"\\u0447\\u0435\\u043b\\u043e\\u0432\\u0435\\u043a\\u0430\", \"\\u0447\\u0435\\u043b\\u043e\\u0432\\u0435\\u043a\\u0430,\", \"\\u0447\\u0435\\u043b\\u043e\\u0432\\u0435\\u043a\\u0430,\", \"\\u0447\\u0442\\u043e-\\u0442\\u043e\", \"\\u0447\\u0442\\u043e-\\u0442\\u043e\", \"\\u0447\\u0443\\u0434\\u043e\\u0432\\u0438\\u0449\\u043d\\u044b\\u0435\", \"\\u0447\\u0443\\u0434\\u043e\\u0432\\u0438\\u0449\\u043d\\u044b\\u0435\", \"\\u0448\\u0430\\u043d\\u0441,\", \"\\u0448\\u0430\\u043d\\u0441,\", \"\\u0448\\u0443\\u0442\\u043a\\u0438\", \"\\u0448\\u0443\\u0442\\u043a\\u0438\", \"\\u0448\\u0443\\u0442\\u043e\\u043a\", \"\\u0448\\u0443\\u0442\\u043e\\u043a\", \"\\u044d\\u0442\\u0430\", \"\\u044d\\u0442\\u0430\", \"\\u044d\\u0442\\u043e\", \"\\u044d\\u0442\\u043e\", \"\\u044d\\u0444\\u0444\\u0435\\u043a\\u0442\\u044b\", \"\\u044d\\u0444\\u0444\\u0435\\u043a\\u0442\\u044b\", \"\\u044e\\u043c\\u043e\\u0440\", \"\\u044e\\u043c\\u043e\\u0440\", \"\\u044f\\u0432\\u043d\\u043e\", \"\\u044f\\u0432\\u043d\\u043e\", \"\\u2014\", \"\\u2014\"]}, \"R\": 30, \"lambda.step\": 0.01, \"plot.opts\": {\"xlab\": \"PC1\", \"ylab\": \"PC2\"}, \"topic.order\": [2, 1, 3]};\n",
              "\n",
              "function LDAvis_load_lib(url, callback){\n",
              "  var s = document.createElement('script');\n",
              "  s.src = url;\n",
              "  s.async = true;\n",
              "  s.onreadystatechange = s.onload = callback;\n",
              "  s.onerror = function(){console.warn(\"failed to load library \" + url);};\n",
              "  document.getElementsByTagName(\"head\")[0].appendChild(s);\n",
              "}\n",
              "\n",
              "if(typeof(LDAvis) !== \"undefined\"){\n",
              "   // already loaded: just create the visualization\n",
              "   !function(LDAvis){\n",
              "       new LDAvis(\"#\" + \"ldavis_el621401093656557608395059671\", ldavis_el621401093656557608395059671_data);\n",
              "   }(LDAvis);\n",
              "}else if(typeof define === \"function\" && define.amd){\n",
              "   // require.js is available: use it to load d3/LDAvis\n",
              "   require.config({paths: {d3: \"https://d3js.org/d3.v5\"}});\n",
              "   require([\"d3\"], function(d3){\n",
              "      window.d3 = d3;\n",
              "      LDAvis_load_lib(\"https://cdn.jsdelivr.net/gh/bmabey/pyLDAvis@3.3.1/pyLDAvis/js/ldavis.v3.0.0.js\", function(){\n",
              "        new LDAvis(\"#\" + \"ldavis_el621401093656557608395059671\", ldavis_el621401093656557608395059671_data);\n",
              "      });\n",
              "    });\n",
              "}else{\n",
              "    // require.js not available: dynamically load d3 & LDAvis\n",
              "    LDAvis_load_lib(\"https://d3js.org/d3.v5.js\", function(){\n",
              "         LDAvis_load_lib(\"https://cdn.jsdelivr.net/gh/bmabey/pyLDAvis@3.3.1/pyLDAvis/js/ldavis.v3.0.0.js\", function(){\n",
              "                 new LDAvis(\"#\" + \"ldavis_el621401093656557608395059671\", ldavis_el621401093656557608395059671_data);\n",
              "            })\n",
              "         });\n",
              "}\n",
              "</script>"
            ]
          },
          "metadata": {},
          "execution_count": 61
        }
      ],
      "source": [
        "import pyLDAvis.gensim_models\n",
        "\n",
        "pyLDAvis.enable_notebook()\n",
        "\n",
        "pyLDAvis.gensim_models.prepare(lda_model, corpus, dictionary)"
      ]
    },
    {
      "cell_type": "markdown",
      "metadata": {
        "id": "l5IUqTNAFWPw"
      },
      "source": [
        ""
      ]
    },
    {
      "cell_type": "markdown",
      "metadata": {
        "id": "UvIin3koFWPw"
      },
      "source": [
        ""
      ]
    }
  ],
  "metadata": {
    "interpreter": {
      "hash": "2226a0b1441055d8ce17bd6c69de83abbc7680bba268f271ffe539078aa67969"
    },
    "kernelspec": {
      "display_name": "Python 3.9.7 ('base')",
      "language": "python",
      "name": "python3"
    },
    "language_info": {
      "codemirror_mode": {
        "name": "ipython",
        "version": 3
      },
      "file_extension": ".py",
      "mimetype": "text/x-python",
      "name": "python",
      "nbconvert_exporter": "python",
      "pygments_lexer": "ipython3",
      "version": "3.9.7"
    },
    "orig_nbformat": 4,
    "colab": {
      "name": "eda.ipynb",
      "provenance": []
    },
    "widgets": {
      "application/vnd.jupyter.widget-state+json": {
        "2fdcf96aa8ba4f2aab183d10454bea09": {
          "model_module": "@jupyter-widgets/controls",
          "model_name": "HBoxModel",
          "model_module_version": "1.5.0",
          "state": {
            "_dom_classes": [],
            "_model_module": "@jupyter-widgets/controls",
            "_model_module_version": "1.5.0",
            "_model_name": "HBoxModel",
            "_view_count": null,
            "_view_module": "@jupyter-widgets/controls",
            "_view_module_version": "1.5.0",
            "_view_name": "HBoxView",
            "box_style": "",
            "children": [
              "IPY_MODEL_f2efd067674c4906aea31bb12e4ddc4d",
              "IPY_MODEL_aac561a7c0864e219700b1775d2c3f7e",
              "IPY_MODEL_033a421ae3994dc48de1627b0d2654d7"
            ],
            "layout": "IPY_MODEL_b9cb4e5f61904ae08382f5e0b81cfdef"
          }
        },
        "f2efd067674c4906aea31bb12e4ddc4d": {
          "model_module": "@jupyter-widgets/controls",
          "model_name": "HTMLModel",
          "model_module_version": "1.5.0",
          "state": {
            "_dom_classes": [],
            "_model_module": "@jupyter-widgets/controls",
            "_model_module_version": "1.5.0",
            "_model_name": "HTMLModel",
            "_view_count": null,
            "_view_module": "@jupyter-widgets/controls",
            "_view_module_version": "1.5.0",
            "_view_name": "HTMLView",
            "description": "",
            "description_tooltip": null,
            "layout": "IPY_MODEL_5bfc3a2f6f794422a5b84ec274132e21",
            "placeholder": "​",
            "style": "IPY_MODEL_304762767a67408b8f5abc294232e7e3",
            "value": "Downloading builder script: 100%"
          }
        },
        "aac561a7c0864e219700b1775d2c3f7e": {
          "model_module": "@jupyter-widgets/controls",
          "model_name": "FloatProgressModel",
          "model_module_version": "1.5.0",
          "state": {
            "_dom_classes": [],
            "_model_module": "@jupyter-widgets/controls",
            "_model_module_version": "1.5.0",
            "_model_name": "FloatProgressModel",
            "_view_count": null,
            "_view_module": "@jupyter-widgets/controls",
            "_view_module_version": "1.5.0",
            "_view_name": "ProgressView",
            "bar_style": "success",
            "description": "",
            "description_tooltip": null,
            "layout": "IPY_MODEL_241aeef321ee4a00a31aefd7fd236209",
            "max": 2638,
            "min": 0,
            "orientation": "horizontal",
            "style": "IPY_MODEL_113fca8ec71846089eca36d4ac94ea33",
            "value": 2638
          }
        },
        "033a421ae3994dc48de1627b0d2654d7": {
          "model_module": "@jupyter-widgets/controls",
          "model_name": "HTMLModel",
          "model_module_version": "1.5.0",
          "state": {
            "_dom_classes": [],
            "_model_module": "@jupyter-widgets/controls",
            "_model_module_version": "1.5.0",
            "_model_name": "HTMLModel",
            "_view_count": null,
            "_view_module": "@jupyter-widgets/controls",
            "_view_module_version": "1.5.0",
            "_view_name": "HTMLView",
            "description": "",
            "description_tooltip": null,
            "layout": "IPY_MODEL_390dcac36c4c4d0cba90b87f06c03da4",
            "placeholder": "​",
            "style": "IPY_MODEL_38958c03efa24d07a03bbff8f039ed1c",
            "value": " 2.64k/2.64k [00:00&lt;00:00, 77.7kB/s]"
          }
        },
        "b9cb4e5f61904ae08382f5e0b81cfdef": {
          "model_module": "@jupyter-widgets/base",
          "model_name": "LayoutModel",
          "model_module_version": "1.2.0",
          "state": {
            "_model_module": "@jupyter-widgets/base",
            "_model_module_version": "1.2.0",
            "_model_name": "LayoutModel",
            "_view_count": null,
            "_view_module": "@jupyter-widgets/base",
            "_view_module_version": "1.2.0",
            "_view_name": "LayoutView",
            "align_content": null,
            "align_items": null,
            "align_self": null,
            "border": null,
            "bottom": null,
            "display": null,
            "flex": null,
            "flex_flow": null,
            "grid_area": null,
            "grid_auto_columns": null,
            "grid_auto_flow": null,
            "grid_auto_rows": null,
            "grid_column": null,
            "grid_gap": null,
            "grid_row": null,
            "grid_template_areas": null,
            "grid_template_columns": null,
            "grid_template_rows": null,
            "height": null,
            "justify_content": null,
            "justify_items": null,
            "left": null,
            "margin": null,
            "max_height": null,
            "max_width": null,
            "min_height": null,
            "min_width": null,
            "object_fit": null,
            "object_position": null,
            "order": null,
            "overflow": null,
            "overflow_x": null,
            "overflow_y": null,
            "padding": null,
            "right": null,
            "top": null,
            "visibility": null,
            "width": null
          }
        },
        "5bfc3a2f6f794422a5b84ec274132e21": {
          "model_module": "@jupyter-widgets/base",
          "model_name": "LayoutModel",
          "model_module_version": "1.2.0",
          "state": {
            "_model_module": "@jupyter-widgets/base",
            "_model_module_version": "1.2.0",
            "_model_name": "LayoutModel",
            "_view_count": null,
            "_view_module": "@jupyter-widgets/base",
            "_view_module_version": "1.2.0",
            "_view_name": "LayoutView",
            "align_content": null,
            "align_items": null,
            "align_self": null,
            "border": null,
            "bottom": null,
            "display": null,
            "flex": null,
            "flex_flow": null,
            "grid_area": null,
            "grid_auto_columns": null,
            "grid_auto_flow": null,
            "grid_auto_rows": null,
            "grid_column": null,
            "grid_gap": null,
            "grid_row": null,
            "grid_template_areas": null,
            "grid_template_columns": null,
            "grid_template_rows": null,
            "height": null,
            "justify_content": null,
            "justify_items": null,
            "left": null,
            "margin": null,
            "max_height": null,
            "max_width": null,
            "min_height": null,
            "min_width": null,
            "object_fit": null,
            "object_position": null,
            "order": null,
            "overflow": null,
            "overflow_x": null,
            "overflow_y": null,
            "padding": null,
            "right": null,
            "top": null,
            "visibility": null,
            "width": null
          }
        },
        "304762767a67408b8f5abc294232e7e3": {
          "model_module": "@jupyter-widgets/controls",
          "model_name": "DescriptionStyleModel",
          "model_module_version": "1.5.0",
          "state": {
            "_model_module": "@jupyter-widgets/controls",
            "_model_module_version": "1.5.0",
            "_model_name": "DescriptionStyleModel",
            "_view_count": null,
            "_view_module": "@jupyter-widgets/base",
            "_view_module_version": "1.2.0",
            "_view_name": "StyleView",
            "description_width": ""
          }
        },
        "241aeef321ee4a00a31aefd7fd236209": {
          "model_module": "@jupyter-widgets/base",
          "model_name": "LayoutModel",
          "model_module_version": "1.2.0",
          "state": {
            "_model_module": "@jupyter-widgets/base",
            "_model_module_version": "1.2.0",
            "_model_name": "LayoutModel",
            "_view_count": null,
            "_view_module": "@jupyter-widgets/base",
            "_view_module_version": "1.2.0",
            "_view_name": "LayoutView",
            "align_content": null,
            "align_items": null,
            "align_self": null,
            "border": null,
            "bottom": null,
            "display": null,
            "flex": null,
            "flex_flow": null,
            "grid_area": null,
            "grid_auto_columns": null,
            "grid_auto_flow": null,
            "grid_auto_rows": null,
            "grid_column": null,
            "grid_gap": null,
            "grid_row": null,
            "grid_template_areas": null,
            "grid_template_columns": null,
            "grid_template_rows": null,
            "height": null,
            "justify_content": null,
            "justify_items": null,
            "left": null,
            "margin": null,
            "max_height": null,
            "max_width": null,
            "min_height": null,
            "min_width": null,
            "object_fit": null,
            "object_position": null,
            "order": null,
            "overflow": null,
            "overflow_x": null,
            "overflow_y": null,
            "padding": null,
            "right": null,
            "top": null,
            "visibility": null,
            "width": null
          }
        },
        "113fca8ec71846089eca36d4ac94ea33": {
          "model_module": "@jupyter-widgets/controls",
          "model_name": "ProgressStyleModel",
          "model_module_version": "1.5.0",
          "state": {
            "_model_module": "@jupyter-widgets/controls",
            "_model_module_version": "1.5.0",
            "_model_name": "ProgressStyleModel",
            "_view_count": null,
            "_view_module": "@jupyter-widgets/base",
            "_view_module_version": "1.2.0",
            "_view_name": "StyleView",
            "bar_color": null,
            "description_width": ""
          }
        },
        "390dcac36c4c4d0cba90b87f06c03da4": {
          "model_module": "@jupyter-widgets/base",
          "model_name": "LayoutModel",
          "model_module_version": "1.2.0",
          "state": {
            "_model_module": "@jupyter-widgets/base",
            "_model_module_version": "1.2.0",
            "_model_name": "LayoutModel",
            "_view_count": null,
            "_view_module": "@jupyter-widgets/base",
            "_view_module_version": "1.2.0",
            "_view_name": "LayoutView",
            "align_content": null,
            "align_items": null,
            "align_self": null,
            "border": null,
            "bottom": null,
            "display": null,
            "flex": null,
            "flex_flow": null,
            "grid_area": null,
            "grid_auto_columns": null,
            "grid_auto_flow": null,
            "grid_auto_rows": null,
            "grid_column": null,
            "grid_gap": null,
            "grid_row": null,
            "grid_template_areas": null,
            "grid_template_columns": null,
            "grid_template_rows": null,
            "height": null,
            "justify_content": null,
            "justify_items": null,
            "left": null,
            "margin": null,
            "max_height": null,
            "max_width": null,
            "min_height": null,
            "min_width": null,
            "object_fit": null,
            "object_position": null,
            "order": null,
            "overflow": null,
            "overflow_x": null,
            "overflow_y": null,
            "padding": null,
            "right": null,
            "top": null,
            "visibility": null,
            "width": null
          }
        },
        "38958c03efa24d07a03bbff8f039ed1c": {
          "model_module": "@jupyter-widgets/controls",
          "model_name": "DescriptionStyleModel",
          "model_module_version": "1.5.0",
          "state": {
            "_model_module": "@jupyter-widgets/controls",
            "_model_module_version": "1.5.0",
            "_model_name": "DescriptionStyleModel",
            "_view_count": null,
            "_view_module": "@jupyter-widgets/base",
            "_view_module_version": "1.2.0",
            "_view_name": "StyleView",
            "description_width": ""
          }
        },
        "e7131567ac7c4ea4bcfde86c480e9c68": {
          "model_module": "@jupyter-widgets/controls",
          "model_name": "HBoxModel",
          "model_module_version": "1.5.0",
          "state": {
            "_dom_classes": [],
            "_model_module": "@jupyter-widgets/controls",
            "_model_module_version": "1.5.0",
            "_model_name": "HBoxModel",
            "_view_count": null,
            "_view_module": "@jupyter-widgets/controls",
            "_view_module_version": "1.5.0",
            "_view_name": "HBoxView",
            "box_style": "",
            "children": [
              "IPY_MODEL_a659dc29109f4f0e8fddbe7ed9cb7164",
              "IPY_MODEL_1c8dec35dcad4371b354fa34eab1e79f",
              "IPY_MODEL_06e5abfcd74d4bbda24f74da70b587dc"
            ],
            "layout": "IPY_MODEL_6f3c62e1074247bba47087fe9bfdd996"
          }
        },
        "a659dc29109f4f0e8fddbe7ed9cb7164": {
          "model_module": "@jupyter-widgets/controls",
          "model_name": "HTMLModel",
          "model_module_version": "1.5.0",
          "state": {
            "_dom_classes": [],
            "_model_module": "@jupyter-widgets/controls",
            "_model_module_version": "1.5.0",
            "_model_name": "HTMLModel",
            "_view_count": null,
            "_view_module": "@jupyter-widgets/controls",
            "_view_module_version": "1.5.0",
            "_view_name": "HTMLView",
            "description": "",
            "description_tooltip": null,
            "layout": "IPY_MODEL_87ae62d9b33f47f28f499923e464a4b1",
            "placeholder": "​",
            "style": "IPY_MODEL_4c32528d2e4144fd9c1b4e311a233fa2",
            "value": "Downloading data files: 100%"
          }
        },
        "1c8dec35dcad4371b354fa34eab1e79f": {
          "model_module": "@jupyter-widgets/controls",
          "model_name": "FloatProgressModel",
          "model_module_version": "1.5.0",
          "state": {
            "_dom_classes": [],
            "_model_module": "@jupyter-widgets/controls",
            "_model_module_version": "1.5.0",
            "_model_name": "FloatProgressModel",
            "_view_count": null,
            "_view_module": "@jupyter-widgets/controls",
            "_view_module_version": "1.5.0",
            "_view_name": "ProgressView",
            "bar_style": "success",
            "description": "",
            "description_tooltip": null,
            "layout": "IPY_MODEL_44643993b4974ae08e3c0b2f6ddd762e",
            "max": 2,
            "min": 0,
            "orientation": "horizontal",
            "style": "IPY_MODEL_279d70f0472e46848b14f9fad5faceed",
            "value": 2
          }
        },
        "06e5abfcd74d4bbda24f74da70b587dc": {
          "model_module": "@jupyter-widgets/controls",
          "model_name": "HTMLModel",
          "model_module_version": "1.5.0",
          "state": {
            "_dom_classes": [],
            "_model_module": "@jupyter-widgets/controls",
            "_model_module_version": "1.5.0",
            "_model_name": "HTMLModel",
            "_view_count": null,
            "_view_module": "@jupyter-widgets/controls",
            "_view_module_version": "1.5.0",
            "_view_name": "HTMLView",
            "description": "",
            "description_tooltip": null,
            "layout": "IPY_MODEL_2e3dd320b360467f823e32e64fec6d90",
            "placeholder": "​",
            "style": "IPY_MODEL_54cf603b696e4d1a905cb560931737dd",
            "value": " 2/2 [00:06&lt;00:00,  6.61s/it]"
          }
        },
        "6f3c62e1074247bba47087fe9bfdd996": {
          "model_module": "@jupyter-widgets/base",
          "model_name": "LayoutModel",
          "model_module_version": "1.2.0",
          "state": {
            "_model_module": "@jupyter-widgets/base",
            "_model_module_version": "1.2.0",
            "_model_name": "LayoutModel",
            "_view_count": null,
            "_view_module": "@jupyter-widgets/base",
            "_view_module_version": "1.2.0",
            "_view_name": "LayoutView",
            "align_content": null,
            "align_items": null,
            "align_self": null,
            "border": null,
            "bottom": null,
            "display": null,
            "flex": null,
            "flex_flow": null,
            "grid_area": null,
            "grid_auto_columns": null,
            "grid_auto_flow": null,
            "grid_auto_rows": null,
            "grid_column": null,
            "grid_gap": null,
            "grid_row": null,
            "grid_template_areas": null,
            "grid_template_columns": null,
            "grid_template_rows": null,
            "height": null,
            "justify_content": null,
            "justify_items": null,
            "left": null,
            "margin": null,
            "max_height": null,
            "max_width": null,
            "min_height": null,
            "min_width": null,
            "object_fit": null,
            "object_position": null,
            "order": null,
            "overflow": null,
            "overflow_x": null,
            "overflow_y": null,
            "padding": null,
            "right": null,
            "top": null,
            "visibility": null,
            "width": null
          }
        },
        "87ae62d9b33f47f28f499923e464a4b1": {
          "model_module": "@jupyter-widgets/base",
          "model_name": "LayoutModel",
          "model_module_version": "1.2.0",
          "state": {
            "_model_module": "@jupyter-widgets/base",
            "_model_module_version": "1.2.0",
            "_model_name": "LayoutModel",
            "_view_count": null,
            "_view_module": "@jupyter-widgets/base",
            "_view_module_version": "1.2.0",
            "_view_name": "LayoutView",
            "align_content": null,
            "align_items": null,
            "align_self": null,
            "border": null,
            "bottom": null,
            "display": null,
            "flex": null,
            "flex_flow": null,
            "grid_area": null,
            "grid_auto_columns": null,
            "grid_auto_flow": null,
            "grid_auto_rows": null,
            "grid_column": null,
            "grid_gap": null,
            "grid_row": null,
            "grid_template_areas": null,
            "grid_template_columns": null,
            "grid_template_rows": null,
            "height": null,
            "justify_content": null,
            "justify_items": null,
            "left": null,
            "margin": null,
            "max_height": null,
            "max_width": null,
            "min_height": null,
            "min_width": null,
            "object_fit": null,
            "object_position": null,
            "order": null,
            "overflow": null,
            "overflow_x": null,
            "overflow_y": null,
            "padding": null,
            "right": null,
            "top": null,
            "visibility": null,
            "width": null
          }
        },
        "4c32528d2e4144fd9c1b4e311a233fa2": {
          "model_module": "@jupyter-widgets/controls",
          "model_name": "DescriptionStyleModel",
          "model_module_version": "1.5.0",
          "state": {
            "_model_module": "@jupyter-widgets/controls",
            "_model_module_version": "1.5.0",
            "_model_name": "DescriptionStyleModel",
            "_view_count": null,
            "_view_module": "@jupyter-widgets/base",
            "_view_module_version": "1.2.0",
            "_view_name": "StyleView",
            "description_width": ""
          }
        },
        "44643993b4974ae08e3c0b2f6ddd762e": {
          "model_module": "@jupyter-widgets/base",
          "model_name": "LayoutModel",
          "model_module_version": "1.2.0",
          "state": {
            "_model_module": "@jupyter-widgets/base",
            "_model_module_version": "1.2.0",
            "_model_name": "LayoutModel",
            "_view_count": null,
            "_view_module": "@jupyter-widgets/base",
            "_view_module_version": "1.2.0",
            "_view_name": "LayoutView",
            "align_content": null,
            "align_items": null,
            "align_self": null,
            "border": null,
            "bottom": null,
            "display": null,
            "flex": null,
            "flex_flow": null,
            "grid_area": null,
            "grid_auto_columns": null,
            "grid_auto_flow": null,
            "grid_auto_rows": null,
            "grid_column": null,
            "grid_gap": null,
            "grid_row": null,
            "grid_template_areas": null,
            "grid_template_columns": null,
            "grid_template_rows": null,
            "height": null,
            "justify_content": null,
            "justify_items": null,
            "left": null,
            "margin": null,
            "max_height": null,
            "max_width": null,
            "min_height": null,
            "min_width": null,
            "object_fit": null,
            "object_position": null,
            "order": null,
            "overflow": null,
            "overflow_x": null,
            "overflow_y": null,
            "padding": null,
            "right": null,
            "top": null,
            "visibility": null,
            "width": null
          }
        },
        "279d70f0472e46848b14f9fad5faceed": {
          "model_module": "@jupyter-widgets/controls",
          "model_name": "ProgressStyleModel",
          "model_module_version": "1.5.0",
          "state": {
            "_model_module": "@jupyter-widgets/controls",
            "_model_module_version": "1.5.0",
            "_model_name": "ProgressStyleModel",
            "_view_count": null,
            "_view_module": "@jupyter-widgets/base",
            "_view_module_version": "1.2.0",
            "_view_name": "StyleView",
            "bar_color": null,
            "description_width": ""
          }
        },
        "2e3dd320b360467f823e32e64fec6d90": {
          "model_module": "@jupyter-widgets/base",
          "model_name": "LayoutModel",
          "model_module_version": "1.2.0",
          "state": {
            "_model_module": "@jupyter-widgets/base",
            "_model_module_version": "1.2.0",
            "_model_name": "LayoutModel",
            "_view_count": null,
            "_view_module": "@jupyter-widgets/base",
            "_view_module_version": "1.2.0",
            "_view_name": "LayoutView",
            "align_content": null,
            "align_items": null,
            "align_self": null,
            "border": null,
            "bottom": null,
            "display": null,
            "flex": null,
            "flex_flow": null,
            "grid_area": null,
            "grid_auto_columns": null,
            "grid_auto_flow": null,
            "grid_auto_rows": null,
            "grid_column": null,
            "grid_gap": null,
            "grid_row": null,
            "grid_template_areas": null,
            "grid_template_columns": null,
            "grid_template_rows": null,
            "height": null,
            "justify_content": null,
            "justify_items": null,
            "left": null,
            "margin": null,
            "max_height": null,
            "max_width": null,
            "min_height": null,
            "min_width": null,
            "object_fit": null,
            "object_position": null,
            "order": null,
            "overflow": null,
            "overflow_x": null,
            "overflow_y": null,
            "padding": null,
            "right": null,
            "top": null,
            "visibility": null,
            "width": null
          }
        },
        "54cf603b696e4d1a905cb560931737dd": {
          "model_module": "@jupyter-widgets/controls",
          "model_name": "DescriptionStyleModel",
          "model_module_version": "1.5.0",
          "state": {
            "_model_module": "@jupyter-widgets/controls",
            "_model_module_version": "1.5.0",
            "_model_name": "DescriptionStyleModel",
            "_view_count": null,
            "_view_module": "@jupyter-widgets/base",
            "_view_module_version": "1.2.0",
            "_view_name": "StyleView",
            "description_width": ""
          }
        },
        "1e3eda31d3e14ad588ec625d4b25e9bb": {
          "model_module": "@jupyter-widgets/controls",
          "model_name": "HBoxModel",
          "model_module_version": "1.5.0",
          "state": {
            "_dom_classes": [],
            "_model_module": "@jupyter-widgets/controls",
            "_model_module_version": "1.5.0",
            "_model_name": "HBoxModel",
            "_view_count": null,
            "_view_module": "@jupyter-widgets/controls",
            "_view_module_version": "1.5.0",
            "_view_name": "HBoxView",
            "box_style": "",
            "children": [
              "IPY_MODEL_47bf685535a3406fb5cbe23d354c7a92",
              "IPY_MODEL_cccc4247e62f4364941925ebd7a157b8",
              "IPY_MODEL_0a8c6782570349ef9e9d54a3893562b3"
            ],
            "layout": "IPY_MODEL_e7b19ec381184561a876047c78e1e8d8"
          }
        },
        "47bf685535a3406fb5cbe23d354c7a92": {
          "model_module": "@jupyter-widgets/controls",
          "model_name": "HTMLModel",
          "model_module_version": "1.5.0",
          "state": {
            "_dom_classes": [],
            "_model_module": "@jupyter-widgets/controls",
            "_model_module_version": "1.5.0",
            "_model_name": "HTMLModel",
            "_view_count": null,
            "_view_module": "@jupyter-widgets/controls",
            "_view_module_version": "1.5.0",
            "_view_name": "HTMLView",
            "description": "",
            "description_tooltip": null,
            "layout": "IPY_MODEL_801cb8412c934e0f8b9dcb6e91269f59",
            "placeholder": "​",
            "style": "IPY_MODEL_1e1f8ba3785c47a296445dbd01256e0e",
            "value": "Downloading data: 100%"
          }
        },
        "cccc4247e62f4364941925ebd7a157b8": {
          "model_module": "@jupyter-widgets/controls",
          "model_name": "FloatProgressModel",
          "model_module_version": "1.5.0",
          "state": {
            "_dom_classes": [],
            "_model_module": "@jupyter-widgets/controls",
            "_model_module_version": "1.5.0",
            "_model_name": "FloatProgressModel",
            "_view_count": null,
            "_view_module": "@jupyter-widgets/controls",
            "_view_module_version": "1.5.0",
            "_view_name": "ProgressView",
            "bar_style": "success",
            "description": "",
            "description_tooltip": null,
            "layout": "IPY_MODEL_52601f2509ce4078b5a7499331a42e78",
            "max": 142508585,
            "min": 0,
            "orientation": "horizontal",
            "style": "IPY_MODEL_d6a9273d078d4eed9aac974ed9e42c17",
            "value": 142508585
          }
        },
        "0a8c6782570349ef9e9d54a3893562b3": {
          "model_module": "@jupyter-widgets/controls",
          "model_name": "HTMLModel",
          "model_module_version": "1.5.0",
          "state": {
            "_dom_classes": [],
            "_model_module": "@jupyter-widgets/controls",
            "_model_module_version": "1.5.0",
            "_model_name": "HTMLModel",
            "_view_count": null,
            "_view_module": "@jupyter-widgets/controls",
            "_view_module_version": "1.5.0",
            "_view_name": "HTMLView",
            "description": "",
            "description_tooltip": null,
            "layout": "IPY_MODEL_02d6cf054e404dd0a00f8bc4c4c4b371",
            "placeholder": "​",
            "style": "IPY_MODEL_3ecfffca7e6943228862c3c3c25f30b5",
            "value": " 143M/143M [00:04&lt;00:00, 30.5MB/s]"
          }
        },
        "e7b19ec381184561a876047c78e1e8d8": {
          "model_module": "@jupyter-widgets/base",
          "model_name": "LayoutModel",
          "model_module_version": "1.2.0",
          "state": {
            "_model_module": "@jupyter-widgets/base",
            "_model_module_version": "1.2.0",
            "_model_name": "LayoutModel",
            "_view_count": null,
            "_view_module": "@jupyter-widgets/base",
            "_view_module_version": "1.2.0",
            "_view_name": "LayoutView",
            "align_content": null,
            "align_items": null,
            "align_self": null,
            "border": null,
            "bottom": null,
            "display": null,
            "flex": null,
            "flex_flow": null,
            "grid_area": null,
            "grid_auto_columns": null,
            "grid_auto_flow": null,
            "grid_auto_rows": null,
            "grid_column": null,
            "grid_gap": null,
            "grid_row": null,
            "grid_template_areas": null,
            "grid_template_columns": null,
            "grid_template_rows": null,
            "height": null,
            "justify_content": null,
            "justify_items": null,
            "left": null,
            "margin": null,
            "max_height": null,
            "max_width": null,
            "min_height": null,
            "min_width": null,
            "object_fit": null,
            "object_position": null,
            "order": null,
            "overflow": null,
            "overflow_x": null,
            "overflow_y": null,
            "padding": null,
            "right": null,
            "top": null,
            "visibility": null,
            "width": null
          }
        },
        "801cb8412c934e0f8b9dcb6e91269f59": {
          "model_module": "@jupyter-widgets/base",
          "model_name": "LayoutModel",
          "model_module_version": "1.2.0",
          "state": {
            "_model_module": "@jupyter-widgets/base",
            "_model_module_version": "1.2.0",
            "_model_name": "LayoutModel",
            "_view_count": null,
            "_view_module": "@jupyter-widgets/base",
            "_view_module_version": "1.2.0",
            "_view_name": "LayoutView",
            "align_content": null,
            "align_items": null,
            "align_self": null,
            "border": null,
            "bottom": null,
            "display": null,
            "flex": null,
            "flex_flow": null,
            "grid_area": null,
            "grid_auto_columns": null,
            "grid_auto_flow": null,
            "grid_auto_rows": null,
            "grid_column": null,
            "grid_gap": null,
            "grid_row": null,
            "grid_template_areas": null,
            "grid_template_columns": null,
            "grid_template_rows": null,
            "height": null,
            "justify_content": null,
            "justify_items": null,
            "left": null,
            "margin": null,
            "max_height": null,
            "max_width": null,
            "min_height": null,
            "min_width": null,
            "object_fit": null,
            "object_position": null,
            "order": null,
            "overflow": null,
            "overflow_x": null,
            "overflow_y": null,
            "padding": null,
            "right": null,
            "top": null,
            "visibility": null,
            "width": null
          }
        },
        "1e1f8ba3785c47a296445dbd01256e0e": {
          "model_module": "@jupyter-widgets/controls",
          "model_name": "DescriptionStyleModel",
          "model_module_version": "1.5.0",
          "state": {
            "_model_module": "@jupyter-widgets/controls",
            "_model_module_version": "1.5.0",
            "_model_name": "DescriptionStyleModel",
            "_view_count": null,
            "_view_module": "@jupyter-widgets/base",
            "_view_module_version": "1.2.0",
            "_view_name": "StyleView",
            "description_width": ""
          }
        },
        "52601f2509ce4078b5a7499331a42e78": {
          "model_module": "@jupyter-widgets/base",
          "model_name": "LayoutModel",
          "model_module_version": "1.2.0",
          "state": {
            "_model_module": "@jupyter-widgets/base",
            "_model_module_version": "1.2.0",
            "_model_name": "LayoutModel",
            "_view_count": null,
            "_view_module": "@jupyter-widgets/base",
            "_view_module_version": "1.2.0",
            "_view_name": "LayoutView",
            "align_content": null,
            "align_items": null,
            "align_self": null,
            "border": null,
            "bottom": null,
            "display": null,
            "flex": null,
            "flex_flow": null,
            "grid_area": null,
            "grid_auto_columns": null,
            "grid_auto_flow": null,
            "grid_auto_rows": null,
            "grid_column": null,
            "grid_gap": null,
            "grid_row": null,
            "grid_template_areas": null,
            "grid_template_columns": null,
            "grid_template_rows": null,
            "height": null,
            "justify_content": null,
            "justify_items": null,
            "left": null,
            "margin": null,
            "max_height": null,
            "max_width": null,
            "min_height": null,
            "min_width": null,
            "object_fit": null,
            "object_position": null,
            "order": null,
            "overflow": null,
            "overflow_x": null,
            "overflow_y": null,
            "padding": null,
            "right": null,
            "top": null,
            "visibility": null,
            "width": null
          }
        },
        "d6a9273d078d4eed9aac974ed9e42c17": {
          "model_module": "@jupyter-widgets/controls",
          "model_name": "ProgressStyleModel",
          "model_module_version": "1.5.0",
          "state": {
            "_model_module": "@jupyter-widgets/controls",
            "_model_module_version": "1.5.0",
            "_model_name": "ProgressStyleModel",
            "_view_count": null,
            "_view_module": "@jupyter-widgets/base",
            "_view_module_version": "1.2.0",
            "_view_name": "StyleView",
            "bar_color": null,
            "description_width": ""
          }
        },
        "02d6cf054e404dd0a00f8bc4c4c4b371": {
          "model_module": "@jupyter-widgets/base",
          "model_name": "LayoutModel",
          "model_module_version": "1.2.0",
          "state": {
            "_model_module": "@jupyter-widgets/base",
            "_model_module_version": "1.2.0",
            "_model_name": "LayoutModel",
            "_view_count": null,
            "_view_module": "@jupyter-widgets/base",
            "_view_module_version": "1.2.0",
            "_view_name": "LayoutView",
            "align_content": null,
            "align_items": null,
            "align_self": null,
            "border": null,
            "bottom": null,
            "display": null,
            "flex": null,
            "flex_flow": null,
            "grid_area": null,
            "grid_auto_columns": null,
            "grid_auto_flow": null,
            "grid_auto_rows": null,
            "grid_column": null,
            "grid_gap": null,
            "grid_row": null,
            "grid_template_areas": null,
            "grid_template_columns": null,
            "grid_template_rows": null,
            "height": null,
            "justify_content": null,
            "justify_items": null,
            "left": null,
            "margin": null,
            "max_height": null,
            "max_width": null,
            "min_height": null,
            "min_width": null,
            "object_fit": null,
            "object_position": null,
            "order": null,
            "overflow": null,
            "overflow_x": null,
            "overflow_y": null,
            "padding": null,
            "right": null,
            "top": null,
            "visibility": null,
            "width": null
          }
        },
        "3ecfffca7e6943228862c3c3c25f30b5": {
          "model_module": "@jupyter-widgets/controls",
          "model_name": "DescriptionStyleModel",
          "model_module_version": "1.5.0",
          "state": {
            "_model_module": "@jupyter-widgets/controls",
            "_model_module_version": "1.5.0",
            "_model_name": "DescriptionStyleModel",
            "_view_count": null,
            "_view_module": "@jupyter-widgets/base",
            "_view_module_version": "1.2.0",
            "_view_name": "StyleView",
            "description_width": ""
          }
        },
        "400049693b7a49e78c2252f80dd734a8": {
          "model_module": "@jupyter-widgets/controls",
          "model_name": "HBoxModel",
          "model_module_version": "1.5.0",
          "state": {
            "_dom_classes": [],
            "_model_module": "@jupyter-widgets/controls",
            "_model_module_version": "1.5.0",
            "_model_name": "HBoxModel",
            "_view_count": null,
            "_view_module": "@jupyter-widgets/controls",
            "_view_module_version": "1.5.0",
            "_view_name": "HBoxView",
            "box_style": "",
            "children": [
              "IPY_MODEL_27bc729b25d24dad974f185227212226",
              "IPY_MODEL_56b7af68d05b492b9c1ba0fbaf2c69cf",
              "IPY_MODEL_246d1877d1f24e419d964d25be0d9fad"
            ],
            "layout": "IPY_MODEL_3e62f9a7c2f04d3b866d13854029ee82"
          }
        },
        "27bc729b25d24dad974f185227212226": {
          "model_module": "@jupyter-widgets/controls",
          "model_name": "HTMLModel",
          "model_module_version": "1.5.0",
          "state": {
            "_dom_classes": [],
            "_model_module": "@jupyter-widgets/controls",
            "_model_module_version": "1.5.0",
            "_model_name": "HTMLModel",
            "_view_count": null,
            "_view_module": "@jupyter-widgets/controls",
            "_view_module_version": "1.5.0",
            "_view_name": "HTMLView",
            "description": "",
            "description_tooltip": null,
            "layout": "IPY_MODEL_0d5d4d22f3de43de8afd8c80556d092c",
            "placeholder": "​",
            "style": "IPY_MODEL_e5d3021bfd0c4d67a2ea0ad1f2fdca04",
            "value": "Extracting data files: 100%"
          }
        },
        "56b7af68d05b492b9c1ba0fbaf2c69cf": {
          "model_module": "@jupyter-widgets/controls",
          "model_name": "FloatProgressModel",
          "model_module_version": "1.5.0",
          "state": {
            "_dom_classes": [],
            "_model_module": "@jupyter-widgets/controls",
            "_model_module_version": "1.5.0",
            "_model_name": "FloatProgressModel",
            "_view_count": null,
            "_view_module": "@jupyter-widgets/controls",
            "_view_module_version": "1.5.0",
            "_view_name": "ProgressView",
            "bar_style": "success",
            "description": "",
            "description_tooltip": null,
            "layout": "IPY_MODEL_751c5c2b893e4eee87357c958a75d41e",
            "max": 2,
            "min": 0,
            "orientation": "horizontal",
            "style": "IPY_MODEL_b1b7fa4887c040348c3ab92c203e1d07",
            "value": 2
          }
        },
        "246d1877d1f24e419d964d25be0d9fad": {
          "model_module": "@jupyter-widgets/controls",
          "model_name": "HTMLModel",
          "model_module_version": "1.5.0",
          "state": {
            "_dom_classes": [],
            "_model_module": "@jupyter-widgets/controls",
            "_model_module_version": "1.5.0",
            "_model_name": "HTMLModel",
            "_view_count": null,
            "_view_module": "@jupyter-widgets/controls",
            "_view_module_version": "1.5.0",
            "_view_name": "HTMLView",
            "description": "",
            "description_tooltip": null,
            "layout": "IPY_MODEL_bec7559cec5a4d899196f70a7f0882cb",
            "placeholder": "​",
            "style": "IPY_MODEL_b9512e880fe84d08825104914ecdc2a9",
            "value": " 2/2 [00:00&lt;00:00, 40.17it/s]"
          }
        },
        "3e62f9a7c2f04d3b866d13854029ee82": {
          "model_module": "@jupyter-widgets/base",
          "model_name": "LayoutModel",
          "model_module_version": "1.2.0",
          "state": {
            "_model_module": "@jupyter-widgets/base",
            "_model_module_version": "1.2.0",
            "_model_name": "LayoutModel",
            "_view_count": null,
            "_view_module": "@jupyter-widgets/base",
            "_view_module_version": "1.2.0",
            "_view_name": "LayoutView",
            "align_content": null,
            "align_items": null,
            "align_self": null,
            "border": null,
            "bottom": null,
            "display": null,
            "flex": null,
            "flex_flow": null,
            "grid_area": null,
            "grid_auto_columns": null,
            "grid_auto_flow": null,
            "grid_auto_rows": null,
            "grid_column": null,
            "grid_gap": null,
            "grid_row": null,
            "grid_template_areas": null,
            "grid_template_columns": null,
            "grid_template_rows": null,
            "height": null,
            "justify_content": null,
            "justify_items": null,
            "left": null,
            "margin": null,
            "max_height": null,
            "max_width": null,
            "min_height": null,
            "min_width": null,
            "object_fit": null,
            "object_position": null,
            "order": null,
            "overflow": null,
            "overflow_x": null,
            "overflow_y": null,
            "padding": null,
            "right": null,
            "top": null,
            "visibility": null,
            "width": null
          }
        },
        "0d5d4d22f3de43de8afd8c80556d092c": {
          "model_module": "@jupyter-widgets/base",
          "model_name": "LayoutModel",
          "model_module_version": "1.2.0",
          "state": {
            "_model_module": "@jupyter-widgets/base",
            "_model_module_version": "1.2.0",
            "_model_name": "LayoutModel",
            "_view_count": null,
            "_view_module": "@jupyter-widgets/base",
            "_view_module_version": "1.2.0",
            "_view_name": "LayoutView",
            "align_content": null,
            "align_items": null,
            "align_self": null,
            "border": null,
            "bottom": null,
            "display": null,
            "flex": null,
            "flex_flow": null,
            "grid_area": null,
            "grid_auto_columns": null,
            "grid_auto_flow": null,
            "grid_auto_rows": null,
            "grid_column": null,
            "grid_gap": null,
            "grid_row": null,
            "grid_template_areas": null,
            "grid_template_columns": null,
            "grid_template_rows": null,
            "height": null,
            "justify_content": null,
            "justify_items": null,
            "left": null,
            "margin": null,
            "max_height": null,
            "max_width": null,
            "min_height": null,
            "min_width": null,
            "object_fit": null,
            "object_position": null,
            "order": null,
            "overflow": null,
            "overflow_x": null,
            "overflow_y": null,
            "padding": null,
            "right": null,
            "top": null,
            "visibility": null,
            "width": null
          }
        },
        "e5d3021bfd0c4d67a2ea0ad1f2fdca04": {
          "model_module": "@jupyter-widgets/controls",
          "model_name": "DescriptionStyleModel",
          "model_module_version": "1.5.0",
          "state": {
            "_model_module": "@jupyter-widgets/controls",
            "_model_module_version": "1.5.0",
            "_model_name": "DescriptionStyleModel",
            "_view_count": null,
            "_view_module": "@jupyter-widgets/base",
            "_view_module_version": "1.2.0",
            "_view_name": "StyleView",
            "description_width": ""
          }
        },
        "751c5c2b893e4eee87357c958a75d41e": {
          "model_module": "@jupyter-widgets/base",
          "model_name": "LayoutModel",
          "model_module_version": "1.2.0",
          "state": {
            "_model_module": "@jupyter-widgets/base",
            "_model_module_version": "1.2.0",
            "_model_name": "LayoutModel",
            "_view_count": null,
            "_view_module": "@jupyter-widgets/base",
            "_view_module_version": "1.2.0",
            "_view_name": "LayoutView",
            "align_content": null,
            "align_items": null,
            "align_self": null,
            "border": null,
            "bottom": null,
            "display": null,
            "flex": null,
            "flex_flow": null,
            "grid_area": null,
            "grid_auto_columns": null,
            "grid_auto_flow": null,
            "grid_auto_rows": null,
            "grid_column": null,
            "grid_gap": null,
            "grid_row": null,
            "grid_template_areas": null,
            "grid_template_columns": null,
            "grid_template_rows": null,
            "height": null,
            "justify_content": null,
            "justify_items": null,
            "left": null,
            "margin": null,
            "max_height": null,
            "max_width": null,
            "min_height": null,
            "min_width": null,
            "object_fit": null,
            "object_position": null,
            "order": null,
            "overflow": null,
            "overflow_x": null,
            "overflow_y": null,
            "padding": null,
            "right": null,
            "top": null,
            "visibility": null,
            "width": null
          }
        },
        "b1b7fa4887c040348c3ab92c203e1d07": {
          "model_module": "@jupyter-widgets/controls",
          "model_name": "ProgressStyleModel",
          "model_module_version": "1.5.0",
          "state": {
            "_model_module": "@jupyter-widgets/controls",
            "_model_module_version": "1.5.0",
            "_model_name": "ProgressStyleModel",
            "_view_count": null,
            "_view_module": "@jupyter-widgets/base",
            "_view_module_version": "1.2.0",
            "_view_name": "StyleView",
            "bar_color": null,
            "description_width": ""
          }
        },
        "bec7559cec5a4d899196f70a7f0882cb": {
          "model_module": "@jupyter-widgets/base",
          "model_name": "LayoutModel",
          "model_module_version": "1.2.0",
          "state": {
            "_model_module": "@jupyter-widgets/base",
            "_model_module_version": "1.2.0",
            "_model_name": "LayoutModel",
            "_view_count": null,
            "_view_module": "@jupyter-widgets/base",
            "_view_module_version": "1.2.0",
            "_view_name": "LayoutView",
            "align_content": null,
            "align_items": null,
            "align_self": null,
            "border": null,
            "bottom": null,
            "display": null,
            "flex": null,
            "flex_flow": null,
            "grid_area": null,
            "grid_auto_columns": null,
            "grid_auto_flow": null,
            "grid_auto_rows": null,
            "grid_column": null,
            "grid_gap": null,
            "grid_row": null,
            "grid_template_areas": null,
            "grid_template_columns": null,
            "grid_template_rows": null,
            "height": null,
            "justify_content": null,
            "justify_items": null,
            "left": null,
            "margin": null,
            "max_height": null,
            "max_width": null,
            "min_height": null,
            "min_width": null,
            "object_fit": null,
            "object_position": null,
            "order": null,
            "overflow": null,
            "overflow_x": null,
            "overflow_y": null,
            "padding": null,
            "right": null,
            "top": null,
            "visibility": null,
            "width": null
          }
        },
        "b9512e880fe84d08825104914ecdc2a9": {
          "model_module": "@jupyter-widgets/controls",
          "model_name": "DescriptionStyleModel",
          "model_module_version": "1.5.0",
          "state": {
            "_model_module": "@jupyter-widgets/controls",
            "_model_module_version": "1.5.0",
            "_model_name": "DescriptionStyleModel",
            "_view_count": null,
            "_view_module": "@jupyter-widgets/base",
            "_view_module_version": "1.2.0",
            "_view_name": "StyleView",
            "description_width": ""
          }
        },
        "a354f0c03397441a99a5976df3da795d": {
          "model_module": "@jupyter-widgets/controls",
          "model_name": "HBoxModel",
          "model_module_version": "1.5.0",
          "state": {
            "_dom_classes": [],
            "_model_module": "@jupyter-widgets/controls",
            "_model_module_version": "1.5.0",
            "_model_name": "HBoxModel",
            "_view_count": null,
            "_view_module": "@jupyter-widgets/controls",
            "_view_module_version": "1.5.0",
            "_view_name": "HBoxView",
            "box_style": "",
            "children": [
              "IPY_MODEL_2f6e4f9a5941430f8f1319643f2ddcdc",
              "IPY_MODEL_e7aa6c2ca71e46d1969ca93ca6bb72b1",
              "IPY_MODEL_595ac1fa40b04a3f829bb1f4d17cf7cd"
            ],
            "layout": "IPY_MODEL_6ae60109107140d2ab7e757101c9d388"
          }
        },
        "2f6e4f9a5941430f8f1319643f2ddcdc": {
          "model_module": "@jupyter-widgets/controls",
          "model_name": "HTMLModel",
          "model_module_version": "1.5.0",
          "state": {
            "_dom_classes": [],
            "_model_module": "@jupyter-widgets/controls",
            "_model_module_version": "1.5.0",
            "_model_name": "HTMLModel",
            "_view_count": null,
            "_view_module": "@jupyter-widgets/controls",
            "_view_module_version": "1.5.0",
            "_view_name": "HTMLView",
            "description": "",
            "description_tooltip": null,
            "layout": "IPY_MODEL_8f61dc7307844ba2bcfa56ecf6528c7d",
            "placeholder": "​",
            "style": "IPY_MODEL_982de1ee19474040b7ccea0339adeee0",
            "value": "Generating train split: "
          }
        },
        "e7aa6c2ca71e46d1969ca93ca6bb72b1": {
          "model_module": "@jupyter-widgets/controls",
          "model_name": "FloatProgressModel",
          "model_module_version": "1.5.0",
          "state": {
            "_dom_classes": [],
            "_model_module": "@jupyter-widgets/controls",
            "_model_module_version": "1.5.0",
            "_model_name": "FloatProgressModel",
            "_view_count": null,
            "_view_module": "@jupyter-widgets/controls",
            "_view_module_version": "1.5.0",
            "_view_name": "ProgressView",
            "bar_style": "info",
            "description": "",
            "description_tooltip": null,
            "layout": "IPY_MODEL_8c48fbc040dd4bd8860e84c27cf599a5",
            "max": 1,
            "min": 0,
            "orientation": "horizontal",
            "style": "IPY_MODEL_cfe797965104436dbd7d40cee508acdf",
            "value": 1
          }
        },
        "595ac1fa40b04a3f829bb1f4d17cf7cd": {
          "model_module": "@jupyter-widgets/controls",
          "model_name": "HTMLModel",
          "model_module_version": "1.5.0",
          "state": {
            "_dom_classes": [],
            "_model_module": "@jupyter-widgets/controls",
            "_model_module_version": "1.5.0",
            "_model_name": "HTMLModel",
            "_view_count": null,
            "_view_module": "@jupyter-widgets/controls",
            "_view_module_version": "1.5.0",
            "_view_name": "HTMLView",
            "description": "",
            "description_tooltip": null,
            "layout": "IPY_MODEL_7eb61e43e22e4e95b2757348c0871c70",
            "placeholder": "​",
            "style": "IPY_MODEL_99a7f5525aac486da1516871d87b4854",
            "value": " 36144/0 [00:09&lt;00:00, 6728.66 examples/s]"
          }
        },
        "6ae60109107140d2ab7e757101c9d388": {
          "model_module": "@jupyter-widgets/base",
          "model_name": "LayoutModel",
          "model_module_version": "1.2.0",
          "state": {
            "_model_module": "@jupyter-widgets/base",
            "_model_module_version": "1.2.0",
            "_model_name": "LayoutModel",
            "_view_count": null,
            "_view_module": "@jupyter-widgets/base",
            "_view_module_version": "1.2.0",
            "_view_name": "LayoutView",
            "align_content": null,
            "align_items": null,
            "align_self": null,
            "border": null,
            "bottom": null,
            "display": null,
            "flex": null,
            "flex_flow": null,
            "grid_area": null,
            "grid_auto_columns": null,
            "grid_auto_flow": null,
            "grid_auto_rows": null,
            "grid_column": null,
            "grid_gap": null,
            "grid_row": null,
            "grid_template_areas": null,
            "grid_template_columns": null,
            "grid_template_rows": null,
            "height": null,
            "justify_content": null,
            "justify_items": null,
            "left": null,
            "margin": null,
            "max_height": null,
            "max_width": null,
            "min_height": null,
            "min_width": null,
            "object_fit": null,
            "object_position": null,
            "order": null,
            "overflow": null,
            "overflow_x": null,
            "overflow_y": null,
            "padding": null,
            "right": null,
            "top": null,
            "visibility": null,
            "width": null
          }
        },
        "8f61dc7307844ba2bcfa56ecf6528c7d": {
          "model_module": "@jupyter-widgets/base",
          "model_name": "LayoutModel",
          "model_module_version": "1.2.0",
          "state": {
            "_model_module": "@jupyter-widgets/base",
            "_model_module_version": "1.2.0",
            "_model_name": "LayoutModel",
            "_view_count": null,
            "_view_module": "@jupyter-widgets/base",
            "_view_module_version": "1.2.0",
            "_view_name": "LayoutView",
            "align_content": null,
            "align_items": null,
            "align_self": null,
            "border": null,
            "bottom": null,
            "display": null,
            "flex": null,
            "flex_flow": null,
            "grid_area": null,
            "grid_auto_columns": null,
            "grid_auto_flow": null,
            "grid_auto_rows": null,
            "grid_column": null,
            "grid_gap": null,
            "grid_row": null,
            "grid_template_areas": null,
            "grid_template_columns": null,
            "grid_template_rows": null,
            "height": null,
            "justify_content": null,
            "justify_items": null,
            "left": null,
            "margin": null,
            "max_height": null,
            "max_width": null,
            "min_height": null,
            "min_width": null,
            "object_fit": null,
            "object_position": null,
            "order": null,
            "overflow": null,
            "overflow_x": null,
            "overflow_y": null,
            "padding": null,
            "right": null,
            "top": null,
            "visibility": null,
            "width": null
          }
        },
        "982de1ee19474040b7ccea0339adeee0": {
          "model_module": "@jupyter-widgets/controls",
          "model_name": "DescriptionStyleModel",
          "model_module_version": "1.5.0",
          "state": {
            "_model_module": "@jupyter-widgets/controls",
            "_model_module_version": "1.5.0",
            "_model_name": "DescriptionStyleModel",
            "_view_count": null,
            "_view_module": "@jupyter-widgets/base",
            "_view_module_version": "1.2.0",
            "_view_name": "StyleView",
            "description_width": ""
          }
        },
        "8c48fbc040dd4bd8860e84c27cf599a5": {
          "model_module": "@jupyter-widgets/base",
          "model_name": "LayoutModel",
          "model_module_version": "1.2.0",
          "state": {
            "_model_module": "@jupyter-widgets/base",
            "_model_module_version": "1.2.0",
            "_model_name": "LayoutModel",
            "_view_count": null,
            "_view_module": "@jupyter-widgets/base",
            "_view_module_version": "1.2.0",
            "_view_name": "LayoutView",
            "align_content": null,
            "align_items": null,
            "align_self": null,
            "border": null,
            "bottom": null,
            "display": null,
            "flex": null,
            "flex_flow": null,
            "grid_area": null,
            "grid_auto_columns": null,
            "grid_auto_flow": null,
            "grid_auto_rows": null,
            "grid_column": null,
            "grid_gap": null,
            "grid_row": null,
            "grid_template_areas": null,
            "grid_template_columns": null,
            "grid_template_rows": null,
            "height": null,
            "justify_content": null,
            "justify_items": null,
            "left": null,
            "margin": null,
            "max_height": null,
            "max_width": null,
            "min_height": null,
            "min_width": null,
            "object_fit": null,
            "object_position": null,
            "order": null,
            "overflow": null,
            "overflow_x": null,
            "overflow_y": null,
            "padding": null,
            "right": null,
            "top": null,
            "visibility": null,
            "width": "20px"
          }
        },
        "cfe797965104436dbd7d40cee508acdf": {
          "model_module": "@jupyter-widgets/controls",
          "model_name": "ProgressStyleModel",
          "model_module_version": "1.5.0",
          "state": {
            "_model_module": "@jupyter-widgets/controls",
            "_model_module_version": "1.5.0",
            "_model_name": "ProgressStyleModel",
            "_view_count": null,
            "_view_module": "@jupyter-widgets/base",
            "_view_module_version": "1.2.0",
            "_view_name": "StyleView",
            "bar_color": null,
            "description_width": ""
          }
        },
        "7eb61e43e22e4e95b2757348c0871c70": {
          "model_module": "@jupyter-widgets/base",
          "model_name": "LayoutModel",
          "model_module_version": "1.2.0",
          "state": {
            "_model_module": "@jupyter-widgets/base",
            "_model_module_version": "1.2.0",
            "_model_name": "LayoutModel",
            "_view_count": null,
            "_view_module": "@jupyter-widgets/base",
            "_view_module_version": "1.2.0",
            "_view_name": "LayoutView",
            "align_content": null,
            "align_items": null,
            "align_self": null,
            "border": null,
            "bottom": null,
            "display": null,
            "flex": null,
            "flex_flow": null,
            "grid_area": null,
            "grid_auto_columns": null,
            "grid_auto_flow": null,
            "grid_auto_rows": null,
            "grid_column": null,
            "grid_gap": null,
            "grid_row": null,
            "grid_template_areas": null,
            "grid_template_columns": null,
            "grid_template_rows": null,
            "height": null,
            "justify_content": null,
            "justify_items": null,
            "left": null,
            "margin": null,
            "max_height": null,
            "max_width": null,
            "min_height": null,
            "min_width": null,
            "object_fit": null,
            "object_position": null,
            "order": null,
            "overflow": null,
            "overflow_x": null,
            "overflow_y": null,
            "padding": null,
            "right": null,
            "top": null,
            "visibility": null,
            "width": null
          }
        },
        "99a7f5525aac486da1516871d87b4854": {
          "model_module": "@jupyter-widgets/controls",
          "model_name": "DescriptionStyleModel",
          "model_module_version": "1.5.0",
          "state": {
            "_model_module": "@jupyter-widgets/controls",
            "_model_module_version": "1.5.0",
            "_model_name": "DescriptionStyleModel",
            "_view_count": null,
            "_view_module": "@jupyter-widgets/base",
            "_view_module_version": "1.2.0",
            "_view_name": "StyleView",
            "description_width": ""
          }
        },
        "e24838b61bc94bcf8d10f7e2e2166c2d": {
          "model_module": "@jupyter-widgets/controls",
          "model_name": "HBoxModel",
          "model_module_version": "1.5.0",
          "state": {
            "_dom_classes": [],
            "_model_module": "@jupyter-widgets/controls",
            "_model_module_version": "1.5.0",
            "_model_name": "HBoxModel",
            "_view_count": null,
            "_view_module": "@jupyter-widgets/controls",
            "_view_module_version": "1.5.0",
            "_view_name": "HBoxView",
            "box_style": "",
            "children": [
              "IPY_MODEL_e52fac015cfe4257800abbc6a800128d",
              "IPY_MODEL_c485c7f584ec4aaeaa28d0a38093f0c0",
              "IPY_MODEL_0b405aaf796c449aa6ccfae846d84ec8"
            ],
            "layout": "IPY_MODEL_124fac4767d04ea6b4acdfe3ef79d4a5"
          }
        },
        "e52fac015cfe4257800abbc6a800128d": {
          "model_module": "@jupyter-widgets/controls",
          "model_name": "HTMLModel",
          "model_module_version": "1.5.0",
          "state": {
            "_dom_classes": [],
            "_model_module": "@jupyter-widgets/controls",
            "_model_module_version": "1.5.0",
            "_model_name": "HTMLModel",
            "_view_count": null,
            "_view_module": "@jupyter-widgets/controls",
            "_view_module_version": "1.5.0",
            "_view_name": "HTMLView",
            "description": "",
            "description_tooltip": null,
            "layout": "IPY_MODEL_241a4227dbe84686b9feff9081cab632",
            "placeholder": "​",
            "style": "IPY_MODEL_0c6b1026e10d40ef8519f3ba44bae4e7",
            "value": "Generating validation split: "
          }
        },
        "c485c7f584ec4aaeaa28d0a38093f0c0": {
          "model_module": "@jupyter-widgets/controls",
          "model_name": "FloatProgressModel",
          "model_module_version": "1.5.0",
          "state": {
            "_dom_classes": [],
            "_model_module": "@jupyter-widgets/controls",
            "_model_module_version": "1.5.0",
            "_model_name": "FloatProgressModel",
            "_view_count": null,
            "_view_module": "@jupyter-widgets/controls",
            "_view_module_version": "1.5.0",
            "_view_name": "ProgressView",
            "bar_style": "info",
            "description": "",
            "description_tooltip": null,
            "layout": "IPY_MODEL_556fa402aafe473e875cd798036377c8",
            "max": 1,
            "min": 0,
            "orientation": "horizontal",
            "style": "IPY_MODEL_9c9c12e6541d4c6d8fa8fc2b70cd945e",
            "value": 1
          }
        },
        "0b405aaf796c449aa6ccfae846d84ec8": {
          "model_module": "@jupyter-widgets/controls",
          "model_name": "HTMLModel",
          "model_module_version": "1.5.0",
          "state": {
            "_dom_classes": [],
            "_model_module": "@jupyter-widgets/controls",
            "_model_module_version": "1.5.0",
            "_model_name": "HTMLModel",
            "_view_count": null,
            "_view_module": "@jupyter-widgets/controls",
            "_view_module_version": "1.5.0",
            "_view_name": "HTMLView",
            "description": "",
            "description_tooltip": null,
            "layout": "IPY_MODEL_b67729a9d38e4eac88b97eca2d82f961",
            "placeholder": "​",
            "style": "IPY_MODEL_7f1d3c7314b240e0ad65633da6b11572",
            "value": " 35850/0 [00:06&lt;00:00, 9889.40 examples/s]"
          }
        },
        "124fac4767d04ea6b4acdfe3ef79d4a5": {
          "model_module": "@jupyter-widgets/base",
          "model_name": "LayoutModel",
          "model_module_version": "1.2.0",
          "state": {
            "_model_module": "@jupyter-widgets/base",
            "_model_module_version": "1.2.0",
            "_model_name": "LayoutModel",
            "_view_count": null,
            "_view_module": "@jupyter-widgets/base",
            "_view_module_version": "1.2.0",
            "_view_name": "LayoutView",
            "align_content": null,
            "align_items": null,
            "align_self": null,
            "border": null,
            "bottom": null,
            "display": null,
            "flex": null,
            "flex_flow": null,
            "grid_area": null,
            "grid_auto_columns": null,
            "grid_auto_flow": null,
            "grid_auto_rows": null,
            "grid_column": null,
            "grid_gap": null,
            "grid_row": null,
            "grid_template_areas": null,
            "grid_template_columns": null,
            "grid_template_rows": null,
            "height": null,
            "justify_content": null,
            "justify_items": null,
            "left": null,
            "margin": null,
            "max_height": null,
            "max_width": null,
            "min_height": null,
            "min_width": null,
            "object_fit": null,
            "object_position": null,
            "order": null,
            "overflow": null,
            "overflow_x": null,
            "overflow_y": null,
            "padding": null,
            "right": null,
            "top": null,
            "visibility": null,
            "width": null
          }
        },
        "241a4227dbe84686b9feff9081cab632": {
          "model_module": "@jupyter-widgets/base",
          "model_name": "LayoutModel",
          "model_module_version": "1.2.0",
          "state": {
            "_model_module": "@jupyter-widgets/base",
            "_model_module_version": "1.2.0",
            "_model_name": "LayoutModel",
            "_view_count": null,
            "_view_module": "@jupyter-widgets/base",
            "_view_module_version": "1.2.0",
            "_view_name": "LayoutView",
            "align_content": null,
            "align_items": null,
            "align_self": null,
            "border": null,
            "bottom": null,
            "display": null,
            "flex": null,
            "flex_flow": null,
            "grid_area": null,
            "grid_auto_columns": null,
            "grid_auto_flow": null,
            "grid_auto_rows": null,
            "grid_column": null,
            "grid_gap": null,
            "grid_row": null,
            "grid_template_areas": null,
            "grid_template_columns": null,
            "grid_template_rows": null,
            "height": null,
            "justify_content": null,
            "justify_items": null,
            "left": null,
            "margin": null,
            "max_height": null,
            "max_width": null,
            "min_height": null,
            "min_width": null,
            "object_fit": null,
            "object_position": null,
            "order": null,
            "overflow": null,
            "overflow_x": null,
            "overflow_y": null,
            "padding": null,
            "right": null,
            "top": null,
            "visibility": null,
            "width": null
          }
        },
        "0c6b1026e10d40ef8519f3ba44bae4e7": {
          "model_module": "@jupyter-widgets/controls",
          "model_name": "DescriptionStyleModel",
          "model_module_version": "1.5.0",
          "state": {
            "_model_module": "@jupyter-widgets/controls",
            "_model_module_version": "1.5.0",
            "_model_name": "DescriptionStyleModel",
            "_view_count": null,
            "_view_module": "@jupyter-widgets/base",
            "_view_module_version": "1.2.0",
            "_view_name": "StyleView",
            "description_width": ""
          }
        },
        "556fa402aafe473e875cd798036377c8": {
          "model_module": "@jupyter-widgets/base",
          "model_name": "LayoutModel",
          "model_module_version": "1.2.0",
          "state": {
            "_model_module": "@jupyter-widgets/base",
            "_model_module_version": "1.2.0",
            "_model_name": "LayoutModel",
            "_view_count": null,
            "_view_module": "@jupyter-widgets/base",
            "_view_module_version": "1.2.0",
            "_view_name": "LayoutView",
            "align_content": null,
            "align_items": null,
            "align_self": null,
            "border": null,
            "bottom": null,
            "display": null,
            "flex": null,
            "flex_flow": null,
            "grid_area": null,
            "grid_auto_columns": null,
            "grid_auto_flow": null,
            "grid_auto_rows": null,
            "grid_column": null,
            "grid_gap": null,
            "grid_row": null,
            "grid_template_areas": null,
            "grid_template_columns": null,
            "grid_template_rows": null,
            "height": null,
            "justify_content": null,
            "justify_items": null,
            "left": null,
            "margin": null,
            "max_height": null,
            "max_width": null,
            "min_height": null,
            "min_width": null,
            "object_fit": null,
            "object_position": null,
            "order": null,
            "overflow": null,
            "overflow_x": null,
            "overflow_y": null,
            "padding": null,
            "right": null,
            "top": null,
            "visibility": null,
            "width": "20px"
          }
        },
        "9c9c12e6541d4c6d8fa8fc2b70cd945e": {
          "model_module": "@jupyter-widgets/controls",
          "model_name": "ProgressStyleModel",
          "model_module_version": "1.5.0",
          "state": {
            "_model_module": "@jupyter-widgets/controls",
            "_model_module_version": "1.5.0",
            "_model_name": "ProgressStyleModel",
            "_view_count": null,
            "_view_module": "@jupyter-widgets/base",
            "_view_module_version": "1.2.0",
            "_view_name": "StyleView",
            "bar_color": null,
            "description_width": ""
          }
        },
        "b67729a9d38e4eac88b97eca2d82f961": {
          "model_module": "@jupyter-widgets/base",
          "model_name": "LayoutModel",
          "model_module_version": "1.2.0",
          "state": {
            "_model_module": "@jupyter-widgets/base",
            "_model_module_version": "1.2.0",
            "_model_name": "LayoutModel",
            "_view_count": null,
            "_view_module": "@jupyter-widgets/base",
            "_view_module_version": "1.2.0",
            "_view_name": "LayoutView",
            "align_content": null,
            "align_items": null,
            "align_self": null,
            "border": null,
            "bottom": null,
            "display": null,
            "flex": null,
            "flex_flow": null,
            "grid_area": null,
            "grid_auto_columns": null,
            "grid_auto_flow": null,
            "grid_auto_rows": null,
            "grid_column": null,
            "grid_gap": null,
            "grid_row": null,
            "grid_template_areas": null,
            "grid_template_columns": null,
            "grid_template_rows": null,
            "height": null,
            "justify_content": null,
            "justify_items": null,
            "left": null,
            "margin": null,
            "max_height": null,
            "max_width": null,
            "min_height": null,
            "min_width": null,
            "object_fit": null,
            "object_position": null,
            "order": null,
            "overflow": null,
            "overflow_x": null,
            "overflow_y": null,
            "padding": null,
            "right": null,
            "top": null,
            "visibility": null,
            "width": null
          }
        },
        "7f1d3c7314b240e0ad65633da6b11572": {
          "model_module": "@jupyter-widgets/controls",
          "model_name": "DescriptionStyleModel",
          "model_module_version": "1.5.0",
          "state": {
            "_model_module": "@jupyter-widgets/controls",
            "_model_module_version": "1.5.0",
            "_model_name": "DescriptionStyleModel",
            "_view_count": null,
            "_view_module": "@jupyter-widgets/base",
            "_view_module_version": "1.2.0",
            "_view_name": "StyleView",
            "description_width": ""
          }
        },
        "1e56e75b15a74aad8379c625fecdc0d7": {
          "model_module": "@jupyter-widgets/controls",
          "model_name": "HBoxModel",
          "model_module_version": "1.5.0",
          "state": {
            "_dom_classes": [],
            "_model_module": "@jupyter-widgets/controls",
            "_model_module_version": "1.5.0",
            "_model_name": "HBoxModel",
            "_view_count": null,
            "_view_module": "@jupyter-widgets/controls",
            "_view_module_version": "1.5.0",
            "_view_name": "HBoxView",
            "box_style": "",
            "children": [
              "IPY_MODEL_9bd0b8f8ecc0448b949d895631260537",
              "IPY_MODEL_e8946ae6111b4863a8c169f5a4bee662",
              "IPY_MODEL_b3a9577aef27453d8b6ae729167871ca"
            ],
            "layout": "IPY_MODEL_d9946d8b77704ad2983a2089824cee50"
          }
        },
        "9bd0b8f8ecc0448b949d895631260537": {
          "model_module": "@jupyter-widgets/controls",
          "model_name": "HTMLModel",
          "model_module_version": "1.5.0",
          "state": {
            "_dom_classes": [],
            "_model_module": "@jupyter-widgets/controls",
            "_model_module_version": "1.5.0",
            "_model_name": "HTMLModel",
            "_view_count": null,
            "_view_module": "@jupyter-widgets/controls",
            "_view_module_version": "1.5.0",
            "_view_name": "HTMLView",
            "description": "",
            "description_tooltip": null,
            "layout": "IPY_MODEL_21b07457cb93494c82d56a80d3ad2de2",
            "placeholder": "​",
            "style": "IPY_MODEL_ebcac9d2c0114580af653c84e99df7e2",
            "value": "100%"
          }
        },
        "e8946ae6111b4863a8c169f5a4bee662": {
          "model_module": "@jupyter-widgets/controls",
          "model_name": "FloatProgressModel",
          "model_module_version": "1.5.0",
          "state": {
            "_dom_classes": [],
            "_model_module": "@jupyter-widgets/controls",
            "_model_module_version": "1.5.0",
            "_model_name": "FloatProgressModel",
            "_view_count": null,
            "_view_module": "@jupyter-widgets/controls",
            "_view_module_version": "1.5.0",
            "_view_name": "ProgressView",
            "bar_style": "success",
            "description": "",
            "description_tooltip": null,
            "layout": "IPY_MODEL_f42221d7e9be4fff99832eb5bf559f94",
            "max": 2,
            "min": 0,
            "orientation": "horizontal",
            "style": "IPY_MODEL_01dbfdbb090f43789907c728d6f69fec",
            "value": 2
          }
        },
        "b3a9577aef27453d8b6ae729167871ca": {
          "model_module": "@jupyter-widgets/controls",
          "model_name": "HTMLModel",
          "model_module_version": "1.5.0",
          "state": {
            "_dom_classes": [],
            "_model_module": "@jupyter-widgets/controls",
            "_model_module_version": "1.5.0",
            "_model_name": "HTMLModel",
            "_view_count": null,
            "_view_module": "@jupyter-widgets/controls",
            "_view_module_version": "1.5.0",
            "_view_name": "HTMLView",
            "description": "",
            "description_tooltip": null,
            "layout": "IPY_MODEL_fd9b4870ae20430b86de3ef3c78e6250",
            "placeholder": "​",
            "style": "IPY_MODEL_e78dacc328dc4f7aaf1124b2dca60da0",
            "value": " 2/2 [00:00&lt;00:00, 20.24it/s]"
          }
        },
        "d9946d8b77704ad2983a2089824cee50": {
          "model_module": "@jupyter-widgets/base",
          "model_name": "LayoutModel",
          "model_module_version": "1.2.0",
          "state": {
            "_model_module": "@jupyter-widgets/base",
            "_model_module_version": "1.2.0",
            "_model_name": "LayoutModel",
            "_view_count": null,
            "_view_module": "@jupyter-widgets/base",
            "_view_module_version": "1.2.0",
            "_view_name": "LayoutView",
            "align_content": null,
            "align_items": null,
            "align_self": null,
            "border": null,
            "bottom": null,
            "display": null,
            "flex": null,
            "flex_flow": null,
            "grid_area": null,
            "grid_auto_columns": null,
            "grid_auto_flow": null,
            "grid_auto_rows": null,
            "grid_column": null,
            "grid_gap": null,
            "grid_row": null,
            "grid_template_areas": null,
            "grid_template_columns": null,
            "grid_template_rows": null,
            "height": null,
            "justify_content": null,
            "justify_items": null,
            "left": null,
            "margin": null,
            "max_height": null,
            "max_width": null,
            "min_height": null,
            "min_width": null,
            "object_fit": null,
            "object_position": null,
            "order": null,
            "overflow": null,
            "overflow_x": null,
            "overflow_y": null,
            "padding": null,
            "right": null,
            "top": null,
            "visibility": null,
            "width": null
          }
        },
        "21b07457cb93494c82d56a80d3ad2de2": {
          "model_module": "@jupyter-widgets/base",
          "model_name": "LayoutModel",
          "model_module_version": "1.2.0",
          "state": {
            "_model_module": "@jupyter-widgets/base",
            "_model_module_version": "1.2.0",
            "_model_name": "LayoutModel",
            "_view_count": null,
            "_view_module": "@jupyter-widgets/base",
            "_view_module_version": "1.2.0",
            "_view_name": "LayoutView",
            "align_content": null,
            "align_items": null,
            "align_self": null,
            "border": null,
            "bottom": null,
            "display": null,
            "flex": null,
            "flex_flow": null,
            "grid_area": null,
            "grid_auto_columns": null,
            "grid_auto_flow": null,
            "grid_auto_rows": null,
            "grid_column": null,
            "grid_gap": null,
            "grid_row": null,
            "grid_template_areas": null,
            "grid_template_columns": null,
            "grid_template_rows": null,
            "height": null,
            "justify_content": null,
            "justify_items": null,
            "left": null,
            "margin": null,
            "max_height": null,
            "max_width": null,
            "min_height": null,
            "min_width": null,
            "object_fit": null,
            "object_position": null,
            "order": null,
            "overflow": null,
            "overflow_x": null,
            "overflow_y": null,
            "padding": null,
            "right": null,
            "top": null,
            "visibility": null,
            "width": null
          }
        },
        "ebcac9d2c0114580af653c84e99df7e2": {
          "model_module": "@jupyter-widgets/controls",
          "model_name": "DescriptionStyleModel",
          "model_module_version": "1.5.0",
          "state": {
            "_model_module": "@jupyter-widgets/controls",
            "_model_module_version": "1.5.0",
            "_model_name": "DescriptionStyleModel",
            "_view_count": null,
            "_view_module": "@jupyter-widgets/base",
            "_view_module_version": "1.2.0",
            "_view_name": "StyleView",
            "description_width": ""
          }
        },
        "f42221d7e9be4fff99832eb5bf559f94": {
          "model_module": "@jupyter-widgets/base",
          "model_name": "LayoutModel",
          "model_module_version": "1.2.0",
          "state": {
            "_model_module": "@jupyter-widgets/base",
            "_model_module_version": "1.2.0",
            "_model_name": "LayoutModel",
            "_view_count": null,
            "_view_module": "@jupyter-widgets/base",
            "_view_module_version": "1.2.0",
            "_view_name": "LayoutView",
            "align_content": null,
            "align_items": null,
            "align_self": null,
            "border": null,
            "bottom": null,
            "display": null,
            "flex": null,
            "flex_flow": null,
            "grid_area": null,
            "grid_auto_columns": null,
            "grid_auto_flow": null,
            "grid_auto_rows": null,
            "grid_column": null,
            "grid_gap": null,
            "grid_row": null,
            "grid_template_areas": null,
            "grid_template_columns": null,
            "grid_template_rows": null,
            "height": null,
            "justify_content": null,
            "justify_items": null,
            "left": null,
            "margin": null,
            "max_height": null,
            "max_width": null,
            "min_height": null,
            "min_width": null,
            "object_fit": null,
            "object_position": null,
            "order": null,
            "overflow": null,
            "overflow_x": null,
            "overflow_y": null,
            "padding": null,
            "right": null,
            "top": null,
            "visibility": null,
            "width": null
          }
        },
        "01dbfdbb090f43789907c728d6f69fec": {
          "model_module": "@jupyter-widgets/controls",
          "model_name": "ProgressStyleModel",
          "model_module_version": "1.5.0",
          "state": {
            "_model_module": "@jupyter-widgets/controls",
            "_model_module_version": "1.5.0",
            "_model_name": "ProgressStyleModel",
            "_view_count": null,
            "_view_module": "@jupyter-widgets/base",
            "_view_module_version": "1.2.0",
            "_view_name": "StyleView",
            "bar_color": null,
            "description_width": ""
          }
        },
        "fd9b4870ae20430b86de3ef3c78e6250": {
          "model_module": "@jupyter-widgets/base",
          "model_name": "LayoutModel",
          "model_module_version": "1.2.0",
          "state": {
            "_model_module": "@jupyter-widgets/base",
            "_model_module_version": "1.2.0",
            "_model_name": "LayoutModel",
            "_view_count": null,
            "_view_module": "@jupyter-widgets/base",
            "_view_module_version": "1.2.0",
            "_view_name": "LayoutView",
            "align_content": null,
            "align_items": null,
            "align_self": null,
            "border": null,
            "bottom": null,
            "display": null,
            "flex": null,
            "flex_flow": null,
            "grid_area": null,
            "grid_auto_columns": null,
            "grid_auto_flow": null,
            "grid_auto_rows": null,
            "grid_column": null,
            "grid_gap": null,
            "grid_row": null,
            "grid_template_areas": null,
            "grid_template_columns": null,
            "grid_template_rows": null,
            "height": null,
            "justify_content": null,
            "justify_items": null,
            "left": null,
            "margin": null,
            "max_height": null,
            "max_width": null,
            "min_height": null,
            "min_width": null,
            "object_fit": null,
            "object_position": null,
            "order": null,
            "overflow": null,
            "overflow_x": null,
            "overflow_y": null,
            "padding": null,
            "right": null,
            "top": null,
            "visibility": null,
            "width": null
          }
        },
        "e78dacc328dc4f7aaf1124b2dca60da0": {
          "model_module": "@jupyter-widgets/controls",
          "model_name": "DescriptionStyleModel",
          "model_module_version": "1.5.0",
          "state": {
            "_model_module": "@jupyter-widgets/controls",
            "_model_module_version": "1.5.0",
            "_model_name": "DescriptionStyleModel",
            "_view_count": null,
            "_view_module": "@jupyter-widgets/base",
            "_view_module_version": "1.2.0",
            "_view_name": "StyleView",
            "description_width": ""
          }
        }
      }
    }
  },
  "nbformat": 4,
  "nbformat_minor": 0
}